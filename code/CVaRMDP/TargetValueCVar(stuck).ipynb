{
 "cells": [
  {
   "cell_type": "markdown",
   "id": "2580eea4",
   "metadata": {},
   "source": [
    "Here we provide some baseline CVaR algorithm."
   ]
  },
  {
   "cell_type": "code",
   "execution_count": 1,
   "id": "2a719b77",
   "metadata": {},
   "outputs": [
    {
     "data": {
      "text/html": [
       "<div><div style = \"float: left;\"><span>6×2 DataFrame</span></div><div style = \"clear: both;\"></div></div><div class = \"data-frame\" style = \"overflow-x: scroll;\"><table class = \"data-frame\" style = \"margin-bottom: 6px;\"><thead><tr class = \"header\"><th class = \"rowNumber\" style = \"font-weight: bold; text-align: right;\">Row</th><th style = \"text-align: left;\">X</th><th style = \"text-align: left;\">p</th></tr><tr class = \"subheader headerLastRow\"><th class = \"rowNumber\" style = \"font-weight: bold; text-align: right;\"></th><th title = \"Int64\" style = \"text-align: left;\">Int64</th><th title = \"Float64\" style = \"text-align: left;\">Float64</th></tr></thead><tbody><tr><td class = \"rowNumber\" style = \"font-weight: bold; text-align: right;\">1</td><td style = \"text-align: right;\">1</td><td style = \"text-align: right;\">0.03</td></tr><tr><td class = \"rowNumber\" style = \"font-weight: bold; text-align: right;\">2</td><td style = \"text-align: right;\">2</td><td style = \"text-align: right;\">0.07</td></tr><tr><td class = \"rowNumber\" style = \"font-weight: bold; text-align: right;\">3</td><td style = \"text-align: right;\">50</td><td style = \"text-align: right;\">0.45</td></tr><tr><td class = \"rowNumber\" style = \"font-weight: bold; text-align: right;\">4</td><td style = \"text-align: right;\">60</td><td style = \"text-align: right;\">0.27</td></tr><tr><td class = \"rowNumber\" style = \"font-weight: bold; text-align: right;\">5</td><td style = \"text-align: right;\">70</td><td style = \"text-align: right;\">0.09</td></tr><tr><td class = \"rowNumber\" style = \"font-weight: bold; text-align: right;\">6</td><td style = \"text-align: right;\">80</td><td style = \"text-align: right;\">0.09</td></tr></tbody></table></div>"
      ],
      "text/latex": [
       "\\begin{tabular}{r|cc}\n",
       "\t& X & p\\\\\n",
       "\t\\hline\n",
       "\t& Int64 & Float64\\\\\n",
       "\t\\hline\n",
       "\t1 & 1 & 0.03 \\\\\n",
       "\t2 & 2 & 0.07 \\\\\n",
       "\t3 & 50 & 0.45 \\\\\n",
       "\t4 & 60 & 0.27 \\\\\n",
       "\t5 & 70 & 0.09 \\\\\n",
       "\t6 & 80 & 0.09 \\\\\n",
       "\\end{tabular}\n"
      ],
      "text/plain": [
       "\u001b[1m6×2 DataFrame\u001b[0m\n",
       "\u001b[1m Row \u001b[0m│\u001b[1m X     \u001b[0m\u001b[1m p       \u001b[0m\n",
       "     │\u001b[90m Int64 \u001b[0m\u001b[90m Float64 \u001b[0m\n",
       "─────┼────────────────\n",
       "   1 │     1     0.03\n",
       "   2 │     2     0.07\n",
       "   3 │    50     0.45\n",
       "   4 │    60     0.27\n",
       "   5 │    70     0.09\n",
       "   6 │    80     0.09"
      ]
     },
     "execution_count": 1,
     "metadata": {},
     "output_type": "execute_result"
    }
   ],
   "source": [
    "using DataFrames\n",
    "using CSV \n",
    "\n",
    "# Convert a data frame to MDP.\n",
    "function df2MDP(df;γ = 0.90)\n",
    "    S = unique([df.idstatefrom;df.idstateto])\n",
    "    A = unique(df.idaction)\n",
    "    lSl = length(S)\n",
    "    lAl = length(A)\n",
    "    P = zeros((lSl,lAl,lSl))\n",
    "    R = zeros((lSl,lAl,lSl))\n",
    "    for i in eachrow(df)\n",
    "        P[i.idstatefrom,i.idaction,i.idstateto] += i.probability\n",
    "        R[i.idstatefrom,i.idaction,i.idstateto] += i.reward\n",
    "    end\n",
    "    return (S=S,A=A,P=P,R=R,lSl=lSl,lAl=lAl,γ=γ)\n",
    "end\n",
    "\n",
    "function distribution(X,p)\n",
    "    d = DataFrame(X = X, p = p)\n",
    "    d = d[d.p .> 0,:]\n",
    "    d = combine(groupby(d, [\"X\"]),df -> DataFrame(p = sum(df.p)) ) \n",
    "    sort!(d,[\"X\"]) \n",
    "    return d\n",
    "end\n",
    "# CVaR_Search function takes in a distribution (d) and a vector of risk (Alpha)\n",
    "function search_CVaR(d,α)\n",
    "    # Set lambda\n",
    "    λ = 1-α\n",
    "    if λ == 0\n",
    "        return(minimum(d[d.p .> 0,:].X))\n",
    "    end\n",
    "    αi = min(searchsortedfirst(d.Psum,λ),length(d.Psum))\n",
    "    return( ( d.XTP[αi] + d.X[αi] * (λ - d.Psum[αi]) ) / λ )\n",
    "end\n",
    "\n",
    "# Solve CVaR for multiple Alphas.\n",
    "function search_CVaR_Vec(d,Alpha)\n",
    "    # Here we precompute repeatedly used values, Psum and XTP.\n",
    "    d.Psum = cumsum(d.p)\n",
    "    d.XTP = cumsum(d.X .* d.p)\n",
    "    \n",
    "    return [search_CVaR(d,α) for α in Alpha]\n",
    "end\n",
    "# Conditional X\n",
    "X_1 = [1,1,2,2]\n",
    "X_2 = [50,60,70,80]\n",
    "# Conditional Pmf\n",
    "p1j = [0.1,0.2,0.5,0.2]\n",
    "p2j = [0.5,0.3,0.1,0.1]\n",
    "# Condition probability\n",
    "p_1 = 0.1\n",
    "p_2 = 0.9\n",
    "# Joint Pmf\n",
    "X = [X_1; X_2]\n",
    "p = [p_1 * p1j; p_2 * p2j]\n",
    "# Risk of interest\n",
    "α = 0.7\n",
    "d = distribution(X,p)"
   ]
  },
  {
   "cell_type": "markdown",
   "id": "4aacbdbf",
   "metadata": {},
   "source": [
    "# Targeted Value MDP\n",
    "\n",
    "In this document we focus on CVaR definition of\n",
    "$$\\text{CVaR}^\\pi_\\alpha (R_N) = \\sup_{x \\in \\mathbb{R}}\\{ x + \\frac{1}{1-\\alpha}\\mathbb{E}[(R_N-x)_{-}]\\}$$\n",
    "where $(x)_{-} = \\max(0,x)$ represents the negative part of $x$, and the optimal point hold when $x^\\star = \\text{VaR}_\\alpha(R_N)$.\n",
    "$$\\text{CVaR}^\\pi_\\alpha (R_N) = \\text{VaR}_\\alpha(R_N) + \\frac{1}{1-\\alpha}\\mathbb{E}[(R_N-\\text{VaR}_\\alpha(R_N))_{-}]$$\n",
    "We denote $\\text{VaR}_\\alpha(R_N) = F_{R_N}^{-1}(1-\\alpha) = Q_{R_N}(1-\\alpha) = \\inf\\{r | F_{R_N}(r) \\geq 1-\\alpha\\}$.\n",
    "\n",
    "We can denote the CVaR objective in MDP similarly as:\n",
    "\n",
    "$$\\max_{\\pi \\in \\Pi_{D}}\\text{CVaR}^\\pi_\\alpha (R_N) = \\max_{\\pi \\in \\Pi_{D}}\\sup_{x \\in \\mathbb{R}}\\{ x + \\frac{1}{1-\\alpha}\\mathbb{E}[(R_N-x)_{-}]\\} = \\max_{\\pi \\in \\Pi_{D}}\\{ x ^\\star + \\frac{1}{1-\\alpha}\\mathbb{E}[(R_N-x^\\star)_{-}]\\}$$\n",
    "\n",
    "Note that, $x^\\star = \\text{VaR}_\\alpha(R_N) = F_{R_N}^{-1}(1-\\alpha)$ is a function of $\\alpha$. In this framework, instead of optimizes for a given $\\alpha$, user defined a target value of interest $x^\\star$ and we provide an CVaR MDP which optimizes the objective."
   ]
  },
  {
   "cell_type": "code",
   "execution_count": 2,
   "id": "31b939a8",
   "metadata": {},
   "outputs": [
    {
     "data": {
      "text/plain": [
       "1.865174681370263e-14"
      ]
     },
     "execution_count": 2,
     "metadata": {},
     "output_type": "execute_result"
    }
   ],
   "source": [
    "function targetMean(d, X)\n",
    "    return( [(transpose(d.p) * min.(zeros(nrow(d)), d.X .- x )) for x in X] )\n",
    "end\n",
    "function targetCVaR(d, Alpha,X = d.X)\n",
    "    g = targetMean(d, X )\n",
    "    V = [ ( α >= 1 ? minimum(d[d.p .> 0,:].X) : maximum(X' .+ (g' ./ (1-α))) ) for α in Alpha]\n",
    "    return( V )\n",
    "end\n",
    "Alpha = collect(LinRange(0,1,1001));\n",
    "CVaR = targetCVaR(d,Alpha)\n",
    "CVaR2 = search_CVaR_Vec(d,Alpha)\n",
    "maximum(abs.(CVaR .- CVaR2))"
   ]
  },
  {
   "cell_type": "markdown",
   "id": "778a831c",
   "metadata": {},
   "source": [
    "Given from Baurle that \n",
    "$$w_{n\\pi}(s,x) = \\mathbb{E}^\\pi[(R_n(s)-x)_{-}] \\qquad, \\forall s \\in S, x \\in \\mathbb{R},\\pi \\in \\Pi$$\n",
    "$$w_{n}(s,x) = \\max_{\\pi \\in \\Pi} w_{n\\pi}(s,x) \\qquad, \\forall s \\in S, x \\in \\mathbb{R}$$"
   ]
  },
  {
   "cell_type": "code",
   "execution_count": 3,
   "id": "3f1dd996",
   "metadata": {},
   "outputs": [
    {
     "data": {
      "text/plain": [
       "(S = [1, 2, 3, 4, 5, 6, 7, 8, 9, 10, 11, 12, 13, 14, 15, 16, 17, 18, 19, 20], A = [1, 2], P = [1.0 0.3911739113271663; 1.0 0.1293625065352247; … ; 0.0 0.0; 0.0 0.0;;; 0.0 0.6088260886728338; 0.0 0.2618114047919416; … ; 0.0 0.0; 0.0 0.0;;; 0.0 0.0; 0.0 0.6088260886728338; … ; 0.0 0.0; 0.0 0.0;;; … ;;; 0.0 0.0; 0.0 0.0; … ; 1.0 0.1293625065352247; 0.0 0.0;;; 0.0 0.0; 0.0 0.0; … ; 0.0 0.2618114047919416; 1.0 0.1293625065352247;;; 0.0 0.0; 0.0 0.0; … ; 0.0 0.6088260886728338; 0.0 0.8706374934647755], R = [5.0 0.0; 5.0 0.0; … ; 0.0 0.0; 0.0 0.0;;; 0.0 0.0; 0.0 0.0; … ; 0.0 0.0; 0.0 0.0;;; 0.0 0.0; 0.0 0.0; … ; 0.0 0.0; 0.0 0.0;;; … ;;; 0.0 0.0; 0.0 0.0; … ; 5.0 0.0; 0.0 0.0;;; 0.0 0.0; 0.0 0.0; … ; 0.0 0.0; 5.0 0.0;;; 0.0 0.0; 0.0 0.0; … ; 0.0 0.0; 0.0 87.06374934647752], lSl = 20, lAl = 2, γ = 0.9)"
      ]
     },
     "execution_count": 3,
     "metadata": {},
     "output_type": "execute_result"
    }
   ],
   "source": [
    "df = CSV.read(\"C:/GITHUB/rmdp-jl-2/data/TabMDP/riverswim.csv\", DataFrame)\n",
    "# The document uses \"zero index\" so we need to change to \"one index for julia\"\n",
    "df[:,[\"idstatefrom\",\"idaction\",\"idstateto\"]] = df[:,[\"idstatefrom\",\"idaction\",\"idstateto\"]] .+ 1\n",
    "mdp = df2MDP(df;γ = 0.90)"
   ]
  },
  {
   "cell_type": "code",
   "execution_count": 6,
   "id": "60b094e1",
   "metadata": {},
   "outputs": [
    {
     "data": {
      "text/plain": [
       "L (generic function with 1 method)"
      ]
     },
     "execution_count": 6,
     "metadata": {},
     "output_type": "execute_result"
    }
   ],
   "source": [
    "function target_agg(mdp; digits = 3)\n",
    "    m = round(minimum(mdp.R)/(1-mdp.γ),digits = digits)\n",
    "    M = round(maximum(mdp.R)/(1-mdp.γ),digits = digits)\n",
    "    X = round.(m:(10.0^(-digits)):M,digits = digits)\n",
    "    return X    \n",
    "end\n",
    "function I(xs,X;digits=3,lXl = length(X))\n",
    "    return( min.(lXl,max.(1, round.(Int, ((xs .- X[1]) .* (10.0^digits)) .+ 1 ))) )\n",
    "end\n",
    "function L(MDP,v,a,X;vnew=zeros(size(v)), digits = 3)\n",
    "    for s in MDP.S\n",
    "        for (i,x) in enumerate(X)\n",
    "            for s2 in MDP.S\n",
    "                x2 = I( ((X .- MDP.R[s,a,s2])/MDP.γ) ,X,digits = digits )\n",
    "                vnew[s,i] += sum(v[s2,x2] .* MDP.P[s,a,s2])\n",
    "            end\n",
    "        end\n",
    "    end\n",
    "    return(vnew)\n",
    "end"
   ]
  },
  {
   "cell_type": "code",
   "execution_count": 7,
   "id": "d46f7efd",
   "metadata": {},
   "outputs": [],
   "source": [
    "digits = 0\n",
    "X = target_agg(mdp; digits = digits)\n",
    "lXl = length(X)\n",
    "T = 3\n",
    "v = [ zeros(mdp.lSl,lXl) for n in 1:(T+1) ];"
   ]
  },
  {
   "cell_type": "code",
   "execution_count": 10,
   "id": "acbff727",
   "metadata": {},
   "outputs": [],
   "source": [
    "for t in 1:T\n",
    "    Q = zeros(mdp.lSl,lXl,mdp.lAl)\n",
    "    for a in mdp.A\n",
    "        L(mdp,v[t+1],a,X;vnew=Q[:,:,a], digits = digits)\n",
    "    end\n",
    "    v[t] = mdp.γ .* maximum(Q,dims = 3)[:,:,1]\n",
    "end"
   ]
  },
  {
   "cell_type": "code",
   "execution_count": 11,
   "id": "820d0d13",
   "metadata": {
    "scrolled": false
   },
   "outputs": [
    {
     "data": {
      "text/plain": [
       "4-element Vector{Matrix{Float64}}:\n",
       " [0.0 0.0 … 0.0 0.0; 0.0 0.0 … 0.0 0.0; … ; 0.0 0.0 … 0.0 0.0; 0.0 0.0 … 0.0 0.0]\n",
       " [0.0 0.0 … 0.0 0.0; 0.0 0.0 … 0.0 0.0; … ; 0.0 0.0 … 0.0 0.0; 0.0 0.0 … 0.0 0.0]\n",
       " [0.0 0.0 … 0.0 0.0; 0.0 0.0 … 0.0 0.0; … ; 0.0 0.0 … 0.0 0.0; 0.0 0.0 … 0.0 0.0]\n",
       " [0.0 0.0 … 0.0 0.0; 0.0 0.0 … 0.0 0.0; … ; 0.0 0.0 … 0.0 0.0; 0.0 0.0 … 0.0 0.0]"
      ]
     },
     "execution_count": 11,
     "metadata": {},
     "output_type": "execute_result"
    }
   ],
   "source": [
    "v"
   ]
  },
  {
   "cell_type": "code",
   "execution_count": null,
   "id": "4a7ece61",
   "metadata": {
    "scrolled": true
   },
   "outputs": [],
   "source": [
    "\n",
    "\n",
    "function CVaR_MDP(MDP;T=10,M=10001)\n",
    "    Alpha = LinRange(1,0,M)\n",
    "    V = [[DataFrame() for s in MDP.S] for t in 1:(T+1)]\n",
    "    V[T+1] = [DataFrame(X = [0], p = [1]) for s in MDP.S]\n",
    "    V̂ = [zeros(MDP.lSl,M) for t in 1:T]\n",
    "    π = [zeros(Int64,MDP.lSl,M) for t in 1:T]\n",
    "    Q = [zeros(MDP.lSl,M,MDP.lAl) for t in 1:T]\n",
    "    for t in T:-1:1\n",
    "        for s in MDP.S\n",
    "            for a in MDP.A\n",
    "                Q[t][s,:,a] = CVaR(RtγV(MDP.R[s,a,:],MDP.γ,V[t+1],MDP.P[s,a,:]),Alpha)\n",
    "            end\n",
    "        end\n",
    "        opt = findmax(Q[t],dims=3)\n",
    "        V̂[t] = opt[1][:,:,1]\n",
    "        π[t] = [i[3] for i in opt[2][:,:,1]]\n",
    "        for s in MDP.S\n",
    "            V[t][s] = CVaR2Distribution(V̂[t][s,:],Alpha)\n",
    "        end\n",
    "    end\n",
    "    return (Q=Q,π=π,V=V,V̂=V̂)\n",
    "end"
   ]
  },
  {
   "cell_type": "code",
   "execution_count": null,
   "id": "3c16f071",
   "metadata": {},
   "outputs": [],
   "source": [
    "round( π ,digits=3 )"
   ]
  },
  {
   "cell_type": "code",
   "execution_count": null,
   "id": "1c9ba052",
   "metadata": {},
   "outputs": [],
   "source": []
  }
 ],
 "metadata": {
  "kernelspec": {
   "display_name": "Julia 1.8.5",
   "language": "julia",
   "name": "julia-1.8"
  },
  "language_info": {
   "file_extension": ".jl",
   "mimetype": "application/julia",
   "name": "julia",
   "version": "1.8.5"
  }
 },
 "nbformat": 4,
 "nbformat_minor": 5
}
