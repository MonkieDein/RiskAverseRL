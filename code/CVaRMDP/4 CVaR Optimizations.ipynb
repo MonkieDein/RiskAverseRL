{
 "cells": [
  {
   "cell_type": "markdown",
   "id": "84a93283",
   "metadata": {},
   "source": [
    "# 4. CVaR MDP optimizations\n",
    "\n",
    "### <font color='red'> UNDER CONSTRUCTION !!!:</font>\n",
    "\n",
    "There are two types of update for the available CVaR-MDP.\n",
    "\n",
    "1. Speed: There are three possible area where speed could be optimized in CVaR MDP. \n",
    "\n",
    "    1. Calculation: Obtain CVaR from distribution and recover distribution from the CVaR, are inverse function. Instead of disposing the original distribution and recover from CVaR, we could directly construct the optimistic distribution directly.\n",
    "    \n",
    "    2. Sort: When constructing joint distribution from conditionals, we could use merge sort and assumed that the conditional distribution are already sorted. This modification will lead us from $O(SM log(SM))$ to $O(SM log(S) )$.\n",
    "    \n",
    "    3. Discretization: In order to save computation, we could compute the optimal discretization of CVaR at only P$\\Sigma$.\n",
    "    \n",
    "\n",
    "2. Accuracy: Note that the original CVaR MDP suffers from accurate calculation of value function shown above.\n"
   ]
  },
  {
   "cell_type": "code",
   "execution_count": 26,
   "id": "934f7e31",
   "metadata": {},
   "outputs": [
    {
     "data": {
      "text/plain": [
       "1.3411899"
      ]
     },
     "execution_count": 26,
     "metadata": {},
     "output_type": "execute_result"
    }
   ],
   "source": [
    "df = CSV.read(\"C:/GITHUB/rmdp-jl-2/data/riverswim.csv\", DataFrame)\n",
    "# The document uses \"zero index\" so we need to change to \"one index for julia\"\n",
    "df[:,[\"idstatefrom\",\"idaction\",\"idstateto\",\"idoutcome\"]] = df[:,[\"idstatefrom\",\"idaction\",\"idstateto\",\"idoutcome\"]] .+ 1\n",
    "# Convert a data frame to MDP.\n",
    "function df2MMDP(df;γ = 0.90)\n",
    "    S = unique([df.idstatefrom;df.idstateto])\n",
    "    A = unique(df.idaction)\n",
    "    M = unique(df.idoutcome)\n",
    "    lSl = length(S)\n",
    "    lAl = length(A)\n",
    "    lMl = length(M)\n",
    "    P = zeros((lMl,lSl,lAl,lSl))\n",
    "    R = zeros((lMl,lSl,lAl,lSl))\n",
    "    for m in M\n",
    "        dftemp = filter(x -> x.idoutcome == m ,df)\n",
    "        tempmdp = df2MDP(dftemp;γ = γ)\n",
    "        P[m,:,:,:] = tempmdp.P\n",
    "        R[m,:,:,:] = tempmdp.R\n",
    "    end\n",
    "    return (S=S,A=A,P=P,R=R,lSl=lSl,lAl=lAl,γ=γ)\n",
    "end\n",
    "\n",
    "function MMDP2MDP(MMDP)\n",
    "    return(S=MMDP.S,A=MMDP.A,P=mean(MMDP.P,dims=1)[1,:,:,:],R=mean(MMDP.R,dims=1)[1,:,:,:],lSl=MMDP.lSl,lAl=MMDP.lAl,γ=MMDP.γ)\n",
    "end\n",
    "\n",
    "mdp = MMDP2MDP(df2MMDP(df))\n",
    "    \n",
    "M = 101\n",
    "T = 100\n",
    "sol = CVaR_MDP(mdp;T=T,M=M)\n",
    "@elapsed CVaR_MDP(mdp;T=T,M=M)"
   ]
  },
  {
   "cell_type": "markdown",
   "id": "4bbc3d56",
   "metadata": {},
   "source": [
    "### Accuracy\n",
    "When we are interested in computing accurate CVaR values in at least finite horizon problem, we will need to understand what causes the error in the first place. \n",
    "\n",
    "1. Discretization\n",
    "\n",
    "\n",
    "2. Over-estimation\n",
    "How to remove over estimation, one method to do so is to allow more information to be passed through at each iteration.\n",
    "\n",
    "    1. The question is what are the crucial information to store and what information could be dispose?\n",
    "    \n",
    "##### Look ahead (CVaR MDP)\n",
    "1. Initialize $V_{T+1}(S,\\alpha s) \\gets 0$.\n",
    "2. For $t \\in (T:1)$:\n",
    "    1. $Q_t(s, \\cdot ,a) \\gets ~R(s,a,S') + \\gamma V_{t+1}(S',~\\cdot~)~\\qquad, \\forall s,a$\n",
    "    2. Compute $\\hat{Q}_t(s,\\alpha,a) \\gets \\text{CVaR}_\\alpha(~Q_t(s,\\alpha,a)~)\\qquad, \\forall s,\\alpha,a$\n",
    "    3. If (optimisic($\\alpha$)):\n",
    "    4. $\\hat{V}_t(s,\\alpha) \\gets \\max_{a}\\{Q_t(s,\\alpha,a) \\}\\qquad, \\forall s,\\alpha$\n",
    "    5. $\\pi_t(s,\\alpha) \\gets \\arg \\max_{a}\\{Q_t(s,\\alpha,a) \\}\\qquad, \\forall s,\\alpha$\n",
    "    6. $V_t(s,~\\alpha~) \\gets Q_t(s, ~\\alpha~ , \\pi_t(s,\\alpha) )\\qquad, \\forall s,\\alpha$\n",
    "3. Return $\\pi,\\hat{Q},V$"
   ]
  },
  {
   "cell_type": "code",
   "execution_count": null,
   "id": "4eee6de0",
   "metadata": {},
   "outputs": [],
   "source": []
  },
  {
   "cell_type": "code",
   "execution_count": null,
   "id": "2debcbe1",
   "metadata": {},
   "outputs": [],
   "source": []
  }
 ],
 "metadata": {
  "kernelspec": {
   "display_name": "Julia 1.8.5",
   "language": "julia",
   "name": "julia-1.8"
  },
  "language_info": {
   "file_extension": ".jl",
   "mimetype": "application/julia",
   "name": "julia",
   "version": "1.8.5"
  }
 },
 "nbformat": 4,
 "nbformat_minor": 5
}
