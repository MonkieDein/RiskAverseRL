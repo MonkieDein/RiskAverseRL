{
 "cells": [
  {
   "cell_type": "markdown",
   "id": "suspended-circus",
   "metadata": {},
   "source": [
    "# CVaR MDP and Regression"
   ]
  },
  {
   "cell_type": "markdown",
   "id": "thick-morrison",
   "metadata": {},
   "source": [
    "### Import Library"
   ]
  },
  {
   "cell_type": "code",
   "execution_count": 1,
   "id": "measured-population",
   "metadata": {
    "scrolled": false
   },
   "outputs": [],
   "source": [
    "using Plots\n",
    "using JuMP\n",
    "import HiGHS\n",
    "using DataFrames\n",
    "using BenchmarkTools\n",
    "using Optim\n",
    "using CSV\n",
    "using Statistics\n",
    "using Combinatorics\n",
    "using SparseArrays\n",
    "using StatsBase\n",
    "using ProgressBars\n",
    "using LaTeXStrings"
   ]
  },
  {
   "cell_type": "markdown",
   "id": "novel-sydney",
   "metadata": {},
   "source": [
    "# Document Organization"
   ]
  },
  {
   "cell_type": "markdown",
   "id": "vocational-updating",
   "metadata": {},
   "source": [
    "In this document, I will explain and demonstrate the recovery of Distribution from Quantile Regression. Furthermore, I will demonstrate the method to compute CVaR MDP with a simple tabular MDP."
   ]
  },
  {
   "cell_type": "markdown",
   "id": "worldwide-kernel",
   "metadata": {},
   "source": [
    "###### 0. Define problem and CVaR functions\n",
    "Please read document 1ComputeFastCVaR for the description of CVaR algorithms that is used to compute CVaR.\n",
    "\n",
    "###### 1. Quantile Regression and Distribution Recover\n",
    "a. Recover Distribution from CVaR.\n",
    "\n",
    "b. Demonstration of Example.\n",
    "\n",
    "###### 2. CVaR MDP\n",
    "a. Incorporate CVaR with MDP.\n",
    "\n",
    "b. Show CVaR MDP value could be non-accurate."
   ]
  },
  {
   "cell_type": "markdown",
   "id": "excited-flavor",
   "metadata": {},
   "source": [
    "# 0. Define problem and known functions\n",
    "\n",
    "### CVaR functions\n",
    "Please read document 1ComputeFastCVaR for the description of CVaR algorithms that is used to compute CVaR."
   ]
  },
  {
   "cell_type": "code",
   "execution_count": 2,
   "id": "downtown-fluid",
   "metadata": {
    "scrolled": true
   },
   "outputs": [
    {
     "data": {
      "text/plain": [
       "CVaR (generic function with 1 method)"
      ]
     },
     "execution_count": 2,
     "metadata": {},
     "output_type": "execute_result"
    }
   ],
   "source": [
    "# O(Nlog(N)) with sort\n",
    "function distribution(X,p)\n",
    "    d = DataFrame(X = X, p = p)\n",
    "    d = d[d.p .> 0,:]\n",
    "    d = combine(groupby(d, [\"X\"]),df -> DataFrame(p = sum(df.p)) ) \n",
    "    sort!(d,[\"X\"]) \n",
    "    return d\n",
    "end\n",
    "\n",
    "\n",
    "# O(N) code for cumulative adding values\n",
    "function cumulativeSum(V)\n",
    "    N = length(V)\n",
    "    Vsum = zeros(N)\n",
    "    Vsum[1] = V[1]\n",
    "    for i in 2:N\n",
    "        Vsum[i] = Vsum[i-1] + V[i]\n",
    "    end\n",
    "    return Vsum\n",
    "end\n",
    "\n",
    "function delta(V)\n",
    "   return [ V[1] ; V[ Not(1)] - V[Not(length(V))] ] \n",
    "end\n",
    "            \n",
    "\n",
    "# Fast CVaR function takes in a distribution (d) and a vector of risk (Alpha)\n",
    "function CVaR(d,Alpha)\n",
    "    # Set lambda \n",
    "    Lambda = 1 .- Alpha\n",
    "    \n",
    "    M = length(Alpha)\n",
    "    N = nrow(d)\n",
    "    output = zeros(M)\n",
    "    j = 1\n",
    "    \n",
    "    # Here we precompute repeatedly used values, Psum and XTP.\n",
    "    d.Psum = cumulativeSum(d.p)\n",
    "    d.XTP = cumulativeSum(d.X .* d.p)\n",
    "    \n",
    "    # Special Case 1: if risk is 0 just use minimum\n",
    "    while (j <= M) && (Lambda[j] == 0)\n",
    "        output[j] = minimum(d[d.p .> 0,:].X)\n",
    "        j+=1\n",
    "    end  \n",
    "    \n",
    "    # General Case for i==1, d[i-1,:] is not valid\n",
    "    while (j <= M) && (Lambda[j] <= d.Psum[1])\n",
    "        output[j] = (d.X[1]*(Lambda[j]))/Lambda[j]\n",
    "        j+=1\n",
    "    end\n",
    "    # General Cases\n",
    "    for i in 2:N\n",
    "        while (j <= M) && (Lambda[j] <= d.Psum[i])\n",
    "            output[j] = (d.XTP[i-1] + d.X[i]*(Lambda[j] - d.Psum[i-1]))/Lambda[j]\n",
    "            j+=1\n",
    "        end\n",
    "    end  \n",
    "    \n",
    "    while (j <= M)\n",
    "        output[j] = d.XTP[N]\n",
    "        j+=1\n",
    "    end\n",
    "    \n",
    "    return output\n",
    "end                               "
   ]
  },
  {
   "cell_type": "markdown",
   "id": "smart-occasion",
   "metadata": {},
   "source": [
    "# 1. Quantile Regression and Distribution Recover"
   ]
  },
  {
   "cell_type": "markdown",
   "id": "hungry-cheese",
   "metadata": {},
   "source": [
    "Load an arbitrary distribution $X$."
   ]
  },
  {
   "cell_type": "code",
   "execution_count": 3,
   "id": "violent-herald",
   "metadata": {
    "scrolled": true
   },
   "outputs": [
    {
     "data": {
      "text/html": [
       "<div><div style = \"float: left;\"><span>6×2 DataFrame</span></div><div style = \"clear: both;\"></div></div><div class = \"data-frame\" style = \"overflow-x: scroll;\"><table class = \"data-frame\" style = \"margin-bottom: 6px;\"><thead><tr class = \"header\"><th class = \"rowNumber\" style = \"font-weight: bold; text-align: right;\">Row</th><th style = \"text-align: left;\">X</th><th style = \"text-align: left;\">p</th></tr><tr class = \"subheader headerLastRow\"><th class = \"rowNumber\" style = \"font-weight: bold; text-align: right;\"></th><th title = \"Float64\" style = \"text-align: left;\">Float64</th><th title = \"Float64\" style = \"text-align: left;\">Float64</th></tr></thead><tbody><tr><td class = \"rowNumber\" style = \"font-weight: bold; text-align: right;\">1</td><td style = \"text-align: right;\">1.0</td><td style = \"text-align: right;\">0.03</td></tr><tr><td class = \"rowNumber\" style = \"font-weight: bold; text-align: right;\">2</td><td style = \"text-align: right;\">2.0</td><td style = \"text-align: right;\">0.07</td></tr><tr><td class = \"rowNumber\" style = \"font-weight: bold; text-align: right;\">3</td><td style = \"text-align: right;\">50.0</td><td style = \"text-align: right;\">0.45</td></tr><tr><td class = \"rowNumber\" style = \"font-weight: bold; text-align: right;\">4</td><td style = \"text-align: right;\">60.0</td><td style = \"text-align: right;\">0.27</td></tr><tr><td class = \"rowNumber\" style = \"font-weight: bold; text-align: right;\">5</td><td style = \"text-align: right;\">70.0</td><td style = \"text-align: right;\">0.09</td></tr><tr><td class = \"rowNumber\" style = \"font-weight: bold; text-align: right;\">6</td><td style = \"text-align: right;\">80.0</td><td style = \"text-align: right;\">0.09</td></tr></tbody></table></div>"
      ],
      "text/latex": [
       "\\begin{tabular}{r|cc}\n",
       "\t& X & p\\\\\n",
       "\t\\hline\n",
       "\t& Float64 & Float64\\\\\n",
       "\t\\hline\n",
       "\t1 & 1.0 & 0.03 \\\\\n",
       "\t2 & 2.0 & 0.07 \\\\\n",
       "\t3 & 50.0 & 0.45 \\\\\n",
       "\t4 & 60.0 & 0.27 \\\\\n",
       "\t5 & 70.0 & 0.09 \\\\\n",
       "\t6 & 80.0 & 0.09 \\\\\n",
       "\\end{tabular}\n"
      ],
      "text/plain": [
       "\u001b[1m6×2 DataFrame\u001b[0m\n",
       "\u001b[1m Row \u001b[0m│\u001b[1m X       \u001b[0m\u001b[1m p       \u001b[0m\n",
       "     │\u001b[90m Float64 \u001b[0m\u001b[90m Float64 \u001b[0m\n",
       "─────┼──────────────────\n",
       "   1 │     1.0     0.03\n",
       "   2 │     2.0     0.07\n",
       "   3 │    50.0     0.45\n",
       "   4 │    60.0     0.27\n",
       "   5 │    70.0     0.09\n",
       "   6 │    80.0     0.09"
      ]
     },
     "execution_count": 3,
     "metadata": {},
     "output_type": "execute_result"
    }
   ],
   "source": [
    "X = [1.0;1;2;2;50;60;70;80]\n",
    "p = [0.01;0.02;0.05;0.02;0.45;0.27;0.09;0.09] \n",
    "d = distribution(X,p)"
   ]
  },
  {
   "cell_type": "code",
   "execution_count": 4,
   "id": "moving-smart",
   "metadata": {},
   "outputs": [
    {
     "name": "stdout",
     "output_type": "stream",
     "text": [
      "1.0 ,..., 52.37"
     ]
    }
   ],
   "source": [
    "M = 101\n",
    "Alphas = LinRange(1,0,M)\n",
    "cvar = CVaR(d,Alphas)\n",
    "print(first(cvar),\" ,..., \",last(cvar))"
   ]
  },
  {
   "cell_type": "markdown",
   "id": "incredible-receiver",
   "metadata": {},
   "source": [
    "As long as $ΣP \\subseteq \\alpha s$ we can recover the distribution exactly from $\\{ \\text{CVaR}_\\alpha(X): \\alpha \\in \\alpha s \\}$. Let $\\lambda = 1-\\alpha$, we compute $$\\text{CVaR}_\\alpha(X) = \\text{CVaR}_{1-\\lambda}(X)= \\frac{\\int_0^{\\lambda} F^{-1}_X(\\lambda') d\\lambda'}{\\lambda}.$$\n",
    "Multiply $\\lambda$ for both sides\n",
    "$$ \\lambda \\cdot \\text{CVaR}_{1-\\lambda}(X) = \\int_0^{\\lambda} F^{-1}_X(\\lambda') d\\lambda'$$\n",
    "Take deriavative w.r.t $\\lambda$ we get\n",
    "$$F^{-1}_X(\\lambda) = \\frac{d}{d \\lambda} \\lambda \\cdot \\text{CVaR}_{1-\\lambda}(X).$$\n",
    "From the above derivation, we are able to compute the quantile values $F^{-1}_X(\\lambda)$ at $\\lambda$ level for distribution $X$ with $\\text{CVaR}_{\\alpha s}(X)$ if the set of $\\alpha s$ is sufficiently fine.\n",
    "Generally if $ΣP \\subseteq \\alpha s$, then we can recover the distribution from the CVaR Quantile Regression (up to certain precision : floating point arithmetic is non associative)."
   ]
  },
  {
   "cell_type": "code",
   "execution_count": 5,
   "id": "oriented-mystery",
   "metadata": {},
   "outputs": [
    {
     "data": {
      "text/html": [
       "<div><div style = \"float: left;\"><span>6×2 DataFrame</span></div><div style = \"clear: both;\"></div></div><div class = \"data-frame\" style = \"overflow-x: scroll;\"><table class = \"data-frame\" style = \"margin-bottom: 6px;\"><thead><tr class = \"header\"><th class = \"rowNumber\" style = \"font-weight: bold; text-align: right;\">Row</th><th style = \"text-align: left;\">X</th><th style = \"text-align: left;\">p</th></tr><tr class = \"subheader headerLastRow\"><th class = \"rowNumber\" style = \"font-weight: bold; text-align: right;\"></th><th title = \"Float64\" style = \"text-align: left;\">Float64</th><th title = \"Float64\" style = \"text-align: left;\">Float64</th></tr></thead><tbody><tr><td class = \"rowNumber\" style = \"font-weight: bold; text-align: right;\">1</td><td style = \"text-align: right;\">1.0</td><td style = \"text-align: right;\">0.03</td></tr><tr><td class = \"rowNumber\" style = \"font-weight: bold; text-align: right;\">2</td><td style = \"text-align: right;\">2.0</td><td style = \"text-align: right;\">0.07</td></tr><tr><td class = \"rowNumber\" style = \"font-weight: bold; text-align: right;\">3</td><td style = \"text-align: right;\">50.0</td><td style = \"text-align: right;\">0.45</td></tr><tr><td class = \"rowNumber\" style = \"font-weight: bold; text-align: right;\">4</td><td style = \"text-align: right;\">60.0</td><td style = \"text-align: right;\">0.27</td></tr><tr><td class = \"rowNumber\" style = \"font-weight: bold; text-align: right;\">5</td><td style = \"text-align: right;\">70.0</td><td style = \"text-align: right;\">0.09</td></tr><tr><td class = \"rowNumber\" style = \"font-weight: bold; text-align: right;\">6</td><td style = \"text-align: right;\">80.0</td><td style = \"text-align: right;\">0.09</td></tr></tbody></table></div>"
      ],
      "text/latex": [
       "\\begin{tabular}{r|cc}\n",
       "\t& X & p\\\\\n",
       "\t\\hline\n",
       "\t& Float64 & Float64\\\\\n",
       "\t\\hline\n",
       "\t1 & 1.0 & 0.03 \\\\\n",
       "\t2 & 2.0 & 0.07 \\\\\n",
       "\t3 & 50.0 & 0.45 \\\\\n",
       "\t4 & 60.0 & 0.27 \\\\\n",
       "\t5 & 70.0 & 0.09 \\\\\n",
       "\t6 & 80.0 & 0.09 \\\\\n",
       "\\end{tabular}\n"
      ],
      "text/plain": [
       "\u001b[1m6×2 DataFrame\u001b[0m\n",
       "\u001b[1m Row \u001b[0m│\u001b[1m X       \u001b[0m\u001b[1m p       \u001b[0m\n",
       "     │\u001b[90m Float64 \u001b[0m\u001b[90m Float64 \u001b[0m\n",
       "─────┼──────────────────\n",
       "   1 │     1.0     0.03\n",
       "   2 │     2.0     0.07\n",
       "   3 │    50.0     0.45\n",
       "   4 │    60.0     0.27\n",
       "   5 │    70.0     0.09\n",
       "   6 │    80.0     0.09"
      ]
     },
     "execution_count": 5,
     "metadata": {},
     "output_type": "execute_result"
    }
   ],
   "source": [
    "function CVaR2Distribution( cvar , αs ; sig = 10)\n",
    "    λ = 1 .- αs\n",
    "    p = delta( λ )\n",
    "    X = round.( delta( λ .* cvar ) ./ (p) ;sigdigits = sig)\n",
    "    d = distribution(X,p)\n",
    "    return d\n",
    "end\n",
    "\n",
    "d2 = CVaR2Distribution(cvar, Alphas)"
   ]
  },
  {
   "cell_type": "markdown",
   "id": "binary-slide",
   "metadata": {},
   "source": [
    "As shown above, the distribution (d2) recover from CVaR is identical to the original distribution (d)."
   ]
  },
  {
   "cell_type": "markdown",
   "id": "russian-error",
   "metadata": {},
   "source": [
    "# 2. CVaR-MDP\n",
    "\n",
    "Combining the fact that \n",
    "\n",
    "1. Distribution can be recover from CVaR discretized levels in $O(M)$-time for $M$ represent the number of discretized level.\n",
    "\n",
    "2. It is more efficient to compute CVaR from joint distribution rather than via LP decomposition.\n",
    "\n",
    "We are ready to explain the CVaR MDP algorithm. Let $Q(s,\\alpha,a)$ and $\\hat{V}(s,\\alpha)$ denote the CVaR value at $\\alpha$ risk level. We denote the CVaR_to_Distribution function as $D(\\cdot)$ and our optimistic value function distribution is denote as $V(S,~\\cdot~) \\gets D(~\\hat{V}(S',~\\cdot~)~)$.\n",
    "\n",
    "##### CVaR_MDP(MDP,T,M)\n",
    "1. Initialize $V_{T+1}(S,\\alpha s) \\gets 0$.\n",
    "2. For $t \\in (T:1)$:\n",
    "    1. Compute $Q_t(s,\\alpha,a) \\gets \\text{CVaR}_\\alpha(~R(s,a,S') + \\gamma V_{t+1}(S',~\\cdot~)~)\\qquad, \\forall s,\\alpha,a$\n",
    "    2. $\\hat{V}_t(s,\\alpha) \\gets \\max_{a}\\{Q_t(s,\\alpha,a) \\}\\qquad, \\forall s,\\alpha$\n",
    "    3. $\\pi_t(s,\\alpha) \\gets \\arg \\max_{a}\\{Q_t(s,\\alpha,a) \\}\\qquad, \\forall s,\\alpha$\n",
    "    4. $V_t(s,~\\cdot~) \\gets D(~\\hat{V}_t(s,~\\cdot~)~)\\qquad, \\forall s$\n",
    "3. Return $\\pi,Q,V$"
   ]
  },
  {
   "cell_type": "code",
   "execution_count": 6,
   "id": "ee2c462d",
   "metadata": {},
   "outputs": [
    {
     "data": {
      "text/plain": [
       "CVaR_MDP (generic function with 1 method)"
      ]
     },
     "execution_count": 6,
     "metadata": {},
     "output_type": "execute_result"
    }
   ],
   "source": [
    "function cond_dist(X,p_cond,pr,S)\n",
    "    d = DataFrame(X = X, p_cond = p_cond)\n",
    "    d = d[d.p_cond .> 0,:]\n",
    "    d.Psum_cond = cumulativeSum(d.p_cond)\n",
    "    d.p = d.p_cond .* pr\n",
    "    d.S .= S\n",
    "    return d\n",
    "end\n",
    "\n",
    "function Trisk(conditional_risks , searchVector; add=0, S = 1)\n",
    "    temp_conditional_risk = copy(conditional_risks)\n",
    "    temp_conditional_risk[S] += add\n",
    "    return [searchsortedfirst(searchVector, r) for r ∈ temp_conditional_risk]\n",
    "end\n",
    "\n",
    "# CVaR_VI function takes in MDP, a distribution (d) and a vector of risk (Alpha)\n",
    "function CVaR_VI(ds,Alpha,lSl,Psa)\n",
    "    \n",
    "    # compute joint distribution\n",
    "    d = reduce(vcat,ds)\n",
    "    d = d[d.p .> 0,:]\n",
    "    sort!( d , [\"X\"] )\n",
    "    \n",
    "    # Set lambda \n",
    "    Lambda = 1 .- Alpha\n",
    "    M = length(Alpha)\n",
    "    N = nrow(d)\n",
    "    output = zeros(M)\n",
    "    risk_P = ones(Int,(lSl,M))\n",
    "    risk_s = [0.0 for s ∈ 1:lSl]\n",
    "\n",
    "    # Here we precompute repeatedly used values, Psum and XTP.\n",
    "    d.Psum = cumulativeSum(d.p)\n",
    "    d.XTP = cumulativeSum(d.X .* d.p)\n",
    "    \n",
    "    j = 1\n",
    "    # Special Case 1: if risk is 0 just use minimum\n",
    "    while (j <= M) && (Lambda[j] == 0)\n",
    "        output[j] = minimum(d.X)\n",
    "        risk_P[:,j] = Trisk( risk_s , Lambda)\n",
    "        j+=1\n",
    "    end\n",
    "    \n",
    "    # General Case for i==1, d[i-1,:] is not valid\n",
    "    while (j <= M) && (Lambda[j] <= d.Psum[1])\n",
    "        output[j] = (d.X[1]*(Lambda[j]))/Lambda[j]\n",
    "        risk_P[:,j] = Trisk(risk_s,Lambda, add = (Lambda[j]/Psa[d.S[1]]) , S = d.S[1])\n",
    "        j+=1\n",
    "    end\n",
    "    risk_s[d.S[1]] = d.Psum_cond[1]\n",
    "    \n",
    "    # General Cases\n",
    "    for i in 2:N\n",
    "        while (j <= M) && (Lambda[j] <= d.Psum[i])\n",
    "            output[j] = (d.XTP[i-1] + d.X[i]*(Lambda[j] - d.Psum[i-1]))/Lambda[j]\n",
    "            risk_P[:,j] = Trisk(risk_s,Lambda, add = (Lambda[j] - d.Psum[i-1])/Psa[d.S[i]] , S = d.S[i])\n",
    "            j+=1 \n",
    "        end\n",
    "        risk_s[d.S[i]] = d.Psum_cond[i]\n",
    "    end  \n",
    "    \n",
    "    while (j <= M)\n",
    "        output[j] = d.XTP[N]\n",
    "        risk_P[:,j] = Trisk(risk_s , Lambda)\n",
    "        j+=1\n",
    "    end\n",
    "    \n",
    "    return (output = output,riskTrans = risk_P)\n",
    "end\n",
    "    \n",
    "function CVaR_MDP2(MDP;T=10,M=10001)\n",
    "    Alpha = LinRange(1,0,M)\n",
    "    V = [[DataFrame() for s in MDP.S] for t in 1:(T+1)]\n",
    "    V[T+1] = [DataFrame(X = [0], p = [1]) for s in MDP.S]\n",
    "    V̂ = [zeros(MDP.lSl,M) for t in 1:T]\n",
    "    π = [zeros(Int64,MDP.lSl,M) for t in 1:T]\n",
    "    Q = [zeros(MDP.lSl,M,MDP.lAl) for t in 1:T]\n",
    "    TransRisk = [ones(Int,(MDP.lSl,MDP.lSl,M)) for t in 1:T]\n",
    "    for t in T:-1:1\n",
    "        TransRiskTemp = ones(Int,(MDP.lSl,MDP.lSl,M,MDP.lAl))\n",
    "        for s in MDP.S\n",
    "            for a in MDP.A\n",
    "                Vs = [ cond_dist( MDP.R[s,a,s2] .+ MDP.γ .* V[t+1][s2].X  ,\n",
    "                        V[t+1][s2].p , MDP.P[s,a,s2], s2) for s2 in 1:MDP.lSl]\n",
    "                VIout = CVaR_VI(Vs,  Alpha, MDP.lSl, MDP.P[s,a,:] )\n",
    "                TransRiskTemp[s,:,:,a] = VIout.riskTrans\n",
    "                Q[t][s,:,a] = VIout.output\n",
    "            end\n",
    "        end\n",
    "        opt = findmax(Q[t],dims=3)\n",
    "        V̂[t] = opt[1][:,:,1]\n",
    "        π[t] = [i[3] for i in opt[2][:,:,1]]\n",
    "        for s in MDP.S\n",
    "            for m in 1:M\n",
    "                TransRisk[t][s,:,m] = TransRiskTemp[s,:,m,π[t][s,m]]\n",
    "            end\n",
    "        end\n",
    "        for s in MDP.S\n",
    "            V[t][s] = CVaR2Distribution(V̂[t][s,:],Alpha)\n",
    "        end\n",
    "    end\n",
    "    return (π=π,V̂=V̂,TransRisk=TransRisk,Alpha = Alpha)\n",
    "end\n",
    "                            \n",
    "function RtγV(R,γ,V,P) # distribution(X,p)\n",
    "    return distribution(\n",
    "        reduce(vcat,[rew .+ γ .* V[s].X for (s,rew) in enumerate(R)]),\n",
    "        reduce(vcat,[prob .* V[s].p for (s,prob) in enumerate(P)]) )\n",
    "end\n",
    "\n",
    "function CVaR_MDP(MDP;T=10,M=10001)\n",
    "    Alpha = LinRange(1,0,M)\n",
    "    V = [[DataFrame() for s in MDP.S] for t in 1:(T+1)]\n",
    "    V[T+1] = [DataFrame(X = [0], p = [1]) for s in MDP.S]\n",
    "    V̂ = [zeros(MDP.lSl,M) for t in 1:T]\n",
    "    π = [zeros(Int64,MDP.lSl,M) for t in 1:T]\n",
    "    Q = [zeros(MDP.lSl,M,MDP.lAl) for t in 1:T]\n",
    "    for t in T:-1:1\n",
    "        for s in MDP.S\n",
    "            for a in MDP.A\n",
    "                Q[t][s,:,a] = CVaR(RtγV(MDP.R[s,a,:],MDP.γ,V[t+1],MDP.P[s,a,:]),Alpha)\n",
    "            end\n",
    "        end\n",
    "        opt = findmax(Q[t],dims=3)\n",
    "        V̂[t] = opt[1][:,:,1]\n",
    "        π[t] = [i[3] for i in opt[2][:,:,1]]\n",
    "        for s in MDP.S\n",
    "            V[t][s] = CVaR2Distribution(V̂[t][s,:],Alpha)\n",
    "        end\n",
    "    end\n",
    "    return (Q=Q,π=π,V=V,V̂=V̂)\n",
    "end"
   ]
  },
  {
   "cell_type": "markdown",
   "id": "9c762180",
   "metadata": {},
   "source": [
    "######  time complexity analysis:\n",
    "\n",
    "1. $O(SM)$.\n",
    "2. Multiply $O(T)$:\n",
    "    1. $O(SM log(SM))~ \\times ~O(ASM) = O(AS^2M^2 log(SM))$\n",
    "    2. $O(ASM)$\n",
    "    3. $O(ASM)$\n",
    "    4. $O(SM)$\n",
    "    \n",
    "The time complexity of CVaR MDP is $O(TAS^2M^2 log(SM))$ where $M$ refers to the discretization of $\\alpha s$."
   ]
  },
  {
   "cell_type": "markdown",
   "id": "3fac2409",
   "metadata": {},
   "source": [
    "# 3. Computation Example"
   ]
  },
  {
   "cell_type": "code",
   "execution_count": 14,
   "id": "2294fca2",
   "metadata": {
    "scrolled": true
   },
   "outputs": [
    {
     "data": {
      "text/plain": [
       "(π = [[1 1 … 1 1; 1 1 … 1 1; … ; 1 1 … 2 2; 1 2 … 2 2], [1 1 … 1 1; 1 1 … 1 1; … ; 1 1 … 2 2; 1 2 … 2 2], [1 1 … 1 1; 1 1 … 1 1; … ; 1 1 … 2 2; 1 2 … 2 2], [1 1 … 1 1; 1 1 … 1 1; … ; 1 1 … 2 2; 1 2 … 2 2], [1 1 … 1 1; 1 1 … 1 1; … ; 1 1 … 2 2; 1 2 … 2 2], [1 1 … 1 1; 1 1 … 1 1; … ; 1 1 … 2 2; 1 2 … 2 2], [1 1 … 1 1; 1 1 … 1 1; … ; 1 1 … 2 2; 1 2 … 2 2], [1 1 … 1 1; 1 1 … 1 1; … ; 1 1 … 2 2; 1 2 … 2 2], [1 1 … 1 1; 1 1 … 1 1; … ; 1 1 … 2 2; 1 2 … 2 2], [1 1 … 1 1; 1 1 … 1 1; … ; 1 1 … 2 2; 1 2 … 2 2]  …  [1 1 … 1 1; 1 1 … 1 1; … ; 1 1 … 2 2; 1 1 … 2 2], [1 1 … 1 1; 1 1 … 1 1; … ; 1 1 … 2 2; 1 1 … 2 2], [1 1 … 1 1; 1 1 … 1 1; … ; 1 1 … 2 2; 1 1 … 2 2], [1 1 … 1 1; 1 1 … 1 1; … ; 1 1 … 2 2; 1 1 … 2 2], [1 1 … 1 1; 1 1 … 1 1; … ; 1 1 … 2 2; 1 1 … 2 2], [1 1 … 1 1; 1 1 … 1 1; … ; 1 1 … 2 2; 1 1 … 2 2], [1 1 … 1 1; 1 1 … 1 1; … ; 1 1 … 2 2; 1 1 … 2 2], [1 1 … 1 1; 1 1 … 1 1; … ; 1 1 … 2 2; 1 1 … 2 2], [1 1 … 1 1; 1 1 … 1 1; … ; 1 1 … 2 2; 1 1 … 2 2], [1 1 … 1 1; 1 1 … 1 1; … ; 1 1 … 1 1; 1 1 … 2 2]], V̂ = [[49.998671942 49.998671942 … 49.99867194222522 49.998671942234; 49.998671942 49.998671942 … 49.99867194222522 49.998671942234; … ; 49.998671942 49.998671942 … 512.5077412650884 512.7770154706388; 49.998671942 83.08452958405864 … 625.8364182972941 626.0797265057506], [49.998524378 49.998524378 … 49.99852437822523 49.998524378234; 49.998524378 49.998524378 … 49.99852437822523 49.998524378234; … ; 49.998524378 49.998524378 … 512.505984127735 512.775258331627; 49.998524378 83.08277253268685 … 625.8346611604707 626.0779693667967], [49.998360416000004 49.998360416000004 … 49.99836041624325 49.998360416252005; 49.998360416000004 49.998360416000004 … 49.99836041624325 49.998360416252005; … ; 49.998360416000004 49.998360416000004 … 512.5040317532063 512.773305955103; 49.998360416000004 83.08082023137834 … 625.8327087866501 626.0760169903909], [49.998178238 49.998178238 … 49.99817823824324 49.998178238252; 49.998178238 49.998178238 … 49.99817823824324 49.998178238252; … ; 49.998178238 49.998178238 … 512.5018624488102 512.7711366481974; 49.998178238 83.07865105719965 … 625.8305394828079 626.073847683332], [49.997975819000004 49.997975819000004 … 49.997975819243244 49.997975819252005; 49.997975819000004 49.997975819000004 … 49.997975819243244 49.997975819252005; … ; 49.997975819000004 49.997975819000004 … 512.4994521102585 512.7687263065869; 49.997975819000004 83.07624086302096 … 625.8281291451555 626.0714373417479], [49.997750909000004 49.997750909000004 … 49.997750909243244 49.997750909252005; 49.997750909000004 49.997750909000004 … 49.997750909243244 49.997750909252005; … ; 49.997750909000004 49.997750909000004 … 512.4967739580055 512.7660481505209; 49.997750909000004 83.07356287657704 … 625.8254509943539 626.0687591860244], [49.997501006 49.997501006 … 49.99750100927928 49.997501009285; 49.997501006 49.997501006 … 49.99750100927928 49.997501009285; … ; 49.997501006 49.997501006 … 512.4937982330267 512.7630724208537; 49.997501006 83.07058735944722 … 625.822475270612 626.0657834562498], [49.997223338000005 49.997223338000005 … 49.99722334127928 49.99722334128501; 49.997223338000005 49.997223338000005 … 49.99722334127928 49.99722334128501; … ; 49.997223338000005 49.997223338000005 … 512.4904918712696 512.7597660533479; 49.997223338000005 83.06728126067478 … 625.8191689102707 626.0624770884856], [49.996914818 49.996914818 … 49.996914821279276 49.996914821285; 49.996914818 49.996914818 … 49.996914821279276 49.996914821285; … ; 49.996914818 49.996914818 … 512.4868181375972 512.7560923125569; 49.996914818 83.06360785874365 … 625.8154951781921 626.0588033472604], [49.996572017 49.996572017 … 49.996572020279274 49.996572020285; 49.996572017 49.996572017 … 49.996572020279274 49.996572020285; … ; 49.996572017 49.996572017 … 512.4827362131015 512.7520103792926; 49.996572017 83.05952634558497 … 625.8114132565235 626.0547214142991]  …  [32.566077995 32.566077995 … 32.566077995 32.566077995; 32.566077995 32.566077995 … 32.566077995 32.566077995; … ; 32.566077995 32.566077995 … 305.23438008941963 305.40914693033017; 32.566077995 32.566077995 … 418.1082172563313 418.2571740094198], [30.62897555 30.62897555 … 30.62897555 30.62897555; 30.62897555 30.62897555 … 30.62897555 30.62897555; … ; 30.62897555 30.62897555 … 282.29544268381534 282.4594181817616; 30.62897555 30.62897555 … 394.9367552681804 395.0751532028878], [28.4766395 28.4766395 … 28.4766395 28.4766395; 28.4766395 28.4766395 … 28.4766395 28.4766395; … ; 28.4766395 28.4766395 … 256.86601877343634 257.01794560603287; 28.4766395 28.4766395 … 369.1436381466168 369.2703511091861], [26.085155 26.085155 … 26.085155 26.085155; 26.085155 26.085155 … 26.085155 26.085155; … ; 26.085155 26.085155 … 228.70602875689156 228.84447325810464; 26.085155 26.085155 … 340.4104715618771 340.5242753696315], [23.42795 23.42795 … 23.42795 23.42795; 23.42795 23.42795 … 23.42795 23.42795; … ; 23.42795 23.42795 … 197.58994106751913 197.7132324104516; 23.42795 23.42795 … 308.36442972086536 308.4640103244908], [20.4755 20.4755 … 20.4755 20.4755; 20.4755 20.4755 … 20.4755 20.4755; … ; 20.4755 20.4755 … 163.35524373582425 163.4613595027784; 20.4755 20.4755 … 272.55385742223643 272.63783832485063], [17.195 17.195 … 17.195 17.195; 17.195 17.195 … 17.195 17.195; … ; 17.195 17.195 … 125.85380167543086 125.94029635847542; 17.195 17.195 … 232.42436089810124 232.49134877126963], [13.55 13.55 … 13.55 13.55; 13.55 13.55 … 13.55 13.55; … ; 13.55 13.55 … 85.64348499846587 85.70672052488739; 13.55 13.55 … 187.18553025795424 187.23428748846277], [9.5 9.5 … 9.5 9.5; 9.5 9.5 … 9.5 9.5; … ; 9.5 9.5 … 43.25982931974727 43.294926864842516; 9.5 9.5 … 135.74906929311237 135.77874134758073], [5.0 5.0 … 5.0 5.0; 5.0 5.0 … 5.0 5.0; … ; 5.0 5.0 … 5.0 5.0; 5.0 5.0 … 75.78969044375994 75.80096450266267]], TransRisk = [[1 1 … 1 1; 1 1 … 1 1; … ; 1 1 … 1 1; 1 1 … 1 1;;; 2 1 … 1 1; 2 1 … 1 1; … ; 1 1 … 1 1; 1 1 … 9 1;;; 3 1 … 1 1; 3 1 … 1 1; … ; 1 1 … 4 2; 1 1 … 17 1;;; … ;;; 999 1 … 1 1; 999 1 … 1 1; … ; 1 1 … 1001 998; 1 1 … 1001 999;;; 1000 1 … 1 1; 1000 1 … 1 1; … ; 1 1 … 1001 1000; 1 1 … 1001 1000;;; 1001 1 … 1 1; 1001 1 … 1 1; … ; 1 1 … 1001 1001; 1 1 … 1001 1001], [1 1 … 1 1; 1 1 … 1 1; … ; 1 1 … 1 1; 1 1 … 1 1;;; 2 1 … 1 1; 2 1 … 1 1; … ; 1 1 … 1 1; 1 1 … 9 1;;; 3 1 … 1 1; 3 1 … 1 1; … ; 1 1 … 4 2; 1 1 … 17 1;;; … ;;; 999 1 … 1 1; 999 1 … 1 1; … ; 1 1 … 1001 998; 1 1 … 1001 999;;; 1000 1 … 1 1; 1000 1 … 1 1; … ; 1 1 … 1001 1000; 1 1 … 1001 1000;;; 1001 1 … 1 1; 1001 1 … 1 1; … ; 1 1 … 1001 1001; 1 1 … 1001 1001], [1 1 … 1 1; 1 1 … 1 1; … ; 1 1 … 1 1; 1 1 … 1 1;;; 2 1 … 1 1; 2 1 … 1 1; … ; 1 1 … 1 1; 1 1 … 9 1;;; 3 1 … 1 1; 3 1 … 1 1; … ; 1 1 … 4 2; 1 1 … 17 1;;; … ;;; 999 1 … 1 1; 999 1 … 1 1; … ; 1 1 … 1001 998; 1 1 … 1001 999;;; 1000 1 … 1 1; 1000 1 … 1 1; … ; 1 1 … 1001 1000; 1 1 … 1001 1000;;; 1001 1 … 1 1; 1001 1 … 1 1; … ; 1 1 … 1001 1001; 1 1 … 1001 1001], [1 1 … 1 1; 1 1 … 1 1; … ; 1 1 … 1 1; 1 1 … 1 1;;; 2 1 … 1 1; 2 1 … 1 1; … ; 1 1 … 1 1; 1 1 … 9 1;;; 3 1 … 1 1; 3 1 … 1 1; … ; 1 1 … 4 2; 1 1 … 17 1;;; … ;;; 999 1 … 1 1; 999 1 … 1 1; … ; 1 1 … 1001 998; 1 1 … 1001 999;;; 1000 1 … 1 1; 1000 1 … 1 1; … ; 1 1 … 1001 1000; 1 1 … 1001 1000;;; 1001 1 … 1 1; 1001 1 … 1 1; … ; 1 1 … 1001 1001; 1 1 … 1001 1001], [1 1 … 1 1; 1 1 … 1 1; … ; 1 1 … 1 1; 1 1 … 1 1;;; 2 1 … 1 1; 2 1 … 1 1; … ; 1 1 … 1 1; 1 1 … 9 1;;; 3 1 … 1 1; 3 1 … 1 1; … ; 1 1 … 4 2; 1 1 … 17 1;;; … ;;; 999 1 … 1 1; 999 1 … 1 1; … ; 1 1 … 1001 998; 1 1 … 1001 999;;; 1000 1 … 1 1; 1000 1 … 1 1; … ; 1 1 … 1001 1000; 1 1 … 1001 1000;;; 1001 1 … 1 1; 1001 1 … 1 1; … ; 1 1 … 1001 1001; 1 1 … 1001 1001], [1 1 … 1 1; 1 1 … 1 1; … ; 1 1 … 1 1; 1 1 … 1 1;;; 2 1 … 1 1; 2 1 … 1 1; … ; 1 1 … 1 1; 1 1 … 9 1;;; 3 1 … 1 1; 3 1 … 1 1; … ; 1 1 … 4 2; 1 1 … 17 1;;; … ;;; 999 1 … 1 1; 999 1 … 1 1; … ; 1 1 … 1001 998; 1 1 … 1001 999;;; 1000 1 … 1 1; 1000 1 … 1 1; … ; 1 1 … 1001 1000; 1 1 … 1001 1000;;; 1001 1 … 1 1; 1001 1 … 1 1; … ; 1 1 … 1001 1001; 1 1 … 1001 1001], [1 1 … 1 1; 1 1 … 1 1; … ; 1 1 … 1 1; 1 1 … 1 1;;; 2 1 … 1 1; 2 1 … 1 1; … ; 1 1 … 1 1; 1 1 … 9 1;;; 3 1 … 1 1; 3 1 … 1 1; … ; 1 1 … 4 2; 1 1 … 17 1;;; … ;;; 999 1 … 1 1; 999 1 … 1 1; … ; 1 1 … 1001 998; 1 1 … 1001 999;;; 1000 1 … 1 1; 1000 1 … 1 1; … ; 1 1 … 1001 1000; 1 1 … 1001 1000;;; 1001 1 … 1 1; 1001 1 … 1 1; … ; 1 1 … 1001 1001; 1 1 … 1001 1001], [1 1 … 1 1; 1 1 … 1 1; … ; 1 1 … 1 1; 1 1 … 1 1;;; 2 1 … 1 1; 2 1 … 1 1; … ; 1 1 … 1 1; 1 1 … 9 1;;; 3 1 … 1 1; 3 1 … 1 1; … ; 1 1 … 4 2; 1 1 … 17 1;;; … ;;; 999 1 … 1 1; 999 1 … 1 1; … ; 1 1 … 1001 998; 1 1 … 1001 999;;; 1000 1 … 1 1; 1000 1 … 1 1; … ; 1 1 … 1001 1000; 1 1 … 1001 1000;;; 1001 1 … 1 1; 1001 1 … 1 1; … ; 1 1 … 1001 1001; 1 1 … 1001 1001], [1 1 … 1 1; 1 1 … 1 1; … ; 1 1 … 1 1; 1 1 … 1 1;;; 2 1 … 1 1; 2 1 … 1 1; … ; 1 1 … 1 1; 1 1 … 9 1;;; 3 1 … 1 1; 3 1 … 1 1; … ; 1 1 … 4 2; 1 1 … 17 1;;; … ;;; 999 1 … 1 1; 999 1 … 1 1; … ; 1 1 … 1001 998; 1 1 … 1001 999;;; 1000 1 … 1 1; 1000 1 … 1 1; … ; 1 1 … 1001 1000; 1 1 … 1001 1000;;; 1001 1 … 1 1; 1001 1 … 1 1; … ; 1 1 … 1001 1001; 1 1 … 1001 1001], [1 1 … 1 1; 1 1 … 1 1; … ; 1 1 … 1 1; 1 1 … 1 1;;; 2 1 … 1 1; 2 1 … 1 1; … ; 1 1 … 1 1; 1 1 … 9 1;;; 3 1 … 1 1; 3 1 … 1 1; … ; 1 1 … 4 2; 1 1 … 17 1;;; … ;;; 999 1 … 1 1; 999 1 … 1 1; … ; 1 1 … 1001 998; 1 1 … 1001 999;;; 1000 1 … 1 1; 1000 1 … 1 1; … ; 1 1 … 1001 1000; 1 1 … 1001 1000;;; 1001 1 … 1 1; 1001 1 … 1 1; … ; 1 1 … 1001 1001; 1 1 … 1001 1001]  …  [1 1 … 1 1; 1 1 … 1 1; … ; 1 1 … 1 1; 1 1 … 1 1;;; 2 1 … 1 1; 2 1 … 1 1; … ; 1 1 … 1 1; 1 1 … 2 1;;; 3 1 … 1 1; 3 1 … 1 1; … ; 1 1 … 1 1; 1 1 … 3 1;;; … ;;; 999 1 … 1 1; 999 1 … 1 1; … ; 1 1 … 1001 998; 1 1 … 1001 999;;; 1000 1 … 1 1; 1000 1 … 1 1; … ; 1 1 … 1001 1000; 1 1 … 1001 1000;;; 1001 1 … 1 1; 1001 1 … 1 1; … ; 1 1 … 1001 1001; 1 1 … 1001 1001], [1 1 … 1 1; 1 1 … 1 1; … ; 1 1 … 1 1; 1 1 … 1 1;;; 2 1 … 1 1; 2 1 … 1 1; … ; 1 1 … 1 1; 1 1 … 2 1;;; 3 1 … 1 1; 3 1 … 1 1; … ; 1 1 … 1 1; 1 1 … 3 1;;; … ;;; 999 1 … 1 1; 999 1 … 1 1; … ; 1 1 … 1001 998; 1 1 … 1001 999;;; 1000 1 … 1 1; 1000 1 … 1 1; … ; 1 1 … 1001 1000; 1 1 … 1001 1000;;; 1001 1 … 1 1; 1001 1 … 1 1; … ; 1 1 … 1001 1001; 1 1 … 1001 1001], [1 1 … 1 1; 1 1 … 1 1; … ; 1 1 … 1 1; 1 1 … 1 1;;; 2 1 … 1 1; 2 1 … 1 1; … ; 1 1 … 1 1; 1 1 … 2 1;;; 3 1 … 1 1; 3 1 … 1 1; … ; 1 1 … 1 1; 1 1 … 3 1;;; … ;;; 999 1 … 1 1; 999 1 … 1 1; … ; 1 1 … 1001 998; 1 1 … 1001 999;;; 1000 1 … 1 1; 1000 1 … 1 1; … ; 1 1 … 1001 1000; 1 1 … 1001 1000;;; 1001 1 … 1 1; 1001 1 … 1 1; … ; 1 1 … 1001 1001; 1 1 … 1001 1001], [1 1 … 1 1; 1 1 … 1 1; … ; 1 1 … 1 1; 1 1 … 1 1;;; 2 1 … 1 1; 2 1 … 1 1; … ; 1 1 … 1 1; 1 1 … 2 1;;; 3 1 … 1 1; 3 1 … 1 1; … ; 1 1 … 1 1; 1 1 … 3 1;;; … ;;; 999 1 … 1 1; 999 1 … 1 1; … ; 1 1 … 1001 998; 1 1 … 1001 999;;; 1000 1 … 1 1; 1000 1 … 1 1; … ; 1 1 … 1001 1000; 1 1 … 1001 1000;;; 1001 1 … 1 1; 1001 1 … 1 1; … ; 1 1 … 1001 1001; 1 1 … 1001 1001], [1 1 … 1 1; 1 1 … 1 1; … ; 1 1 … 1 1; 1 1 … 1 1;;; 2 1 … 1 1; 2 1 … 1 1; … ; 1 1 … 1 1; 1 1 … 2 1;;; 3 1 … 1 1; 3 1 … 1 1; … ; 1 1 … 1 1; 1 1 … 3 1;;; … ;;; 999 1 … 1 1; 999 1 … 1 1; … ; 1 1 … 1001 998; 1 1 … 1001 999;;; 1000 1 … 1 1; 1000 1 … 1 1; … ; 1 1 … 1001 1000; 1 1 … 1001 1000;;; 1001 1 … 1 1; 1001 1 … 1 1; … ; 1 1 … 1001 1001; 1 1 … 1001 1001], [1 1 … 1 1; 1 1 … 1 1; … ; 1 1 … 1 1; 1 1 … 1 1;;; 2 1 … 1 1; 2 1 … 1 1; … ; 1 1 … 1 1; 1 1 … 2 1;;; 3 1 … 1 1; 3 1 … 1 1; … ; 1 1 … 1 1; 1 1 … 3 1;;; … ;;; 999 1 … 1 1; 999 1 … 1 1; … ; 1 1 … 1001 998; 1 1 … 1001 999;;; 1000 1 … 1 1; 1000 1 … 1 1; … ; 1 1 … 1001 1000; 1 1 … 1001 1000;;; 1001 1 … 1 1; 1001 1 … 1 1; … ; 1 1 … 1001 1001; 1 1 … 1001 1001], [1 1 … 1 1; 1 1 … 1 1; … ; 1 1 … 1 1; 1 1 … 1 1;;; 2 1 … 1 1; 2 1 … 1 1; … ; 1 1 … 1 1; 1 1 … 2 1;;; 3 1 … 1 1; 3 1 … 1 1; … ; 1 1 … 1 1; 1 1 … 3 1;;; … ;;; 999 1 … 1 1; 999 1 … 1 1; … ; 1 1 … 1001 998; 1 1 … 1001 999;;; 1000 1 … 1 1; 1000 1 … 1 1; … ; 1 1 … 1001 1000; 1 1 … 1001 1000;;; 1001 1 … 1 1; 1001 1 … 1 1; … ; 1 1 … 1001 1001; 1 1 … 1001 1001], [1 1 … 1 1; 1 1 … 1 1; … ; 1 1 … 1 1; 1 1 … 1 1;;; 2 1 … 1 1; 2 1 … 1 1; … ; 1 1 … 1 1; 1 1 … 2 1;;; 3 1 … 1 1; 3 1 … 1 1; … ; 1 1 … 1 1; 1 1 … 3 1;;; … ;;; 999 1 … 1 1; 999 1 … 1 1; … ; 1 1 … 1001 998; 1 1 … 1001 999;;; 1000 1 … 1 1; 1000 1 … 1 1; … ; 1 1 … 1001 1000; 1 1 … 1001 1000;;; 1001 1 … 1 1; 1001 1 … 1 1; … ; 1 1 … 1001 1001; 1 1 … 1001 1001], [1 1 … 1 1; 1 1 … 1 1; … ; 1 1 … 1 1; 1 1 … 1 1;;; 2 1 … 1 1; 2 1 … 1 1; … ; 1 1 … 1 1; 1 1 … 2 1;;; 3 1 … 1 1; 3 1 … 1 1; … ; 1 1 … 1 1; 1 1 … 3 1;;; … ;;; 999 1 … 1 1; 999 1 … 1 1; … ; 1 1 … 1001 998; 1 1 … 1001 999;;; 1000 1 … 1 1; 1000 1 … 1 1; … ; 1 1 … 1001 1000; 1 1 … 1001 1000;;; 1001 1 … 1 1; 1001 1 … 1 1; … ; 1 1 … 1001 1001; 1 1 … 1001 1001], [1 1 … 1 1; 1 1 … 1 1; … ; 1 1 … 1 1; 1 1 … 1 1;;; 2 1 … 1 1; 2 1 … 1 1; … ; 1 1 … 1 1; 1 1 … 2 1;;; 3 1 … 1 1; 3 1 … 1 1; … ; 1 1 … 1 1; 1 1 … 3 1;;; … ;;; 999 1 … 1 1; 999 1 … 1 1; … ; 1 1 … 1 1; 1 1 … 1001 999;;; 1000 1 … 1 1; 1000 1 … 1 1; … ; 1 1 … 1 1; 1 1 … 1001 1000;;; 1001 1 … 1 1; 1001 1 … 1 1; … ; 1 1 … 1 1; 1 1 … 1001 1001]], Alpha = LinRange{Float64}(1.0, 0.0, 1001))"
      ]
     },
     "execution_count": 14,
     "metadata": {},
     "output_type": "execute_result"
    }
   ],
   "source": [
    "# Convert a data frame to MDP.\n",
    "function df2MDP(df;γ = 0.90)\n",
    "    S = unique([df.idstatefrom;df.idstateto])\n",
    "    A = unique(df.idaction)\n",
    "    lSl = length(S)\n",
    "    lAl = length(A)\n",
    "    P = zeros((lSl,lAl,lSl))\n",
    "    R = zeros((lSl,lAl,lSl))\n",
    "    for i in eachrow(df)\n",
    "        P[i.idstatefrom,i.idaction,i.idstateto] += i.probability\n",
    "        R[i.idstatefrom,i.idaction,i.idstateto] += i.reward\n",
    "    end\n",
    "    return (S=S,A=A,P=P,R=R,lSl=lSl,lAl=lAl,γ=γ)\n",
    "end\n",
    "\n",
    "function df2MMDP(df;γ = 0.90)\n",
    "    S = unique([df.idstatefrom;df.idstateto])\n",
    "    A = unique(df.idaction)\n",
    "    M = unique(df.idoutcome)\n",
    "    lSl = length(S)\n",
    "    lAl = length(A)\n",
    "    lMl = length(M)\n",
    "    P = zeros((lMl,lSl,lAl,lSl))\n",
    "    R = zeros((lMl,lSl,lAl,lSl))\n",
    "    for m in M\n",
    "        dftemp = filter(x -> x.idoutcome == m ,df)\n",
    "        tempmdp = df2MDP(dftemp;γ = γ)\n",
    "        P[m,:,:,:] = tempmdp.P\n",
    "        R[m,:,:,:] = tempmdp.R\n",
    "    end\n",
    "    return (S=S,A=A,P=P,R=R,lSl=lSl,lAl=lAl,γ=γ)\n",
    "end\n",
    "\n",
    "function MMDP2MDP(MMDP)\n",
    "    return(S=MMDP.S,A=MMDP.A,P=mean(MMDP.P,dims=1)[1,:,:,:],R=mean(MMDP.R,dims=1)[1,:,:,:],lSl=MMDP.lSl,lAl=MMDP.lAl,γ=MMDP.γ)\n",
    "end\n",
    "\n",
    "df = CSV.read(\"C:/GITHUB/rmdp-jl-2/data/riverswim.csv\", DataFrame)\n",
    "# The document uses \"zero index\" so we need to change to \"one index for julia\"\n",
    "df[:,[\"idstatefrom\",\"idaction\",\"idstateto\",\"idoutcome\"]] = df[:,[\"idstatefrom\",\"idaction\",\"idstateto\",\"idoutcome\"]] .+ 1\n",
    "mdp = MMDP2MDP(df2MMDP(df))\n",
    "\n",
    "M = 1001\n",
    "T = 100\n",
    "sol = CVaR_MDP2(mdp;T=T,M=M)\n",
    "@elapsed CVaR_MDP2(mdp;T=T,M=M)"
   ]
  },
  {
   "cell_type": "code",
   "execution_count": 15,
   "id": "4a42427b",
   "metadata": {},
   "outputs": [
    {
     "data": {
      "text/plain": [
       "cumulative (generic function with 1 method)"
      ]
     },
     "execution_count": 15,
     "metadata": {},
     "output_type": "execute_result"
    }
   ],
   "source": [
    "struct augment_state\n",
    "    s::Int\n",
    "    α_i::Int\n",
    "    function augment_state(s::Int,α_i::Int)\n",
    "        new(s,α_i)\n",
    "    end\n",
    "end\n",
    "\n",
    "function simulateHdP(MDP, π, P_aug, s0, T , episodes)\n",
    "    rewards = zeros(episodes,T)\n",
    "    for i in 1:episodes\n",
    "        ŝ = s0\n",
    "        for t in 1:T\n",
    "            a = π[t][ŝ.s,ŝ.α_i]\n",
    "            s2 = sample(MDP.S, Weights(MDP.P[ŝ.s,a,:]), 1)[1]\n",
    "            rewards[i,t] = MDP.R[ŝ.s,a,s2]\n",
    "            ŝ = augment_state(s2,P_aug[t][ŝ.s,s2,ŝ.α_i])\n",
    "        end\n",
    "    end\n",
    "    return rewards\n",
    "end\n",
    "\n",
    "function cumulative(v,γ,T)   \n",
    "    return v * ( γ .^ (0:T-1) )\n",
    "end"
   ]
  },
  {
   "cell_type": "code",
   "execution_count": 21,
   "id": "6d2b0b5d",
   "metadata": {
    "scrolled": false
   },
   "outputs": [],
   "source": [
    "episodes :: Int = 100000\n",
    "results :: DataFrame = DataFrame()\n",
    "\n",
    "# simulate the policy\n",
    "for (riskindex, risk) ∈ enumerate(sol.Alpha)\n",
    "    S0 = sample(mdp.S)\n",
    "    sims = simulateHdP(mdp, sol.π, sol.TransRisk , augment_state(S0,riskindex), T, episodes)\n",
    "    cumrets = cumulative(sims, mdp.γ,T)\n",
    "    riskcmp = sol.V̂[1][S0,riskindex]\n",
    "    risksim = CVaR(distribution(cumrets,1/episodes),[sol.Alpha[riskindex]])[1]\n",
    "    push!(results, (Risk = risk, computed=riskcmp, simulated = risksim))\n",
    "end"
   ]
  },
  {
   "cell_type": "code",
   "execution_count": 22,
   "id": "e5483ed1",
   "metadata": {},
   "outputs": [
    {
     "data": {
      "image/svg+xml": [
       "<?xml version=\"1.0\" encoding=\"utf-8\"?>\n",
       "<svg xmlns=\"http://www.w3.org/2000/svg\" xmlns:xlink=\"http://www.w3.org/1999/xlink\" width=\"500\" height=\"300\" viewBox=\"0 0 2000 1200\">\n",
       "<defs>\n",
       "  <clipPath id=\"clip440\">\n",
       "    <rect x=\"0\" y=\"0\" width=\"2000\" height=\"1200\"/>\n",
       "  </clipPath>\n",
       "</defs>\n",
       "<path clip-path=\"url(#clip440)\" d=\"M0 1200 L2000 1200 L2000 0 L0 0  Z\" fill=\"#ffffff\" fill-rule=\"evenodd\" fill-opacity=\"1\"/>\n",
       "<defs>\n",
       "  <clipPath id=\"clip441\">\n",
       "    <rect x=\"400\" y=\"0\" width=\"1401\" height=\"1200\"/>\n",
       "  </clipPath>\n",
       "</defs>\n",
       "<defs>\n",
       "  <clipPath id=\"clip442\">\n",
       "    <rect x=\"226\" y=\"47\" width=\"1727\" height=\"989\"/>\n",
       "  </clipPath>\n",
       "</defs>\n",
       "<path clip-path=\"url(#clip440)\" d=\"M226.531 1035.39 L1952.76 1035.39 L1952.76 47.2441 L226.531 47.2441  Z\" fill=\"#ffffff\" fill-rule=\"evenodd\" fill-opacity=\"1\"/>\n",
       "<polyline clip-path=\"url(#clip442)\" style=\"stroke:#000000; stroke-linecap:round; stroke-linejoin:round; stroke-width:2; stroke-opacity:0.1; fill:none\" points=\"275.386,1035.39 275.386,47.2441 \"/>\n",
       "<polyline clip-path=\"url(#clip442)\" style=\"stroke:#000000; stroke-linecap:round; stroke-linejoin:round; stroke-width:2; stroke-opacity:0.1; fill:none\" points=\"682.515,1035.39 682.515,47.2441 \"/>\n",
       "<polyline clip-path=\"url(#clip442)\" style=\"stroke:#000000; stroke-linecap:round; stroke-linejoin:round; stroke-width:2; stroke-opacity:0.1; fill:none\" points=\"1089.64,1035.39 1089.64,47.2441 \"/>\n",
       "<polyline clip-path=\"url(#clip442)\" style=\"stroke:#000000; stroke-linecap:round; stroke-linejoin:round; stroke-width:2; stroke-opacity:0.1; fill:none\" points=\"1496.77,1035.39 1496.77,47.2441 \"/>\n",
       "<polyline clip-path=\"url(#clip442)\" style=\"stroke:#000000; stroke-linecap:round; stroke-linejoin:round; stroke-width:2; stroke-opacity:0.1; fill:none\" points=\"1903.9,1035.39 1903.9,47.2441 \"/>\n",
       "<polyline clip-path=\"url(#clip440)\" style=\"stroke:#000000; stroke-linecap:round; stroke-linejoin:round; stroke-width:4; stroke-opacity:1; fill:none\" points=\"226.531,1035.39 1952.76,1035.39 \"/>\n",
       "<polyline clip-path=\"url(#clip440)\" style=\"stroke:#000000; stroke-linecap:round; stroke-linejoin:round; stroke-width:4; stroke-opacity:1; fill:none\" points=\"275.386,1035.39 275.386,1016.49 \"/>\n",
       "<polyline clip-path=\"url(#clip440)\" style=\"stroke:#000000; stroke-linecap:round; stroke-linejoin:round; stroke-width:4; stroke-opacity:1; fill:none\" points=\"682.515,1035.39 682.515,1016.49 \"/>\n",
       "<polyline clip-path=\"url(#clip440)\" style=\"stroke:#000000; stroke-linecap:round; stroke-linejoin:round; stroke-width:4; stroke-opacity:1; fill:none\" points=\"1089.64,1035.39 1089.64,1016.49 \"/>\n",
       "<polyline clip-path=\"url(#clip440)\" style=\"stroke:#000000; stroke-linecap:round; stroke-linejoin:round; stroke-width:4; stroke-opacity:1; fill:none\" points=\"1496.77,1035.39 1496.77,1016.49 \"/>\n",
       "<polyline clip-path=\"url(#clip440)\" style=\"stroke:#000000; stroke-linecap:round; stroke-linejoin:round; stroke-width:4; stroke-opacity:1; fill:none\" points=\"1903.9,1035.39 1903.9,1016.49 \"/>\n",
       "<path clip-path=\"url(#clip440)\" d=\"M237.69 1063.11 Q234.079 1063.11 232.25 1066.67 Q230.444 1070.21 230.444 1077.34 Q230.444 1084.45 232.25 1088.01 Q234.079 1091.56 237.69 1091.56 Q241.324 1091.56 243.13 1088.01 Q244.958 1084.45 244.958 1077.34 Q244.958 1070.21 243.13 1066.67 Q241.324 1063.11 237.69 1063.11 M237.69 1059.4 Q243.5 1059.4 246.555 1064.01 Q249.634 1068.59 249.634 1077.34 Q249.634 1086.07 246.555 1090.68 Q243.5 1095.26 237.69 1095.26 Q231.88 1095.26 228.801 1090.68 Q225.745 1086.07 225.745 1077.34 Q225.745 1068.59 228.801 1064.01 Q231.88 1059.4 237.69 1059.4 Z\" fill=\"#000000\" fill-rule=\"evenodd\" fill-opacity=\"1\" /><path clip-path=\"url(#clip440)\" d=\"M257.852 1088.71 L262.736 1088.71 L262.736 1094.59 L257.852 1094.59 L257.852 1088.71 Z\" fill=\"#000000\" fill-rule=\"evenodd\" fill-opacity=\"1\" /><path clip-path=\"url(#clip440)\" d=\"M282.921 1063.11 Q279.31 1063.11 277.481 1066.67 Q275.676 1070.21 275.676 1077.34 Q275.676 1084.45 277.481 1088.01 Q279.31 1091.56 282.921 1091.56 Q286.555 1091.56 288.361 1088.01 Q290.189 1084.45 290.189 1077.34 Q290.189 1070.21 288.361 1066.67 Q286.555 1063.11 282.921 1063.11 M282.921 1059.4 Q288.731 1059.4 291.787 1064.01 Q294.865 1068.59 294.865 1077.34 Q294.865 1086.07 291.787 1090.68 Q288.731 1095.26 282.921 1095.26 Q277.111 1095.26 274.032 1090.68 Q270.977 1086.07 270.977 1077.34 Q270.977 1068.59 274.032 1064.01 Q277.111 1059.4 282.921 1059.4 Z\" fill=\"#000000\" fill-rule=\"evenodd\" fill-opacity=\"1\" /><path clip-path=\"url(#clip440)\" d=\"M313.083 1063.11 Q309.472 1063.11 307.643 1066.67 Q305.838 1070.21 305.838 1077.34 Q305.838 1084.45 307.643 1088.01 Q309.472 1091.56 313.083 1091.56 Q316.717 1091.56 318.523 1088.01 Q320.351 1084.45 320.351 1077.34 Q320.351 1070.21 318.523 1066.67 Q316.717 1063.11 313.083 1063.11 M313.083 1059.4 Q318.893 1059.4 321.949 1064.01 Q325.027 1068.59 325.027 1077.34 Q325.027 1086.07 321.949 1090.68 Q318.893 1095.26 313.083 1095.26 Q307.273 1095.26 304.194 1090.68 Q301.138 1086.07 301.138 1077.34 Q301.138 1068.59 304.194 1064.01 Q307.273 1059.4 313.083 1059.4 Z\" fill=\"#000000\" fill-rule=\"evenodd\" fill-opacity=\"1\" /><path clip-path=\"url(#clip440)\" d=\"M645.316 1063.11 Q641.705 1063.11 639.876 1066.67 Q638.071 1070.21 638.071 1077.34 Q638.071 1084.45 639.876 1088.01 Q641.705 1091.56 645.316 1091.56 Q648.95 1091.56 650.756 1088.01 Q652.584 1084.45 652.584 1077.34 Q652.584 1070.21 650.756 1066.67 Q648.95 1063.11 645.316 1063.11 M645.316 1059.4 Q651.126 1059.4 654.182 1064.01 Q657.26 1068.59 657.26 1077.34 Q657.26 1086.07 654.182 1090.68 Q651.126 1095.26 645.316 1095.26 Q639.506 1095.26 636.427 1090.68 Q633.372 1086.07 633.372 1077.34 Q633.372 1068.59 636.427 1064.01 Q639.506 1059.4 645.316 1059.4 Z\" fill=\"#000000\" fill-rule=\"evenodd\" fill-opacity=\"1\" /><path clip-path=\"url(#clip440)\" d=\"M665.478 1088.71 L670.362 1088.71 L670.362 1094.59 L665.478 1094.59 L665.478 1088.71 Z\" fill=\"#000000\" fill-rule=\"evenodd\" fill-opacity=\"1\" /><path clip-path=\"url(#clip440)\" d=\"M684.575 1090.65 L700.894 1090.65 L700.894 1094.59 L678.95 1094.59 L678.95 1090.65 Q681.612 1087.9 686.195 1083.27 Q690.802 1078.62 691.982 1077.27 Q694.228 1074.75 695.107 1073.01 Q696.01 1071.25 696.01 1069.56 Q696.01 1066.81 694.066 1065.07 Q692.144 1063.34 689.043 1063.34 Q686.844 1063.34 684.39 1064.1 Q681.959 1064.87 679.182 1066.42 L679.182 1061.69 Q682.006 1060.56 684.459 1059.98 Q686.913 1059.4 688.95 1059.4 Q694.32 1059.4 697.515 1062.09 Q700.709 1064.77 700.709 1069.26 Q700.709 1071.39 699.899 1073.31 Q699.112 1075.21 697.005 1077.81 Q696.427 1078.48 693.325 1081.69 Q690.223 1084.89 684.575 1090.65 Z\" fill=\"#000000\" fill-rule=\"evenodd\" fill-opacity=\"1\" /><path clip-path=\"url(#clip440)\" d=\"M710.755 1060.03 L729.112 1060.03 L729.112 1063.96 L715.038 1063.96 L715.038 1072.44 Q716.056 1072.09 717.075 1071.93 Q718.093 1071.74 719.112 1071.74 Q724.899 1071.74 728.278 1074.91 Q731.658 1078.08 731.658 1083.5 Q731.658 1089.08 728.186 1092.18 Q724.714 1095.26 718.394 1095.26 Q716.218 1095.26 713.95 1094.89 Q711.704 1094.52 709.297 1093.78 L709.297 1089.08 Q711.38 1090.21 713.603 1090.77 Q715.825 1091.32 718.302 1091.32 Q722.306 1091.32 724.644 1089.22 Q726.982 1087.11 726.982 1083.5 Q726.982 1079.89 724.644 1077.78 Q722.306 1075.68 718.302 1075.68 Q716.427 1075.68 714.552 1076.09 Q712.7 1076.51 710.755 1077.39 L710.755 1060.03 Z\" fill=\"#000000\" fill-rule=\"evenodd\" fill-opacity=\"1\" /><path clip-path=\"url(#clip440)\" d=\"M1051.95 1063.11 Q1048.34 1063.11 1046.51 1066.67 Q1044.7 1070.21 1044.7 1077.34 Q1044.7 1084.45 1046.51 1088.01 Q1048.34 1091.56 1051.95 1091.56 Q1055.58 1091.56 1057.39 1088.01 Q1059.22 1084.45 1059.22 1077.34 Q1059.22 1070.21 1057.39 1066.67 Q1055.58 1063.11 1051.95 1063.11 M1051.95 1059.4 Q1057.76 1059.4 1060.81 1064.01 Q1063.89 1068.59 1063.89 1077.34 Q1063.89 1086.07 1060.81 1090.68 Q1057.76 1095.26 1051.95 1095.26 Q1046.14 1095.26 1043.06 1090.68 Q1040 1086.07 1040 1077.34 Q1040 1068.59 1043.06 1064.01 Q1046.14 1059.4 1051.95 1059.4 Z\" fill=\"#000000\" fill-rule=\"evenodd\" fill-opacity=\"1\" /><path clip-path=\"url(#clip440)\" d=\"M1072.11 1088.71 L1076.99 1088.71 L1076.99 1094.59 L1072.11 1094.59 L1072.11 1088.71 Z\" fill=\"#000000\" fill-rule=\"evenodd\" fill-opacity=\"1\" /><path clip-path=\"url(#clip440)\" d=\"M1087.22 1060.03 L1105.58 1060.03 L1105.58 1063.96 L1091.51 1063.96 L1091.51 1072.44 Q1092.53 1072.09 1093.54 1071.93 Q1094.56 1071.74 1095.58 1071.74 Q1101.37 1071.74 1104.75 1074.91 Q1108.13 1078.08 1108.13 1083.5 Q1108.13 1089.08 1104.65 1092.18 Q1101.18 1095.26 1094.86 1095.26 Q1092.69 1095.26 1090.42 1094.89 Q1088.17 1094.52 1085.77 1093.78 L1085.77 1089.08 Q1087.85 1090.21 1090.07 1090.77 Q1092.29 1091.32 1094.77 1091.32 Q1098.78 1091.32 1101.11 1089.22 Q1103.45 1087.11 1103.45 1083.5 Q1103.45 1079.89 1101.11 1077.78 Q1098.78 1075.68 1094.77 1075.68 Q1092.9 1075.68 1091.02 1076.09 Q1089.17 1076.51 1087.22 1077.39 L1087.22 1060.03 Z\" fill=\"#000000\" fill-rule=\"evenodd\" fill-opacity=\"1\" /><path clip-path=\"url(#clip440)\" d=\"M1127.34 1063.11 Q1123.73 1063.11 1121.9 1066.67 Q1120.09 1070.21 1120.09 1077.34 Q1120.09 1084.45 1121.9 1088.01 Q1123.73 1091.56 1127.34 1091.56 Q1130.97 1091.56 1132.78 1088.01 Q1134.61 1084.45 1134.61 1077.34 Q1134.61 1070.21 1132.78 1066.67 Q1130.97 1063.11 1127.34 1063.11 M1127.34 1059.4 Q1133.15 1059.4 1136.21 1064.01 Q1139.28 1068.59 1139.28 1077.34 Q1139.28 1086.07 1136.21 1090.68 Q1133.15 1095.26 1127.34 1095.26 Q1121.53 1095.26 1118.45 1090.68 Q1115.4 1086.07 1115.4 1077.34 Q1115.4 1068.59 1118.45 1064.01 Q1121.53 1059.4 1127.34 1059.4 Z\" fill=\"#000000\" fill-rule=\"evenodd\" fill-opacity=\"1\" /><path clip-path=\"url(#clip440)\" d=\"M1459.57 1063.11 Q1455.96 1063.11 1454.13 1066.67 Q1452.33 1070.21 1452.33 1077.34 Q1452.33 1084.45 1454.13 1088.01 Q1455.96 1091.56 1459.57 1091.56 Q1463.21 1091.56 1465.01 1088.01 Q1466.84 1084.45 1466.84 1077.34 Q1466.84 1070.21 1465.01 1066.67 Q1463.21 1063.11 1459.57 1063.11 M1459.57 1059.4 Q1465.38 1059.4 1468.44 1064.01 Q1471.52 1068.59 1471.52 1077.34 Q1471.52 1086.07 1468.44 1090.68 Q1465.38 1095.26 1459.57 1095.26 Q1453.76 1095.26 1450.68 1090.68 Q1447.63 1086.07 1447.63 1077.34 Q1447.63 1068.59 1450.68 1064.01 Q1453.76 1059.4 1459.57 1059.4 Z\" fill=\"#000000\" fill-rule=\"evenodd\" fill-opacity=\"1\" /><path clip-path=\"url(#clip440)\" d=\"M1479.73 1088.71 L1484.62 1088.71 L1484.62 1094.59 L1479.73 1094.59 L1479.73 1088.71 Z\" fill=\"#000000\" fill-rule=\"evenodd\" fill-opacity=\"1\" /><path clip-path=\"url(#clip440)\" d=\"M1493.62 1060.03 L1515.85 1060.03 L1515.85 1062.02 L1503.3 1094.59 L1498.42 1094.59 L1510.22 1063.96 L1493.62 1063.96 L1493.62 1060.03 Z\" fill=\"#000000\" fill-rule=\"evenodd\" fill-opacity=\"1\" /><path clip-path=\"url(#clip440)\" d=\"M1525.01 1060.03 L1543.37 1060.03 L1543.37 1063.96 L1529.29 1063.96 L1529.29 1072.44 Q1530.31 1072.09 1531.33 1071.93 Q1532.35 1071.74 1533.37 1071.74 Q1539.16 1071.74 1542.54 1074.91 Q1545.92 1078.08 1545.92 1083.5 Q1545.92 1089.08 1542.44 1092.18 Q1538.97 1095.26 1532.65 1095.26 Q1530.48 1095.26 1528.21 1094.89 Q1525.96 1094.52 1523.55 1093.78 L1523.55 1089.08 Q1525.64 1090.21 1527.86 1090.77 Q1530.08 1091.32 1532.56 1091.32 Q1536.56 1091.32 1538.9 1089.22 Q1541.24 1087.11 1541.24 1083.5 Q1541.24 1079.89 1538.9 1077.78 Q1536.56 1075.68 1532.56 1075.68 Q1530.68 1075.68 1528.81 1076.09 Q1526.96 1076.51 1525.01 1077.39 L1525.01 1060.03 Z\" fill=\"#000000\" fill-rule=\"evenodd\" fill-opacity=\"1\" /><path clip-path=\"url(#clip440)\" d=\"M1855.97 1090.65 L1863.61 1090.65 L1863.61 1064.29 L1855.3 1065.95 L1855.3 1061.69 L1863.57 1060.03 L1868.24 1060.03 L1868.24 1090.65 L1875.88 1090.65 L1875.88 1094.59 L1855.97 1094.59 L1855.97 1090.65 Z\" fill=\"#000000\" fill-rule=\"evenodd\" fill-opacity=\"1\" /><path clip-path=\"url(#clip440)\" d=\"M1885.32 1088.71 L1890.21 1088.71 L1890.21 1094.59 L1885.32 1094.59 L1885.32 1088.71 Z\" fill=\"#000000\" fill-rule=\"evenodd\" fill-opacity=\"1\" /><path clip-path=\"url(#clip440)\" d=\"M1910.39 1063.11 Q1906.78 1063.11 1904.95 1066.67 Q1903.15 1070.21 1903.15 1077.34 Q1903.15 1084.45 1904.95 1088.01 Q1906.78 1091.56 1910.39 1091.56 Q1914.03 1091.56 1915.83 1088.01 Q1917.66 1084.45 1917.66 1077.34 Q1917.66 1070.21 1915.83 1066.67 Q1914.03 1063.11 1910.39 1063.11 M1910.39 1059.4 Q1916.2 1059.4 1919.26 1064.01 Q1922.34 1068.59 1922.34 1077.34 Q1922.34 1086.07 1919.26 1090.68 Q1916.2 1095.26 1910.39 1095.26 Q1904.58 1095.26 1901.5 1090.68 Q1898.45 1086.07 1898.45 1077.34 Q1898.45 1068.59 1901.5 1064.01 Q1904.58 1059.4 1910.39 1059.4 Z\" fill=\"#000000\" fill-rule=\"evenodd\" fill-opacity=\"1\" /><path clip-path=\"url(#clip440)\" d=\"M1940.56 1063.11 Q1936.94 1063.11 1935.12 1066.67 Q1933.31 1070.21 1933.31 1077.34 Q1933.31 1084.45 1935.12 1088.01 Q1936.94 1091.56 1940.56 1091.56 Q1944.19 1091.56 1946 1088.01 Q1947.82 1084.45 1947.82 1077.34 Q1947.82 1070.21 1946 1066.67 Q1944.19 1063.11 1940.56 1063.11 M1940.56 1059.4 Q1946.37 1059.4 1949.42 1064.01 Q1952.5 1068.59 1952.5 1077.34 Q1952.5 1086.07 1949.42 1090.68 Q1946.37 1095.26 1940.56 1095.26 Q1934.75 1095.26 1931.67 1090.68 Q1928.61 1086.07 1928.61 1077.34 Q1928.61 1068.59 1931.67 1064.01 Q1934.75 1059.4 1940.56 1059.4 Z\" fill=\"#000000\" fill-rule=\"evenodd\" fill-opacity=\"1\" /><path clip-path=\"url(#clip440)\" d=\"M918.692 1151.97 Q920.761 1152.67 922.703 1154.96 Q924.676 1157.26 926.649 1161.27 L933.174 1174.25 L926.268 1174.25 L920.188 1162.06 Q917.833 1157.29 915.605 1155.73 Q913.409 1154.17 909.589 1154.17 L902.587 1154.17 L902.587 1174.25 L896.158 1174.25 L896.158 1126.73 L910.672 1126.73 Q918.82 1126.73 922.83 1130.14 Q926.84 1133.54 926.84 1140.42 Q926.84 1144.91 924.74 1147.87 Q922.671 1150.83 918.692 1151.97 M902.587 1132.02 L902.587 1148.88 L910.672 1148.88 Q915.319 1148.88 917.674 1146.75 Q920.061 1144.59 920.061 1140.42 Q920.061 1136.25 917.674 1134.15 Q915.319 1132.02 910.672 1132.02 L902.587 1132.02 Z\" fill=\"#000000\" fill-rule=\"evenodd\" fill-opacity=\"1\" /><path clip-path=\"url(#clip440)\" d=\"M941.195 1138.6 L947.052 1138.6 L947.052 1174.25 L941.195 1174.25 L941.195 1138.6 M941.195 1124.73 L947.052 1124.73 L947.052 1132.14 L941.195 1132.14 L941.195 1124.73 Z\" fill=\"#000000\" fill-rule=\"evenodd\" fill-opacity=\"1\" /><path clip-path=\"url(#clip440)\" d=\"M982.031 1139.65 L982.031 1145.19 Q979.548 1143.92 976.875 1143.28 Q974.201 1142.65 971.337 1142.65 Q966.976 1142.65 964.78 1143.98 Q962.616 1145.32 962.616 1147.99 Q962.616 1150.03 964.175 1151.21 Q965.735 1152.35 970.446 1153.4 L972.451 1153.85 Q978.689 1155.19 981.299 1157.64 Q983.941 1160.06 983.941 1164.42 Q983.941 1169.38 979.994 1172.28 Q976.079 1175.17 969.204 1175.17 Q966.34 1175.17 963.22 1174.6 Q960.133 1174.06 956.696 1172.95 L956.696 1166.9 Q959.942 1168.59 963.093 1169.45 Q966.244 1170.27 969.332 1170.27 Q973.469 1170.27 975.697 1168.87 Q977.925 1167.44 977.925 1164.86 Q977.925 1162.48 976.302 1161.2 Q974.711 1159.93 969.268 1158.75 L967.231 1158.27 Q961.788 1157.13 959.369 1154.77 Q956.95 1152.39 956.95 1148.25 Q956.95 1143.22 960.515 1140.48 Q964.08 1137.74 970.636 1137.74 Q973.883 1137.74 976.748 1138.22 Q979.612 1138.7 982.031 1139.65 Z\" fill=\"#000000\" fill-rule=\"evenodd\" fill-opacity=\"1\" /><path clip-path=\"url(#clip440)\" d=\"M993.044 1124.73 L998.932 1124.73 L998.932 1153.98 L1016.41 1138.6 L1023.89 1138.6 L1004.98 1155.28 L1024.68 1174.25 L1017.04 1174.25 L998.932 1156.84 L998.932 1174.25 L993.044 1174.25 L993.044 1124.73 Z\" fill=\"#000000\" fill-rule=\"evenodd\" fill-opacity=\"1\" /><path clip-path=\"url(#clip440)\" d=\"M1051.74 1124.73 L1057.59 1124.73 L1057.59 1174.25 L1051.74 1174.25 L1051.74 1124.73 Z\" fill=\"#000000\" fill-rule=\"evenodd\" fill-opacity=\"1\" /><path clip-path=\"url(#clip440)\" d=\"M1100.34 1154.96 L1100.34 1157.83 L1073.41 1157.83 Q1073.79 1163.88 1077.04 1167.06 Q1080.32 1170.21 1086.14 1170.21 Q1089.52 1170.21 1092.67 1169.38 Q1095.85 1168.55 1098.97 1166.9 L1098.97 1172.44 Q1095.82 1173.77 1092.51 1174.47 Q1089.2 1175.17 1085.79 1175.17 Q1077.26 1175.17 1072.26 1170.21 Q1067.3 1165.24 1067.3 1156.78 Q1067.3 1148.03 1072.01 1142.9 Q1076.75 1137.74 1084.77 1137.74 Q1091.97 1137.74 1096.14 1142.39 Q1100.34 1147.01 1100.34 1154.96 M1094.48 1153.25 Q1094.42 1148.44 1091.78 1145.57 Q1089.17 1142.71 1084.84 1142.71 Q1079.94 1142.71 1076.98 1145.48 Q1074.05 1148.25 1073.6 1153.28 L1094.48 1153.25 Z\" fill=\"#000000\" fill-rule=\"evenodd\" fill-opacity=\"1\" /><path clip-path=\"url(#clip440)\" d=\"M1105.75 1138.6 L1111.96 1138.6 L1123.1 1168.52 L1134.24 1138.6 L1140.44 1138.6 L1127.07 1174.25 L1119.12 1174.25 L1105.75 1138.6 Z\" fill=\"#000000\" fill-rule=\"evenodd\" fill-opacity=\"1\" /><path clip-path=\"url(#clip440)\" d=\"M1179.02 1154.96 L1179.02 1157.83 L1152.09 1157.83 Q1152.47 1163.88 1155.72 1167.06 Q1159 1170.21 1164.82 1170.21 Q1168.2 1170.21 1171.35 1169.38 Q1174.53 1168.55 1177.65 1166.9 L1177.65 1172.44 Q1174.5 1173.77 1171.19 1174.47 Q1167.88 1175.17 1164.47 1175.17 Q1155.94 1175.17 1150.95 1170.21 Q1145.98 1165.24 1145.98 1156.78 Q1145.98 1148.03 1150.69 1142.9 Q1155.43 1137.74 1163.45 1137.74 Q1170.65 1137.74 1174.82 1142.39 Q1179.02 1147.01 1179.02 1154.96 M1173.16 1153.25 Q1173.1 1148.44 1170.46 1145.57 Q1167.85 1142.71 1163.52 1142.71 Q1158.62 1142.71 1155.66 1145.48 Q1152.73 1148.25 1152.28 1153.28 L1173.16 1153.25 Z\" fill=\"#000000\" fill-rule=\"evenodd\" fill-opacity=\"1\" /><path clip-path=\"url(#clip440)\" d=\"M1188.63 1124.73 L1194.49 1124.73 L1194.49 1174.25 L1188.63 1174.25 L1188.63 1124.73 Z\" fill=\"#000000\" fill-rule=\"evenodd\" fill-opacity=\"1\" /><path clip-path=\"url(#clip440)\" d=\"M1208.24 1166.17 L1214.95 1166.17 L1214.95 1174.25 L1208.24 1174.25 L1208.24 1166.17 M1208.24 1140.55 L1214.95 1140.55 L1214.95 1148.63 L1208.24 1148.63 L1208.24 1140.55 Z\" fill=\"#000000\" fill-rule=\"evenodd\" fill-opacity=\"1\" /><path clip-path=\"url(#clip440)\" d=\"M1270.21 1157.67 L1268.81 1150.32 Q1267.37 1142.77 1261.71 1142.77 Q1257.44 1142.77 1255.5 1146.27 Q1253.05 1150.67 1253.05 1156.46 Q1253.05 1163.46 1255.44 1166.8 Q1257.86 1170.21 1261.71 1170.21 Q1265.97 1170.21 1268.27 1163.43 L1270.21 1157.67 M1273.48 1147.93 L1276.64 1138.6 L1281.86 1138.6 L1275.33 1157.92 L1276.6 1164.89 Q1276.89 1166.45 1278 1167.76 Q1279.31 1169.29 1280.33 1169.29 L1283.13 1169.29 L1283.13 1174.25 L1279.63 1174.25 Q1276.64 1174.25 1273.96 1171.58 Q1272.66 1170.24 1272.12 1167.44 Q1270.65 1170.97 1267.66 1173.74 Q1266.26 1175.05 1261.71 1175.05 Q1254.23 1175.05 1250.6 1170.21 Q1246.88 1165.21 1246.88 1156.46 Q1246.88 1147.1 1250.92 1142.71 Q1255.41 1137.81 1261.71 1137.81 Q1271.61 1137.81 1273.48 1147.93 Z\" fill=\"#000000\" fill-rule=\"evenodd\" fill-opacity=\"1\" /><polyline clip-path=\"url(#clip442)\" style=\"stroke:#000000; stroke-linecap:round; stroke-linejoin:round; stroke-width:2; stroke-opacity:0.1; fill:none\" points=\"226.531,925.12 1952.76,925.12 \"/>\n",
       "<polyline clip-path=\"url(#clip442)\" style=\"stroke:#000000; stroke-linecap:round; stroke-linejoin:round; stroke-width:2; stroke-opacity:0.1; fill:none\" points=\"226.531,764.36 1952.76,764.36 \"/>\n",
       "<polyline clip-path=\"url(#clip442)\" style=\"stroke:#000000; stroke-linecap:round; stroke-linejoin:round; stroke-width:2; stroke-opacity:0.1; fill:none\" points=\"226.531,603.6 1952.76,603.6 \"/>\n",
       "<polyline clip-path=\"url(#clip442)\" style=\"stroke:#000000; stroke-linecap:round; stroke-linejoin:round; stroke-width:2; stroke-opacity:0.1; fill:none\" points=\"226.531,442.841 1952.76,442.841 \"/>\n",
       "<polyline clip-path=\"url(#clip442)\" style=\"stroke:#000000; stroke-linecap:round; stroke-linejoin:round; stroke-width:2; stroke-opacity:0.1; fill:none\" points=\"226.531,282.081 1952.76,282.081 \"/>\n",
       "<polyline clip-path=\"url(#clip442)\" style=\"stroke:#000000; stroke-linecap:round; stroke-linejoin:round; stroke-width:2; stroke-opacity:0.1; fill:none\" points=\"226.531,121.321 1952.76,121.321 \"/>\n",
       "<polyline clip-path=\"url(#clip440)\" style=\"stroke:#000000; stroke-linecap:round; stroke-linejoin:round; stroke-width:4; stroke-opacity:1; fill:none\" points=\"226.531,1035.39 226.531,47.2441 \"/>\n",
       "<polyline clip-path=\"url(#clip440)\" style=\"stroke:#000000; stroke-linecap:round; stroke-linejoin:round; stroke-width:4; stroke-opacity:1; fill:none\" points=\"226.531,925.12 245.428,925.12 \"/>\n",
       "<polyline clip-path=\"url(#clip440)\" style=\"stroke:#000000; stroke-linecap:round; stroke-linejoin:round; stroke-width:4; stroke-opacity:1; fill:none\" points=\"226.531,764.36 245.428,764.36 \"/>\n",
       "<polyline clip-path=\"url(#clip440)\" style=\"stroke:#000000; stroke-linecap:round; stroke-linejoin:round; stroke-width:4; stroke-opacity:1; fill:none\" points=\"226.531,603.6 245.428,603.6 \"/>\n",
       "<polyline clip-path=\"url(#clip440)\" style=\"stroke:#000000; stroke-linecap:round; stroke-linejoin:round; stroke-width:4; stroke-opacity:1; fill:none\" points=\"226.531,442.841 245.428,442.841 \"/>\n",
       "<polyline clip-path=\"url(#clip440)\" style=\"stroke:#000000; stroke-linecap:round; stroke-linejoin:round; stroke-width:4; stroke-opacity:1; fill:none\" points=\"226.531,282.081 245.428,282.081 \"/>\n",
       "<polyline clip-path=\"url(#clip440)\" style=\"stroke:#000000; stroke-linecap:round; stroke-linejoin:round; stroke-width:4; stroke-opacity:1; fill:none\" points=\"226.531,121.321 245.428,121.321 \"/>\n",
       "<path clip-path=\"url(#clip440)\" d=\"M115.073 938.465 L122.712 938.465 L122.712 912.099 L114.402 913.766 L114.402 909.507 L122.666 907.84 L127.341 907.84 L127.341 938.465 L134.98 938.465 L134.98 942.4 L115.073 942.4 L115.073 938.465 Z\" fill=\"#000000\" fill-rule=\"evenodd\" fill-opacity=\"1\" /><path clip-path=\"url(#clip440)\" d=\"M154.425 910.919 Q150.814 910.919 148.985 914.483 Q147.179 918.025 147.179 925.155 Q147.179 932.261 148.985 935.826 Q150.814 939.368 154.425 939.368 Q158.059 939.368 159.864 935.826 Q161.693 932.261 161.693 925.155 Q161.693 918.025 159.864 914.483 Q158.059 910.919 154.425 910.919 M154.425 907.215 Q160.235 907.215 163.29 911.821 Q166.369 916.405 166.369 925.155 Q166.369 933.881 163.29 938.488 Q160.235 943.071 154.425 943.071 Q148.614 943.071 145.536 938.488 Q142.48 933.881 142.48 925.155 Q142.48 916.405 145.536 911.821 Q148.614 907.215 154.425 907.215 Z\" fill=\"#000000\" fill-rule=\"evenodd\" fill-opacity=\"1\" /><path clip-path=\"url(#clip440)\" d=\"M184.586 910.919 Q180.975 910.919 179.147 914.483 Q177.341 918.025 177.341 925.155 Q177.341 932.261 179.147 935.826 Q180.975 939.368 184.586 939.368 Q188.221 939.368 190.026 935.826 Q191.855 932.261 191.855 925.155 Q191.855 918.025 190.026 914.483 Q188.221 910.919 184.586 910.919 M184.586 907.215 Q190.397 907.215 193.452 911.821 Q196.531 916.405 196.531 925.155 Q196.531 933.881 193.452 938.488 Q190.397 943.071 184.586 943.071 Q178.776 943.071 175.698 938.488 Q172.642 933.881 172.642 925.155 Q172.642 916.405 175.698 911.821 Q178.776 907.215 184.586 907.215 Z\" fill=\"#000000\" fill-rule=\"evenodd\" fill-opacity=\"1\" /><path clip-path=\"url(#clip440)\" d=\"M118.291 777.705 L134.61 777.705 L134.61 781.64 L112.666 781.64 L112.666 777.705 Q115.328 774.95 119.911 770.321 Q124.517 765.668 125.698 764.325 Q127.943 761.802 128.823 760.066 Q129.726 758.307 129.726 756.617 Q129.726 753.863 127.781 752.126 Q125.86 750.39 122.758 750.39 Q120.559 750.39 118.105 751.154 Q115.675 751.918 112.897 753.469 L112.897 748.747 Q115.721 747.613 118.175 747.034 Q120.628 746.455 122.666 746.455 Q128.036 746.455 131.23 749.14 Q134.425 751.826 134.425 756.316 Q134.425 758.446 133.615 760.367 Q132.827 762.265 130.721 764.858 Q130.142 765.529 127.04 768.747 Q123.939 771.941 118.291 777.705 Z\" fill=\"#000000\" fill-rule=\"evenodd\" fill-opacity=\"1\" /><path clip-path=\"url(#clip440)\" d=\"M154.425 750.159 Q150.814 750.159 148.985 753.724 Q147.179 757.265 147.179 764.395 Q147.179 771.501 148.985 775.066 Q150.814 778.608 154.425 778.608 Q158.059 778.608 159.864 775.066 Q161.693 771.501 161.693 764.395 Q161.693 757.265 159.864 753.724 Q158.059 750.159 154.425 750.159 M154.425 746.455 Q160.235 746.455 163.29 751.062 Q166.369 755.645 166.369 764.395 Q166.369 773.122 163.29 777.728 Q160.235 782.311 154.425 782.311 Q148.614 782.311 145.536 777.728 Q142.48 773.122 142.48 764.395 Q142.48 755.645 145.536 751.062 Q148.614 746.455 154.425 746.455 Z\" fill=\"#000000\" fill-rule=\"evenodd\" fill-opacity=\"1\" /><path clip-path=\"url(#clip440)\" d=\"M184.586 750.159 Q180.975 750.159 179.147 753.724 Q177.341 757.265 177.341 764.395 Q177.341 771.501 179.147 775.066 Q180.975 778.608 184.586 778.608 Q188.221 778.608 190.026 775.066 Q191.855 771.501 191.855 764.395 Q191.855 757.265 190.026 753.724 Q188.221 750.159 184.586 750.159 M184.586 746.455 Q190.397 746.455 193.452 751.062 Q196.531 755.645 196.531 764.395 Q196.531 773.122 193.452 777.728 Q190.397 782.311 184.586 782.311 Q178.776 782.311 175.698 777.728 Q172.642 773.122 172.642 764.395 Q172.642 755.645 175.698 751.062 Q178.776 746.455 184.586 746.455 Z\" fill=\"#000000\" fill-rule=\"evenodd\" fill-opacity=\"1\" /><path clip-path=\"url(#clip440)\" d=\"M128.429 602.246 Q131.786 602.964 133.661 605.232 Q135.559 607.501 135.559 610.834 Q135.559 615.95 132.04 618.751 Q128.522 621.552 122.041 621.552 Q119.865 621.552 117.55 621.112 Q115.258 620.695 112.804 619.839 L112.804 615.325 Q114.749 616.459 117.064 617.038 Q119.378 617.616 121.902 617.616 Q126.3 617.616 128.591 615.88 Q130.906 614.144 130.906 610.834 Q130.906 607.779 128.753 606.066 Q126.624 604.33 122.804 604.33 L118.777 604.33 L118.777 600.487 L122.99 600.487 Q126.439 600.487 128.267 599.121 Q130.096 597.732 130.096 595.14 Q130.096 592.478 128.198 591.066 Q126.323 589.631 122.804 589.631 Q120.883 589.631 118.684 590.047 Q116.485 590.464 113.846 591.343 L113.846 587.177 Q116.508 586.436 118.823 586.066 Q121.161 585.695 123.221 585.695 Q128.545 585.695 131.647 588.126 Q134.749 590.533 134.749 594.654 Q134.749 597.524 133.105 599.515 Q131.462 601.482 128.429 602.246 Z\" fill=\"#000000\" fill-rule=\"evenodd\" fill-opacity=\"1\" /><path clip-path=\"url(#clip440)\" d=\"M154.425 589.399 Q150.814 589.399 148.985 592.964 Q147.179 596.505 147.179 603.635 Q147.179 610.742 148.985 614.306 Q150.814 617.848 154.425 617.848 Q158.059 617.848 159.864 614.306 Q161.693 610.742 161.693 603.635 Q161.693 596.505 159.864 592.964 Q158.059 589.399 154.425 589.399 M154.425 585.695 Q160.235 585.695 163.29 590.302 Q166.369 594.885 166.369 603.635 Q166.369 612.362 163.29 616.968 Q160.235 621.552 154.425 621.552 Q148.614 621.552 145.536 616.968 Q142.48 612.362 142.48 603.635 Q142.48 594.885 145.536 590.302 Q148.614 585.695 154.425 585.695 Z\" fill=\"#000000\" fill-rule=\"evenodd\" fill-opacity=\"1\" /><path clip-path=\"url(#clip440)\" d=\"M184.586 589.399 Q180.975 589.399 179.147 592.964 Q177.341 596.505 177.341 603.635 Q177.341 610.742 179.147 614.306 Q180.975 617.848 184.586 617.848 Q188.221 617.848 190.026 614.306 Q191.855 610.742 191.855 603.635 Q191.855 596.505 190.026 592.964 Q188.221 589.399 184.586 589.399 M184.586 585.695 Q190.397 585.695 193.452 590.302 Q196.531 594.885 196.531 603.635 Q196.531 612.362 193.452 616.968 Q190.397 621.552 184.586 621.552 Q178.776 621.552 175.698 616.968 Q172.642 612.362 172.642 603.635 Q172.642 594.885 175.698 590.302 Q178.776 585.695 184.586 585.695 Z\" fill=\"#000000\" fill-rule=\"evenodd\" fill-opacity=\"1\" /><path clip-path=\"url(#clip440)\" d=\"M127.11 429.635 L115.304 448.084 L127.11 448.084 L127.11 429.635 M125.883 425.561 L131.763 425.561 L131.763 448.084 L136.693 448.084 L136.693 451.972 L131.763 451.972 L131.763 460.121 L127.11 460.121 L127.11 451.972 L111.508 451.972 L111.508 447.459 L125.883 425.561 Z\" fill=\"#000000\" fill-rule=\"evenodd\" fill-opacity=\"1\" /><path clip-path=\"url(#clip440)\" d=\"M154.425 428.639 Q150.814 428.639 148.985 432.204 Q147.179 435.746 147.179 442.875 Q147.179 449.982 148.985 453.547 Q150.814 457.088 154.425 457.088 Q158.059 457.088 159.864 453.547 Q161.693 449.982 161.693 442.875 Q161.693 435.746 159.864 432.204 Q158.059 428.639 154.425 428.639 M154.425 424.936 Q160.235 424.936 163.29 429.542 Q166.369 434.125 166.369 442.875 Q166.369 451.602 163.29 456.209 Q160.235 460.792 154.425 460.792 Q148.614 460.792 145.536 456.209 Q142.48 451.602 142.48 442.875 Q142.48 434.125 145.536 429.542 Q148.614 424.936 154.425 424.936 Z\" fill=\"#000000\" fill-rule=\"evenodd\" fill-opacity=\"1\" /><path clip-path=\"url(#clip440)\" d=\"M184.586 428.639 Q180.975 428.639 179.147 432.204 Q177.341 435.746 177.341 442.875 Q177.341 449.982 179.147 453.547 Q180.975 457.088 184.586 457.088 Q188.221 457.088 190.026 453.547 Q191.855 449.982 191.855 442.875 Q191.855 435.746 190.026 432.204 Q188.221 428.639 184.586 428.639 M184.586 424.936 Q190.397 424.936 193.452 429.542 Q196.531 434.125 196.531 442.875 Q196.531 451.602 193.452 456.209 Q190.397 460.792 184.586 460.792 Q178.776 460.792 175.698 456.209 Q172.642 451.602 172.642 442.875 Q172.642 434.125 175.698 429.542 Q178.776 424.936 184.586 424.936 Z\" fill=\"#000000\" fill-rule=\"evenodd\" fill-opacity=\"1\" /><path clip-path=\"url(#clip440)\" d=\"M114.309 264.801 L132.665 264.801 L132.665 268.736 L118.591 268.736 L118.591 277.208 Q119.61 276.861 120.628 276.699 Q121.647 276.514 122.666 276.514 Q128.453 276.514 131.832 279.685 Q135.212 282.856 135.212 288.273 Q135.212 293.852 131.74 296.953 Q128.267 300.032 121.948 300.032 Q119.772 300.032 117.503 299.662 Q115.258 299.291 112.851 298.551 L112.851 293.852 Q114.934 294.986 117.156 295.541 Q119.378 296.097 121.855 296.097 Q125.86 296.097 128.198 293.99 Q130.536 291.884 130.536 288.273 Q130.536 284.662 128.198 282.555 Q125.86 280.449 121.855 280.449 Q119.98 280.449 118.105 280.865 Q116.254 281.282 114.309 282.162 L114.309 264.801 Z\" fill=\"#000000\" fill-rule=\"evenodd\" fill-opacity=\"1\" /><path clip-path=\"url(#clip440)\" d=\"M154.425 267.879 Q150.814 267.879 148.985 271.444 Q147.179 274.986 147.179 282.115 Q147.179 289.222 148.985 292.787 Q150.814 296.328 154.425 296.328 Q158.059 296.328 159.864 292.787 Q161.693 289.222 161.693 282.115 Q161.693 274.986 159.864 271.444 Q158.059 267.879 154.425 267.879 M154.425 264.176 Q160.235 264.176 163.29 268.782 Q166.369 273.366 166.369 282.115 Q166.369 290.842 163.29 295.449 Q160.235 300.032 154.425 300.032 Q148.614 300.032 145.536 295.449 Q142.48 290.842 142.48 282.115 Q142.48 273.366 145.536 268.782 Q148.614 264.176 154.425 264.176 Z\" fill=\"#000000\" fill-rule=\"evenodd\" fill-opacity=\"1\" /><path clip-path=\"url(#clip440)\" d=\"M184.586 267.879 Q180.975 267.879 179.147 271.444 Q177.341 274.986 177.341 282.115 Q177.341 289.222 179.147 292.787 Q180.975 296.328 184.586 296.328 Q188.221 296.328 190.026 292.787 Q191.855 289.222 191.855 282.115 Q191.855 274.986 190.026 271.444 Q188.221 267.879 184.586 267.879 M184.586 264.176 Q190.397 264.176 193.452 268.782 Q196.531 273.366 196.531 282.115 Q196.531 290.842 193.452 295.449 Q190.397 300.032 184.586 300.032 Q178.776 300.032 175.698 295.449 Q172.642 290.842 172.642 282.115 Q172.642 273.366 175.698 268.782 Q178.776 264.176 184.586 264.176 Z\" fill=\"#000000\" fill-rule=\"evenodd\" fill-opacity=\"1\" /><path clip-path=\"url(#clip440)\" d=\"M124.841 119.458 Q121.693 119.458 119.841 121.61 Q118.013 123.763 118.013 127.513 Q118.013 131.24 119.841 133.416 Q121.693 135.569 124.841 135.569 Q127.99 135.569 129.818 133.416 Q131.67 131.24 131.67 127.513 Q131.67 123.763 129.818 121.61 Q127.99 119.458 124.841 119.458 M134.124 104.805 L134.124 109.064 Q132.365 108.231 130.559 107.791 Q128.777 107.351 127.017 107.351 Q122.388 107.351 119.934 110.476 Q117.503 113.601 117.156 119.92 Q118.522 117.907 120.582 116.842 Q122.642 115.754 125.119 115.754 Q130.328 115.754 133.337 118.925 Q136.369 122.073 136.369 127.513 Q136.369 132.837 133.221 136.055 Q130.073 139.272 124.841 139.272 Q118.846 139.272 115.675 134.689 Q112.504 130.082 112.504 121.356 Q112.504 113.161 116.392 108.3 Q120.281 103.416 126.832 103.416 Q128.591 103.416 130.374 103.763 Q132.179 104.11 134.124 104.805 Z\" fill=\"#000000\" fill-rule=\"evenodd\" fill-opacity=\"1\" /><path clip-path=\"url(#clip440)\" d=\"M154.425 107.12 Q150.814 107.12 148.985 110.684 Q147.179 114.226 147.179 121.356 Q147.179 128.462 148.985 132.027 Q150.814 135.569 154.425 135.569 Q158.059 135.569 159.864 132.027 Q161.693 128.462 161.693 121.356 Q161.693 114.226 159.864 110.684 Q158.059 107.12 154.425 107.12 M154.425 103.416 Q160.235 103.416 163.29 108.022 Q166.369 112.606 166.369 121.356 Q166.369 130.082 163.29 134.689 Q160.235 139.272 154.425 139.272 Q148.614 139.272 145.536 134.689 Q142.48 130.082 142.48 121.356 Q142.48 112.606 145.536 108.022 Q148.614 103.416 154.425 103.416 Z\" fill=\"#000000\" fill-rule=\"evenodd\" fill-opacity=\"1\" /><path clip-path=\"url(#clip440)\" d=\"M184.586 107.12 Q180.975 107.12 179.147 110.684 Q177.341 114.226 177.341 121.356 Q177.341 128.462 179.147 132.027 Q180.975 135.569 184.586 135.569 Q188.221 135.569 190.026 132.027 Q191.855 128.462 191.855 121.356 Q191.855 114.226 190.026 110.684 Q188.221 107.12 184.586 107.12 M184.586 103.416 Q190.397 103.416 193.452 108.022 Q196.531 112.606 196.531 121.356 Q196.531 130.082 193.452 134.689 Q190.397 139.272 184.586 139.272 Q178.776 139.272 175.698 134.689 Q172.642 130.082 172.642 121.356 Q172.642 112.606 175.698 108.022 Q178.776 103.416 184.586 103.416 Z\" fill=\"#000000\" fill-rule=\"evenodd\" fill-opacity=\"1\" /><path clip-path=\"url(#clip440)\" d=\"M67.9947 859.703 L20.4747 877.845 L20.4747 871.13 L60.4832 856.075 L20.4747 840.988 L20.4747 834.304 L67.9947 852.414 L67.9947 859.703 Z\" fill=\"#000000\" fill-rule=\"evenodd\" fill-opacity=\"1\" /><path clip-path=\"url(#clip440)\" d=\"M50.0753 816.48 Q50.0753 823.578 51.6985 826.315 Q53.3218 829.052 57.2367 829.052 Q60.3559 829.052 62.2019 827.015 Q64.0162 824.946 64.0162 821.413 Q64.0162 816.544 60.5787 813.615 Q57.1094 810.655 51.3802 810.655 L50.0753 810.655 L50.0753 816.48 M47.6563 804.799 L67.9947 804.799 L67.9947 810.655 L62.5839 810.655 Q65.8304 812.661 67.39 815.652 Q68.9178 818.644 68.9178 822.973 Q68.9178 828.447 65.8622 831.694 Q62.7748 834.909 57.6186 834.909 Q51.603 834.909 48.5475 830.898 Q45.492 826.856 45.492 818.867 L45.492 810.655 L44.919 810.655 Q40.8768 810.655 38.6806 813.329 Q36.4526 815.971 36.4526 820.777 Q36.4526 823.832 37.1847 826.729 Q37.9168 829.625 39.3809 832.299 L33.97 832.299 Q32.7287 829.084 32.124 826.06 Q31.4874 823.037 31.4874 820.172 Q31.4874 812.438 35.4978 808.618 Q39.5082 804.799 47.6563 804.799 Z\" fill=\"#000000\" fill-rule=\"evenodd\" fill-opacity=\"1\" /><path clip-path=\"url(#clip440)\" d=\"M18.4695 792.736 L18.4695 786.879 L67.9947 786.879 L67.9947 792.736 L18.4695 792.736 Z\" fill=\"#000000\" fill-rule=\"evenodd\" fill-opacity=\"1\" /><path clip-path=\"url(#clip440)\" d=\"M53.9265 775.23 L32.3468 775.23 L32.3468 769.374 L53.7037 769.374 Q58.7645 769.374 61.3107 767.4 Q63.8252 765.427 63.8252 761.48 Q63.8252 756.738 60.8015 754.001 Q57.7778 751.231 52.5579 751.231 L32.3468 751.231 L32.3468 745.375 L67.9947 745.375 L67.9947 751.231 L62.5202 751.231 Q65.7667 753.364 67.3582 756.197 Q68.9178 758.998 68.9178 762.722 Q68.9178 768.864 65.0983 772.047 Q61.2789 775.23 53.9265 775.23 M31.4874 760.494 L31.4874 760.494 Z\" fill=\"#000000\" fill-rule=\"evenodd\" fill-opacity=\"1\" /><path clip-path=\"url(#clip440)\" d=\"M48.7066 702.82 L51.5712 702.82 L51.5712 729.747 Q57.6186 729.365 60.8015 726.119 Q63.9525 722.84 63.9525 717.016 Q63.9525 713.642 63.125 710.491 Q62.2974 707.308 60.6423 704.189 L66.1805 704.189 Q67.5173 707.34 68.2175 710.65 Q68.9178 713.96 68.9178 717.366 Q68.9178 725.896 63.9525 730.893 Q58.9873 735.858 50.5209 735.858 Q41.768 735.858 36.6436 731.148 Q31.4874 726.405 31.4874 718.384 Q31.4874 711.191 36.1344 707.022 Q40.7495 702.82 48.7066 702.82 M46.9879 708.677 Q42.1818 708.74 39.3172 711.382 Q36.4526 713.992 36.4526 718.321 Q36.4526 723.222 39.2217 726.182 Q41.9908 729.111 47.0197 729.556 L46.9879 708.677 Z\" fill=\"#000000\" fill-rule=\"evenodd\" fill-opacity=\"1\" /><path clip-path=\"url(#clip440)\" d=\"M18.4695 654.441 L23.3393 654.441 L23.3393 660.043 Q23.3393 663.194 24.6124 664.435 Q25.8856 665.645 29.1957 665.645 L32.3468 665.645 L32.3468 656 L36.8982 656 L36.8982 665.645 L67.9947 665.645 L67.9947 671.533 L36.8982 671.533 L36.8982 677.135 L32.3468 677.135 L32.3468 671.533 L29.8641 671.533 Q23.9122 671.533 21.2068 668.764 Q18.4695 665.995 18.4695 659.979 L18.4695 654.441 Z\" fill=\"#000000\" fill-rule=\"evenodd\" fill-opacity=\"1\" /><path clip-path=\"url(#clip440)\" d=\"M53.9265 650.144 L32.3468 650.144 L32.3468 644.288 L53.7037 644.288 Q58.7645 644.288 61.3107 642.314 Q63.8252 640.341 63.8252 636.394 Q63.8252 631.652 60.8015 628.914 Q57.7778 626.145 52.5579 626.145 L32.3468 626.145 L32.3468 620.289 L67.9947 620.289 L67.9947 626.145 L62.5202 626.145 Q65.7667 628.278 67.3582 631.111 Q68.9178 633.911 68.9178 637.635 Q68.9178 643.778 65.0983 646.961 Q61.2789 650.144 53.9265 650.144 M31.4874 635.407 L31.4874 635.407 Z\" fill=\"#000000\" fill-rule=\"evenodd\" fill-opacity=\"1\" /><path clip-path=\"url(#clip440)\" d=\"M46.4786 578.593 L67.9947 578.593 L67.9947 584.45 L46.6696 584.45 Q41.6089 584.45 39.0944 586.423 Q36.58 588.397 36.58 592.343 Q36.58 597.086 39.6037 599.823 Q42.6274 602.56 47.8473 602.56 L67.9947 602.56 L67.9947 608.449 L32.3468 608.449 L32.3468 602.56 L37.8849 602.56 Q34.6703 600.46 33.0788 597.627 Q31.4874 594.762 31.4874 591.038 Q31.4874 584.896 35.3068 581.745 Q39.0944 578.593 46.4786 578.593 Z\" fill=\"#000000\" fill-rule=\"evenodd\" fill-opacity=\"1\" /><path clip-path=\"url(#clip440)\" d=\"M33.7154 541.259 L39.1899 541.259 Q37.8213 543.741 37.1529 546.256 Q36.4526 548.738 36.4526 551.285 Q36.4526 556.982 40.0811 560.133 Q43.6777 563.284 50.2026 563.284 Q56.7274 563.284 60.3559 560.133 Q63.9525 556.982 63.9525 551.285 Q63.9525 548.738 63.2841 546.256 Q62.5839 543.741 61.2152 541.259 L66.6261 541.259 Q67.7719 543.709 68.3448 546.351 Q68.9178 548.961 68.9178 551.921 Q68.9178 559.974 63.857 564.716 Q58.7963 569.459 50.2026 569.459 Q41.4816 569.459 36.4845 564.684 Q31.4874 559.878 31.4874 551.539 Q31.4874 548.834 32.0603 546.256 Q32.6014 543.678 33.7154 541.259 Z\" fill=\"#000000\" fill-rule=\"evenodd\" fill-opacity=\"1\" /><path clip-path=\"url(#clip440)\" d=\"M22.2253 525.281 L32.3468 525.281 L32.3468 513.218 L36.8982 513.218 L36.8982 525.281 L56.25 525.281 Q60.6105 525.281 61.8518 524.103 Q63.0931 522.894 63.0931 519.233 L63.0931 513.218 L67.9947 513.218 L67.9947 519.233 Q67.9947 526.013 65.4803 528.591 Q62.934 531.169 56.25 531.169 L36.8982 531.169 L36.8982 535.466 L32.3468 535.466 L32.3468 531.169 L22.2253 531.169 L22.2253 525.281 Z\" fill=\"#000000\" fill-rule=\"evenodd\" fill-opacity=\"1\" /><path clip-path=\"url(#clip440)\" d=\"M32.3468 505.515 L32.3468 499.659 L67.9947 499.659 L67.9947 505.515 L32.3468 505.515 M18.4695 505.515 L18.4695 499.659 L25.8856 499.659 L25.8856 505.515 L18.4695 505.515 Z\" fill=\"#000000\" fill-rule=\"evenodd\" fill-opacity=\"1\" /><path clip-path=\"url(#clip440)\" d=\"M36.4526 473.591 Q36.4526 478.302 40.1448 481.039 Q43.805 483.776 50.2026 483.776 Q56.6001 483.776 60.2922 481.071 Q63.9525 478.334 63.9525 473.591 Q63.9525 468.912 60.2604 466.175 Q56.5683 463.438 50.2026 463.438 Q43.8687 463.438 40.1766 466.175 Q36.4526 468.912 36.4526 473.591 M31.4874 473.591 Q31.4874 465.952 36.4526 461.592 Q41.4179 457.231 50.2026 457.231 Q58.9554 457.231 63.9525 461.592 Q68.9178 465.952 68.9178 473.591 Q68.9178 481.262 63.9525 485.622 Q58.9554 489.951 50.2026 489.951 Q41.4179 489.951 36.4526 485.622 Q31.4874 481.262 31.4874 473.591 Z\" fill=\"#000000\" fill-rule=\"evenodd\" fill-opacity=\"1\" /><path clip-path=\"url(#clip440)\" d=\"M46.4786 417.891 L67.9947 417.891 L67.9947 423.748 L46.6696 423.748 Q41.6089 423.748 39.0944 425.721 Q36.58 427.694 36.58 431.641 Q36.58 436.384 39.6037 439.121 Q42.6274 441.858 47.8473 441.858 L67.9947 441.858 L67.9947 447.746 L32.3468 447.746 L32.3468 441.858 L37.8849 441.858 Q34.6703 439.757 33.0788 436.925 Q31.4874 434.06 31.4874 430.336 Q31.4874 424.193 35.3068 421.042 Q39.0944 417.891 46.4786 417.891 Z\" fill=\"#000000\" fill-rule=\"evenodd\" fill-opacity=\"1\" /><path clip-path=\"url(#clip440)\" d=\"M59.9103 404.714 L59.9103 397.998 L67.9947 397.998 L67.9947 404.714 L59.9103 404.714 M34.2883 404.714 L34.2883 397.998 L42.3728 397.998 L42.3728 404.714 L34.2883 404.714 Z\" fill=\"#000000\" fill-rule=\"evenodd\" fill-opacity=\"1\" /><path clip-path=\"url(#clip440)\" d=\"M43.4539 340.718 Q44.2912 340.718 45.9337 340.943 Q47.5762 341.169 49.9594 341.716 Q52.3427 342.264 54.8547 343.069 Q57.3668 343.842 59.8788 345.066 Q62.3587 346.29 64.3233 347.739 Q66.2878 349.188 67.5116 351.217 Q68.7355 353.246 68.7355 355.533 Q68.7355 356.595 68.5744 357.626 Q68.4134 358.657 67.8981 359.945 Q67.3828 361.233 66.5455 362.167 Q65.6759 363.101 64.13 363.745 Q62.5841 364.389 60.5552 364.389 Q58.4618 364.389 55.6599 363.616 Q52.8258 362.811 47.0287 360.621 Q44.0336 359.494 42.3911 359.494 Q41.6503 359.494 41.1994 359.655 Q40.7164 359.816 40.5553 360.138 Q40.3621 360.46 40.3299 360.653 Q40.2977 360.814 40.2977 361.136 Q40.2977 362.908 42.1334 364.711 Q43.9692 366.515 48.478 367.803 Q49.2831 368.061 49.4764 368.222 Q49.6696 368.383 49.6696 368.866 Q49.6374 369.671 48.9933 369.671 Q48.8 369.671 48.0593 369.446 Q47.2864 369.22 46.1269 368.801 Q44.9353 368.383 43.7115 367.642 Q42.4555 366.901 41.3605 366 Q40.2655 365.066 39.5569 363.745 Q38.8484 362.425 38.8484 360.943 Q38.8484 358.528 40.4265 357.046 Q41.9724 355.533 44.259 355.533 Q45.515 355.533 47.544 356.338 Q51.2155 357.69 52.9868 358.302 Q54.7581 358.914 57.2702 359.558 Q59.7822 360.17 61.5213 360.17 Q64.1622 360.17 65.7081 358.946 Q67.254 357.723 67.254 355.275 Q67.254 353.085 65.6759 351.12 Q64.0656 349.124 61.779 347.803 Q59.4602 346.483 56.8837 345.484 Q54.275 344.486 52.3105 344.035 Q50.3137 343.552 49.3797 343.552 Q46.1269 343.552 44.0014 345.774 Q43.3894 346.386 43.003 346.612 Q42.6165 346.837 42.0046 346.837 Q40.8774 346.837 39.879 345.839 Q38.8484 344.808 38.8484 343.616 Q38.8484 342.521 39.9434 341.62 Q41.0384 340.718 43.4539 340.718 Z\" fill=\"#000000\" fill-rule=\"evenodd\" fill-opacity=\"1\" /><path clip-path=\"url(#clip440)\" d=\"M60.6409 333.959 L59.1981 333.959 Q59.1981 328.413 56.2448 325.55 Q56.2448 324.761 56.4252 324.626 Q56.6055 324.491 57.4397 324.491 L83.3428 324.491 Q84.718 324.491 85.1464 323.814 Q85.5747 323.138 85.5747 320.185 L85.5747 318.719 L86.995 318.719 Q86.8597 320.342 86.8597 326.204 Q86.8597 332.065 86.995 333.666 L85.5747 333.666 L85.5747 332.201 Q85.5747 329.292 85.1689 328.594 Q84.7406 327.895 83.3428 327.895 L59.4235 327.895 Q60.6409 330.307 60.6409 333.959 Z\" fill=\"#000000\" fill-rule=\"evenodd\" fill-opacity=\"1\" /><path clip-path=\"url(#clip440)\" d=\"M51.5053 311.825 Q40.3621 311.825 31.3767 307.671 Q27.6086 305.899 24.4524 303.42 Q21.2962 300.94 19.9114 299.297 Q18.5265 297.655 18.5265 297.204 Q18.5265 296.56 19.1706 296.528 Q19.4927 296.528 20.2978 297.397 Q31.119 308.025 51.5053 307.993 Q71.956 307.993 82.3585 297.655 Q83.4857 296.528 83.84 296.528 Q84.4841 296.528 84.4841 297.204 Q84.4841 297.655 83.1637 299.233 Q81.8432 300.811 78.8159 303.259 Q75.7885 305.706 72.0849 307.478 Q63.0994 311.825 51.5053 311.825 Z\" fill=\"#000000\" fill-rule=\"evenodd\" fill-opacity=\"1\" /><path clip-path=\"url(#clip440)\" d=\"M44.5167 262.216 Q46.3202 262.216 47.2864 263.118 Q48.2203 264.019 48.2203 265.243 Q48.2203 266.241 47.6406 266.789 Q47.0609 267.304 46.288 267.304 Q45.1608 267.304 44.259 266.403 Q43.3572 265.469 43.325 264.116 Q42.1334 264.567 41.4249 265.758 Q40.6842 266.95 40.4909 268.013 Q40.2977 269.043 40.2977 270.074 Q40.2977 272.103 40.9418 273.649 Q41.5859 275.195 42.5843 275.968 Q43.5505 276.741 44.4844 277.095 Q45.4184 277.449 46.2236 277.449 Q46.9321 277.449 47.5118 277.288 Q48.0593 277.095 48.478 276.644 Q48.8644 276.193 49.1221 275.871 Q49.3797 275.517 49.6052 274.744 Q49.8306 273.971 49.9272 273.649 Q49.9916 273.327 50.1849 272.425 Q50.5714 270.557 50.7968 269.72 Q50.99 268.882 51.5375 267.787 Q52.085 266.66 52.9546 265.823 Q54.9836 263.794 57.7855 263.794 Q58.8161 263.794 60.0721 264.148 Q61.3281 264.47 62.9062 265.404 Q64.4843 266.338 65.7403 267.755 Q66.9963 269.172 67.8659 271.62 Q68.7355 274.035 68.7355 277.063 Q68.7355 281.282 66.9641 283.89 Q65.1606 286.499 62.3265 286.499 Q60.2653 286.499 59.1381 285.372 Q57.9787 284.245 57.9787 282.795 Q57.9787 281.7 58.5906 281.024 Q59.1703 280.348 60.2653 280.348 Q61.7468 280.348 62.874 281.539 Q64.0012 282.731 63.7758 284.502 Q67.254 282.989 67.254 276.998 Q67.254 274.744 66.6743 273.005 Q66.0624 271.233 65.225 270.267 Q64.3555 269.269 63.2927 268.625 Q62.2299 267.981 61.4247 267.787 Q60.6196 267.562 60.0077 267.562 Q58.9449 267.562 58.1397 267.981 Q57.3346 268.399 56.8837 268.979 Q56.4006 269.526 56.0141 270.589 Q55.5955 271.62 55.4344 272.361 Q55.2734 273.101 55.0158 274.422 Q54.8869 275.034 54.8225 275.42 Q54.7259 275.807 54.4683 276.612 Q54.1784 277.385 53.8886 277.932 Q53.5987 278.448 53.0834 279.124 Q52.5681 279.8 51.9562 280.219 Q51.3443 280.638 50.4425 280.927 Q49.5408 281.217 48.478 281.217 Q47.5118 281.217 46.3524 280.927 Q45.193 280.605 43.8403 279.8 Q42.4877 278.963 41.3927 277.771 Q40.2977 276.58 39.5892 274.583 Q38.8484 272.554 38.8484 270.074 Q38.8484 266.467 40.5231 264.341 Q42.1656 262.216 44.5167 262.216 Z\" fill=\"#000000\" fill-rule=\"evenodd\" fill-opacity=\"1\" /><path clip-path=\"url(#clip440)\" d=\"M86.995 255.409 Q86.1609 255.409 85.9129 255.342 Q85.6649 255.252 85.2816 254.891 L75.4073 246.031 Q69.9516 241.184 65.1948 241.184 Q62.1063 241.184 59.897 242.807 Q57.6877 244.408 57.6877 247.361 Q57.6877 249.39 58.9276 251.104 Q60.1675 252.817 62.3768 253.606 Q62.3317 253.471 62.3317 252.997 Q62.3317 251.848 63.0531 251.216 Q63.7746 250.563 64.744 250.563 Q65.9839 250.563 66.5926 251.374 Q67.1787 252.163 67.1787 252.952 Q67.1787 253.268 67.1111 253.696 Q67.0435 254.102 66.4122 254.756 Q65.7584 255.409 64.6087 255.409 Q61.3849 255.409 58.8149 252.975 Q56.2448 250.517 56.2448 246.775 Q56.2448 242.537 58.7698 239.764 Q61.2722 236.968 65.1948 236.968 Q66.57 236.968 67.8325 237.397 Q69.0724 237.803 70.0418 238.366 Q71.0112 238.907 72.5668 240.395 Q74.1223 241.883 75.227 243.078 Q76.3316 244.273 78.6762 246.955 L83.433 251.848 L83.433 243.529 Q83.433 239.471 83.0723 239.155 Q82.4185 238.704 78.9693 238.141 L78.9693 236.968 L86.995 238.276 L86.995 255.409 Z\" fill=\"#000000\" fill-rule=\"evenodd\" fill-opacity=\"1\" /><path clip-path=\"url(#clip440)\" d=\"M83.84 230.113 Q83.518 230.113 82.7128 229.276 Q71.8916 218.648 51.5053 218.648 Q31.0546 218.648 20.7165 228.857 Q19.5249 230.113 19.1706 230.113 Q18.5265 230.113 18.5265 229.469 Q18.5265 229.018 19.847 227.44 Q21.1674 225.83 24.1948 223.414 Q27.2221 220.967 30.9258 219.163 Q39.9112 214.815 51.5053 214.815 Q62.6486 214.815 71.634 218.97 Q75.4021 220.741 78.5582 223.221 Q81.7144 225.701 83.0993 227.343 Q84.4841 228.986 84.4841 229.469 Q84.4841 230.113 83.84 230.113 Z\" fill=\"#000000\" fill-rule=\"evenodd\" fill-opacity=\"1\" /><polyline clip-path=\"url(#clip442)\" style=\"stroke:#009af9; stroke-linecap:round; stroke-linejoin:round; stroke-width:4; stroke-opacity:1; fill:none\" points=\"1903.9,1005.5 1902.27,1005.5 1900.64,1005.5 1899.01,1005.5 1897.39,1005.5 1895.76,1005.5 1894.13,1005.5 1892.5,1005.5 1890.87,1005.5 1889.24,928.772 1887.62,1005.5 1885.99,1005.5 1884.36,1005.5 1882.73,905.762 1881.1,1005.5 1879.47,1005.5 1877.84,1005.5 1876.22,887.204 1874.59,1005.5 1872.96,1005.5 1871.33,1005.5 1869.7,1005.5 1868.07,1005.5 1866.44,1005.5 1864.82,1005.5 1863.19,713.064 1861.56,1005.5 1859.93,1005.5 1858.3,1005.5 1856.67,1005.5 1855.05,1005.5 1853.42,1005.5 1851.79,1004.05 1850.16,1005.5 1848.53,1005.5 1846.9,1005.5 1845.27,1005.5 1843.65,1005.5 1842.02,1005.5 1840.39,1005.5 1838.76,1005.5 1837.13,1005.5 1835.5,1005.5 1833.87,1005.5 1832.25,1005.5 1830.62,1005.5 1828.99,1005.5 1827.36,1005.5 1825.73,640.435 1824.1,946.962 1822.47,1005.5 1820.85,1005.5 1819.22,1005.5 1817.59,1005.5 1815.96,1005.5 1814.33,878.926 1812.7,1005.5 1811.08,937.658 1809.45,1005.5 1807.82,1005.5 1806.19,1005.5 1804.56,1005.5 1802.93,1005.5 1801.3,1005.5 1799.68,930.119 1798.05,766.321 1796.42,928.056 1794.79,1005.5 1793.16,1005.5 1791.53,1005.5 1789.9,1005.5 1788.28,1005.5 1786.65,855.903 1785.02,1005.5 1783.39,965.809 1781.76,1005.5 1780.13,1005.5 1778.5,1005.5 1776.88,1005.5 1775.25,1005.5 1773.62,1005.5 1771.99,1005.5 1770.36,1005.5 1768.73,1005.5 1767.11,992.344 1765.48,1005.5 1763.85,734.484 1762.22,990.736 1760.59,1005.5 1758.96,1005.5 1757.33,835.03 1755.71,1005.5 1754.08,1005.5 1752.45,725.093 1750.82,830.763 1749.19,1005.5 1747.56,1005.5 1745.93,1005.5 1744.31,1005.5 1742.68,1005.5 1741.05,716.205 1739.42,823.564 1737.79,1005.5 1736.16,1005.5 1734.54,982.089 1732.91,1005.5 1731.28,944.277 1729.65,1005.5 1728.02,1005.5 1726.39,1005.5 1724.76,941.843 1723.14,888.78 1721.51,812.844 1719.88,1005.5 1718.25,1005.5 1716.62,938.86 1714.99,976.391 1713.36,523.397 1711.74,1005.5 1710.11,1005.5 1708.48,1005.5 1706.85,1005.5 1705.22,1005.5 1703.59,1005.5 1701.96,1005.5 1700.34,1005.5 1698.71,1005.5 1697.08,1005.5 1695.45,1005.5 1693.82,1005.5 1692.19,1005.5 1690.57,1005.5 1688.94,1005.5 1687.31,1005.5 1685.68,928.103 1684.05,1005.5 1682.42,927.018 1680.79,1005.5 1679.17,1005.5 1677.54,1005.5 1675.91,496.9 1674.28,1005.5 1672.65,1005.5 1671.02,1005.5 1669.39,1005.5 1667.77,784.234 1666.14,666.516 1664.51,782.635 1662.88,993.065 1661.25,1005.5 1659.62,1005.5 1657.99,961.2 1656.37,1005.5 1654.74,1005.5 1653.11,1005.5 1651.48,1005.5 1649.85,916.58 1648.22,1005.5 1646.6,915.574 1644.97,1005.5 1643.34,653.613 1641.71,1005.5 1640.08,1005.5 1638.45,1005.5 1636.82,1005.5 1635.2,1005.5 1633.57,1005.5 1631.94,1005.5 1630.31,986.68 1628.68,910.16 1627.05,1005.5 1625.42,1005.5 1623.8,1005.5 1622.17,1005.5 1620.54,1005.5 1618.91,1005.5 1617.28,906.808 1615.65,1005.5 1614.02,950.566 1612.4,905.389 1610.77,983.001 1609.14,635.662 1607.51,1005.5 1605.88,948.681 1604.25,1005.5 1602.63,1005.5 1601,947.562 1599.37,901.661 1597.74,1005.5 1596.11,1005.5 1594.48,1005.5 1592.85,1005.5 1591.23,1005.5 1589.6,836.097 1587.97,1005.5 1586.34,1005.5 1584.71,1005.5 1583.08,1005.5 1581.45,745.755 1579.83,896.21 1578.2,1005.5 1576.57,1005.5 1574.94,619.083 1573.31,1005.5 1571.68,1005.5 1570.06,741.17 1568.43,1005.5 1566.8,1001.39 1565.17,1005.5 1563.54,1005.5 1561.91,891.359 1560.28,1005.5 1558.66,1005.5 1557.03,937.804 1555.4,1005.5 1553.77,889.197 1552.14,1005.5 1550.51,607.94 1548.88,1005.5 1547.26,971.663 1545.63,1005.5 1544,731.041 1542.37,1005.5 1540.74,1005.5 1539.11,1005.5 1537.48,884.935 1535.86,1005.5 1534.23,932.958 1532.6,1005.5 1530.97,932.276 1529.34,1005.5 1527.71,1005.5 1526.09,1005.5 1524.46,1005.5 1522.83,1005.5 1521.2,1005.5 1519.57,929.911 1517.94,412.266 1516.31,1005.5 1514.69,1005.5 1513.06,1005.5 1511.43,1005.5 1509.8,718.37 1508.17,1005.5 1506.54,1005.5 1504.91,964.531 1503.29,587.798 1501.66,715.452 1500.03,963.727 1498.4,1005.5 1496.77,1005.5 1495.14,1005.5 1493.51,401.633 1491.89,400.942 1490.26,873.049 1488.63,1005.5 1487,1005.5 1485.37,580.579 1483.74,709.146 1482.12,1005.5 1480.49,1005.5 1478.86,870.281 1477.23,1005.5 1475.6,1005.5 1473.97,1005.5 1472.34,575.454 1470.72,1005.5 1469.09,988.201 1467.46,1005.5 1465.83,1005.5 1464.2,1005.5 1462.57,1005.5 1460.94,918.153 1459.32,1005.5 1457.69,1005.5 1456.06,1005.5 1454.43,1005.5 1452.8,1005.5 1451.17,955.86 1449.55,1005.5 1447.92,1005.5 1446.29,696.47 1444.66,862.161 1443.03,791.021 1441.4,1005.5 1439.77,861.022 1438.15,860.643 1436.52,1005.5 1434.89,1005.5 1433.26,1005.5 1431.63,1005.5 1430,1005.5 1428.37,558.851 1426.75,374.747 1425.12,951.788 1423.49,1005.5 1421.86,556.477 1420.23,1005.5 1418.6,950.783 1416.97,1005.5 1415.35,855.405 1413.72,1005.5 1412.09,1005.5 1410.46,980.729 1408.83,1005.5 1407.2,1005.5 1405.58,1005.5 1403.95,1005.5 1402.32,365.578 1400.69,364.978 1399.06,1005.5 1397.43,947.54 1395.8,1005.5 1394.18,905.489 1392.55,1005.5 1390.92,1005.5 1389.29,1005.5 1387.66,1005.5 1386.03,359.642 1384.4,1005.5 1382.78,1005.5 1381.15,1005.5 1379.52,976.892 1377.89,1001.29 1376.26,1005.5 1374.63,901.901 1373,1005.5 1371.38,1005.5 1369.75,353.837 1368.12,1005.5 1366.49,1005.5 1364.86,999.993 1363.23,1005.5 1361.61,769.165 1359.98,768.744 1358.35,349.846 1356.72,1005.5 1355.09,1005.5 1353.46,1005.5 1351.83,1005.5 1350.21,1005.5 1348.58,346.469 1346.95,1005.5 1345.32,839.949 1343.69,1005.5 1342.06,1005.5 1340.43,1005.5 1338.81,527.877 1337.18,1005.5 1335.55,1005.5 1333.92,762.094 1332.29,1005.5 1330.66,1005.5 1329.03,970.745 1327.41,1005.5 1325.78,1005.5 1324.15,1005.5 1322.52,1005.5 1320.89,657.832 1319.26,834.398 1317.64,1005.5 1316.01,1005.5 1314.38,1005.5 1312.75,1005.5 1311.12,832.684 1309.49,1005.5 1307.86,994.363 1306.24,831.66 1304.61,1005.5 1302.98,1005.5 1301.35,1005.5 1299.72,993.568 1298.09,1005.5 1296.46,752.786 1294.84,1005.5 1293.21,1005.5 1291.58,1005.5 1289.95,326.999 1288.32,1005.5 1286.69,886.297 1285.07,930.959 1283.44,965.307 1281.81,1005.5 1280.18,1005.5 1278.55,1005.5 1276.92,825.587 1275.29,507.72 1273.67,1005.5 1272.04,1005.5 1270.41,643.578 1268.78,1005.5 1267.15,963.383 1265.52,928.163 1263.89,744.908 1262.27,1005.5 1260.64,640.885 1259.01,1005.5 1257.38,1005.5 1255.75,1005.5 1254.12,1005.5 1252.49,1005.5 1250.87,638.214 1249.24,1005.5 1247.61,1005.5 1245.98,1005.5 1244.35,879.048 1242.72,739.873 1241.1,311.708 1239.47,1005.5 1237.84,987.575 1236.21,817.33 1234.58,1005.5 1232.95,1005.5 1231.32,737.19 1229.7,1005.5 1228.07,1005.5 1226.44,986.479 1224.81,922.411 1223.18,958.238 1221.55,1005.5 1219.92,874.931 1218.3,985.699 1216.67,1005.5 1215.04,813.101 1213.41,1005.5 1211.78,920.589 1210.15,1005.5 1208.52,811.809 1206.9,1005.5 1205.27,1005.5 1203.64,1005.5 1202.01,1005.5 1200.38,299.509 1198.75,1005.5 1197.13,809.558 1195.5,809.237 1193.87,983.365 1192.24,728.136 1190.61,1005.5 1188.98,917.412 1187.35,481.723 1185.73,1005.5 1184.1,916.734 1182.47,806.682 1180.84,619.636 1179.21,916.056 1177.58,724.795 1175.95,1005.5 1174.33,805.092 1172.7,981.348 1171.07,1005.5 1169.44,1005.5 1167.81,1005.5 1166.18,289.605 1164.56,865.732 1162.93,980.417 1161.3,1002.99 1159.67,1005.5 1158.04,979.952 1156.41,1005.5 1154.78,472.568 1153.16,950.159 1151.53,471.666 1149.9,1005.5 1148.27,1005.5 1146.64,799.735 1145.01,1005.5 1143.38,469.419 1141.76,716.748 1140.13,1005.5 1138.5,281.797 1136.87,1005.5 1135.24,1005.5 1133.61,1005.5 1131.98,466.293 1130.36,1005.5 1128.73,279.082 1127.1,1005.5 1125.47,1005.5 1123.84,946.806 1122.21,1005.5 1120.59,794.754 1118.96,711.704 1117.33,794.135 1115.7,1005.5 1114.07,857.508 1112.44,1005.5 1110.81,945.322 1109.19,906.448 1107.56,1005.5 1105.93,1005.5 1104.3,1005.5 1102.67,791.355 1101.04,1005.5 1099.41,855.143 1097.79,1005.5 1096.16,1005.5 1094.53,789.815 1092.9,973.776 1091.27,789.201 1089.64,1005.5 1088.01,704.934 1086.39,1005.5 1084.76,852.785 1083.13,942.176 1081.5,1005.5 1079.87,1005.5 1078.24,451.868 1076.62,1005.5 1074.99,1005.5 1073.36,901.585 1071.73,450.152 1070.1,1005.5 1068.47,449.296 1066.84,900.703 1065.22,995.458 1063.59,1005.5 1061.96,1005.5 1060.33,1005.5 1058.7,1005.5 1057.07,1005.5 1055.44,994.689 1053.82,588.005 1052.19,938.662 1050.56,1005.5 1048.93,586.83 1047.3,898.061 1045.67,443.356 1044.04,1005.5 1042.42,1005.5 1040.79,968.843 1039.16,993.407 1037.53,441.255 1035.9,1005.5 1034.27,693.38 1032.65,844.46 1031.02,1005.5 1029.39,895.646 1027.76,1005.5 1026.13,1005.5 1024.5,967.299 1022.87,967.145 1021.25,1005.5 1019.62,436.665 1017.99,1005.5 1016.36,934.601 1014.73,934.416 1013.1,1005.5 1011.47,1005.5 1009.85,247.534 1008.22,1005.5 1006.59,1005.5 1004.96,1005.5 1003.33,576.002 1001.7,1005.5 1000.08,1005.5 998.447,685.813 996.818,430.888 995.19,685.13 993.561,932.021 991.933,989.679 990.304,837.765 988.675,770.154 987.047,1005.5 985.418,1005.5 983.79,989.035 982.161,1005.5 980.533,1005.5 978.904,570.294 977.276,569.915 975.647,988.39 974.019,1005.5 972.39,1005.5 970.762,834.692 969.133,929.258 967.505,679.356 965.876,236.467 964.248,1005.5 962.619,1005.5 960.991,833.156 959.362,1005.5 957.734,1005.5 956.105,1005.5 954.477,1005.5 952.848,1005.5 951.22,1005.5 949.591,960.186 947.963,675.307 946.334,1005.5 944.706,1005.5 943.077,1005.5 941.449,1005.5 939.82,829.832 938.192,1005.5 936.563,672.953 934.935,829.065 933.306,1005.5 931.678,559.421 930.049,958.319 928.42,558.677 926.792,1005.5 925.163,827.533 923.535,827.278 921.906,1005.5 920.278,669.6 918.649,1005.5 917.021,224.488 915.392,555.711 913.764,956.759 912.135,1005.5 910.507,1005.5 908.878,222.521 907.25,1005.5 905.621,922.044 903.993,1005.5 902.364,552.755 900.736,1005.5 899.107,1005.5 897.479,1005.5 895.85,1005.5 894.222,920.745 892.593,981.741 890.965,1005.5 889.336,1005.5 887.708,1005.5 886.079,919.818 884.451,1005.5 882.822,953.786 881.194,1005.5 879.565,1005.5 877.937,1005.5 876.308,1005.5 874.68,874.896 873.051,749.198 871.422,980.029 869.794,1005.5 868.165,748.319 866.537,979.632 864.908,1005.5 863.28,398.299 861.651,1005.5 860.023,1005.5 858.394,1005.5 856.766,1005.5 855.137,951.113 853.509,1005.5 851.88,395.596 850.252,1005.5 848.623,744.812 846.995,915.353 845.366,950.164 843.738,207.061 842.109,653.667 840.481,392.904 838.852,392.521 837.224,869.868 835.595,1005.5 833.967,742.186 832.338,948.894 830.71,390.605 829.081,812.514 827.453,1005.5 825.824,1005.5 824.196,1005.5 822.567,1005.5 820.939,975.895 819.31,1005.5 817.682,533.802 816.053,911.79 814.424,1005.5 812.796,809.967 811.167,1005.5 809.539,1005.5 807.91,1005.5 806.282,1005.5 804.653,646.115 803.025,1005.5 801.396,865.03 799.768,909.905 798.139,1005.5 796.511,1005.5 794.882,1005.5 793.254,996.275 791.625,973.463 789.997,973.327 788.368,1005.5 786.74,1005.5 785.111,1005.5 783.483,1005.5 781.854,732.862 780.226,1005.5 778.597,1005.5 776.969,378.077 775.34,1005.5 773.712,1005.5 772.083,906.686 770.455,523.401 768.826,994.557 767.198,1005.5 765.569,802.556 763.941,521.975 762.312,802.044 760.684,521.262 759.055,1005.5 757.426,1005.5 755.798,1005.5 754.169,993.515 752.541,635.663 750.912,1005.5 749.284,1005.5 747.655,1005.5 746.027,1005.5 744.398,1005.5 742.77,1005.5 741.141,1005.5 739.513,1005.5 737.884,902.684 736.256,1005.5 734.627,724.393 732.999,1005.5 731.37,367.593 729.742,1005.5 728.113,1005.5 726.485,901.34 724.856,967.821 723.228,1005.5 721.599,1005.5 719.971,991.051 718.342,1005.5 716.714,990.814 715.085,628.153 713.457,363.506 711.828,936.918 710.2,1005.5 708.571,936.587 706.943,362.023 705.314,1005.5 703.686,965.993 702.057,989.742 700.428,1005.5 698.8,1005.5 697.171,717.661 695.543,850.562 693.914,989.144 692.286,897.271 690.657,623.254 689.029,1005.5 687.4,1005.5 685.772,504.945 684.143,1005.5 682.515,1005.5 680.886,789.17 679.258,1005.5 677.629,503.175 676.001,1005.5 674.372,1005.5 672.744,168.175 671.115,1005.5 669.487,1005.5 667.858,987.21 666.23,712.086 664.601,166.364 662.973,499.989 661.344,962.284 659.716,1005.5 658.087,1005.5 656.459,1005.5 654.83,892.752 653.202,1005.5 651.573,930.711 649.945,709.144 648.316,614.756 646.688,1005.18 645.059,162.026 643.43,1005.5 641.802,1005.5 640.173,346.928 638.545,984.989 636.916,346.194 635.288,159.862 633.659,928.832 632.031,159.141 630.402,344.727 628.774,1005.5 627.145,840.971 625.517,1005.5 623.888,1005.5 622.26,1005.5 620.631,1005.5 619.003,958.476 617.374,1005.5 615.746,887.964 614.117,1005.5 612.489,154.821 610.86,702.027 609.232,606.895 607.603,926.058 605.975,1005.5 604.346,1005.5 602.718,1005.5 601.089,1005.5 599.461,1005.5 597.832,775.761 596.204,1005.5 594.575,336.661 592.947,885.123 591.318,1005.5 589.69,698.138 588.061,981.057 586.432,1005.5 584.804,1005.5 583.175,334.093 581.547,1005.5 579.918,883.481 578.29,1005.5 576.661,954.558 575.033,599.975 573.404,1005.5 571.776,922.167 570.147,1005.5 568.519,694.225 566.89,144.771 565.262,770.403 563.633,478.384 562.005,1005.5 560.376,1005.5 558.748,880.784 557.119,596.323 555.491,1005.5 553.862,1005.5 552.234,1005.5 550.605,141.188 548.977,1005.5 547.348,594.322 545.72,140.113 544.091,139.754 542.463,951.301 540.834,1005.5 539.206,138.68 537.577,765.791 535.949,1005.5 534.32,1005.5 532.692,997.52 531.063,1005.5 529.434,917.446 527.806,1005.5 526.177,1005.5 524.549,1005.5 522.92,996.822 521.292,320.123 519.663,134.381 518.035,948.909 516.406,684.476 514.778,1005.5 513.149,1005.5 511.521,761.376 509.892,466.622 508.264,1005.5 506.635,1005.5 505.007,873.772 503.378,974.059 501.75,1005.5 500.121,1005.5 498.493,973.637 496.864,314.583 495.236,758.579 493.607,872.244 491.979,872.025 490.35,871.805 488.722,127.569 487.093,1005.5 485.465,461.213 483.836,460.85 482.208,460.488 480.579,1005.5 478.951,1005.5 477.322,125.056 475.694,1005.5 474.065,458.671 472.436,676.064 470.808,1005.5 469.179,675.431 467.551,1005.5 465.922,1005.5 464.294,674.478 462.665,970.458 461.037,1005.5 459.408,1005.5 457.78,1005.5 456.151,969.864 454.523,454.284 452.894,991.56 451.266,991.431 449.637,671.601 448.009,750.299 446.38,1005.5 444.752,670.635 443.123,749.427 441.495,451.337 439.866,571.86 438.238,748.551 436.609,450.228 434.981,1005.5 433.352,940.122 431.724,905.803 430.095,863.413 428.467,298.923 426.838,989.462 425.21,810.549 423.581,568.35 421.953,1005.5 420.324,1005.5 418.696,112.084 417.067,809.211 415.438,1005.5 413.81,903.514 412.181,1005.5 410.553,1005.5 408.924,1005.5 407.296,965.225 405.667,1005.5 404.039,108.821 402.41,1005.5 400.782,1005.5 399.153,1005.5 397.525,291.713 395.896,740.753 394.268,805.397 392.639,1005.5 391.011,1005.5 389.382,900.296 387.754,804.288 386.125,438.591 384.497,856.643 382.868,962.749 381.24,1005.5 379.611,437.063 377.983,855.635 376.354,1005.5 374.726,1005.5 373.097,1005.5 371.469,101.529 369.84,1002.56 368.212,1005.5 366.583,897.169 364.955,1005.5 363.326,931.99 361.698,1001.92 360.069,282.795 358.441,960.145 356.812,733.18 355.183,553.016 353.555,1005.5 351.926,1005.5 350.298,280.429 348.669,1005.5 347.041,279.637 345.412,1000.57 343.784,1005.5 342.155,981.837 340.527,278.046 338.898,1005.5 337.27,928.643 335.641,1005.5 334.013,1005.5 332.384,276.045 330.756,275.643 329.127,646.352 327.499,1005.5 325.87,980.154 324.242,545.686 322.613,926.637 320.985,846.22 319.356,791.785 317.728,272.407 316.099,889.601 314.471,88.5644 312.842,925.242 311.214,888.8 309.585,954.328 307.957,541.633 306.328,887.981 304.7,540.801 303.071,788.461 301.443,1005.5 299.814,639.43 298.185,787.42 296.557,952.559 294.928,885.999 293.3,83.643 291.671,537.392 290.043,414.737 288.414,785.265 286.786,975.518 285.157,717.531 283.529,1005.5 281.9,412.529 280.272,974.579 278.643,882.837 277.015,411.179 275.386,949.157 \"/>\n",
       "<polyline clip-path=\"url(#clip442)\" style=\"stroke:#e26f46; stroke-linecap:round; stroke-linejoin:round; stroke-width:4; stroke-opacity:1; fill:none\" points=\"1903.9,1005.5 1902.27,1005.5 1900.64,1005.5 1899.01,1005.5 1897.39,1005.5 1895.76,1005.5 1894.13,1005.5 1892.5,1005.5 1890.87,1005.5 1889.24,921.207 1887.62,1005.5 1885.99,1005.5 1884.36,1005.5 1882.73,892.985 1881.1,1005.5 1879.47,1005.5 1877.84,1005.5 1876.22,887.932 1874.59,1005.5 1872.96,1005.5 1871.33,1005.5 1869.7,1005.5 1868.07,1005.5 1866.44,1005.5 1864.82,1005.5 1863.19,707.494 1861.56,1005.5 1859.93,1005.5 1858.3,1005.5 1856.67,1005.5 1855.05,1005.5 1853.42,1005.5 1851.79,1007.42 1850.16,1005.5 1848.53,1005.5 1846.9,1005.5 1845.27,1005.5 1843.65,1005.5 1842.02,1005.5 1840.39,1005.5 1838.76,1005.5 1837.13,1005.5 1835.5,1005.5 1833.87,1005.5 1832.25,1005.5 1830.62,1005.5 1828.99,1005.5 1827.36,1005.5 1825.73,636.848 1824.1,939.175 1822.47,1005.5 1820.85,1005.5 1819.22,1005.5 1817.59,1005.5 1815.96,1005.5 1814.33,898.692 1812.7,1005.5 1811.08,940.053 1809.45,1005.5 1807.82,1005.5 1806.19,1005.5 1804.56,1005.5 1802.93,1005.5 1801.3,1005.5 1799.68,924.463 1798.05,779.297 1796.42,932.168 1794.79,1005.5 1793.16,1005.5 1791.53,1005.5 1789.9,1005.5 1788.28,1005.5 1786.65,860.763 1785.02,1005.5 1783.39,962.833 1781.76,1005.5 1780.13,1005.5 1778.5,1005.5 1776.88,1005.5 1775.25,1005.5 1773.62,1005.5 1771.99,1005.5 1770.36,1005.5 1768.73,1005.5 1767.11,992.898 1765.48,1005.5 1763.85,739.313 1762.22,992.141 1760.59,1005.5 1758.96,1005.5 1757.33,846.153 1755.71,1005.5 1754.08,1005.5 1752.45,717.85 1750.82,827.473 1749.19,1005.5 1747.56,1005.5 1745.93,1005.5 1744.31,1005.5 1742.68,1005.5 1741.05,721.341 1739.42,836.95 1737.79,1005.5 1736.16,1005.5 1734.54,983.171 1732.91,1005.5 1731.28,945.733 1729.65,1005.5 1728.02,1005.5 1726.39,1005.5 1724.76,938.251 1723.14,901.445 1721.51,815.023 1719.88,1005.5 1718.25,1005.5 1716.62,946.426 1714.99,967.766 1713.36,495.684 1711.74,1005.5 1710.11,1005.5 1708.48,1005.5 1706.85,1005.5 1705.22,1005.5 1703.59,1005.5 1701.96,1005.5 1700.34,1005.5 1698.71,1005.5 1697.08,1005.5 1695.45,1005.5 1693.82,1005.5 1692.19,1005.5 1690.57,1005.5 1688.94,1005.5 1687.31,1005.5 1685.68,917.443 1684.05,1005.5 1682.42,919.939 1680.79,1005.5 1679.17,1005.5 1677.54,1005.5 1675.91,500.679 1674.28,1005.5 1672.65,1005.5 1671.02,1005.5 1669.39,1005.5 1667.77,768.879 1666.14,670.366 1664.51,757.308 1662.88,996.477 1661.25,1005.5 1659.62,1005.5 1657.99,958.103 1656.37,1005.5 1654.74,1005.5 1653.11,1005.5 1651.48,1005.5 1649.85,924.071 1648.22,1005.5 1646.6,913.762 1644.97,1005.5 1643.34,663.281 1641.71,1005.5 1640.08,1005.5 1638.45,1005.5 1636.82,1005.5 1635.2,1005.5 1633.57,1005.5 1631.94,1005.5 1630.31,986.73 1628.68,919.744 1627.05,1005.5 1625.42,1005.5 1623.8,1005.5 1622.17,1005.5 1620.54,1005.5 1618.91,1005.5 1617.28,906.751 1615.65,1005.5 1614.02,960.423 1612.4,914.419 1610.77,988.539 1609.14,630.406 1607.51,1005.5 1605.88,942.672 1604.25,1005.5 1602.63,1005.5 1601,950.885 1599.37,900.794 1597.74,1005.5 1596.11,1005.5 1594.48,1005.5 1592.85,1005.5 1591.23,1005.5 1589.6,838.3 1587.97,1005.5 1586.34,1005.5 1584.71,1005.5 1583.08,1005.5 1581.45,752.014 1579.83,900.931 1578.2,1005.5 1576.57,1005.5 1574.94,626.02 1573.31,1005.5 1571.68,1005.5 1570.06,717.171 1568.43,1005.5 1566.8,997.303 1565.17,1005.5 1563.54,1005.5 1561.91,904.477 1560.28,1005.5 1558.66,1005.5 1557.03,947.988 1555.4,1005.5 1553.77,889.432 1552.14,1005.5 1550.51,614.147 1548.88,1005.5 1547.26,973.841 1545.63,1005.5 1544,711.456 1542.37,1005.5 1540.74,1005.5 1539.11,1005.5 1537.48,879.274 1535.86,1005.5 1534.23,932.251 1532.6,1005.5 1530.97,930.966 1529.34,1005.5 1527.71,1005.5 1526.09,1005.5 1524.46,1005.5 1522.83,1005.5 1521.2,1005.5 1519.57,928.16 1517.94,417.288 1516.31,1005.5 1514.69,1005.5 1513.06,1005.5 1511.43,1005.5 1509.8,701.414 1508.17,1005.5 1506.54,1005.5 1504.91,973.688 1503.29,576.376 1501.66,710.032 1500.03,975.716 1498.4,1005.5 1496.77,1005.5 1495.14,1005.5 1493.51,383.955 1491.89,389.444 1490.26,863.138 1488.63,1005.5 1487,1005.5 1485.37,569.198 1483.74,696.561 1482.12,1005.5 1480.49,1005.5 1478.86,875.662 1477.23,1005.5 1475.6,1005.5 1473.97,1005.5 1472.34,587.536 1470.72,1005.5 1469.09,987.934 1467.46,1005.5 1465.83,1005.5 1464.2,1005.5 1462.57,1005.5 1460.94,919.188 1459.32,1005.5 1457.69,1005.5 1456.06,1005.5 1454.43,1005.5 1452.8,1005.5 1451.17,954.465 1449.55,1005.5 1447.92,1005.5 1446.29,677.12 1444.66,864.206 1443.03,787.224 1441.4,1005.5 1439.77,853.543 1438.15,866.509 1436.52,1005.5 1434.89,1005.5 1433.26,1005.5 1431.63,1005.5 1430,1005.5 1428.37,552.623 1426.75,381.066 1425.12,954.541 1423.49,1005.5 1421.86,560.54 1420.23,1005.5 1418.6,951.964 1416.97,1005.5 1415.35,861.142 1413.72,1005.5 1412.09,1005.5 1410.46,980.421 1408.83,1005.5 1407.2,1005.5 1405.58,1005.5 1403.95,1005.5 1402.32,371.099 1400.69,368.89 1399.06,1005.5 1397.43,946.013 1395.8,1005.5 1394.18,899.467 1392.55,1005.5 1390.92,1005.5 1389.29,1005.5 1387.66,1005.5 1386.03,348.987 1384.4,1005.5 1382.78,1005.5 1381.15,1005.5 1379.52,982.479 1377.89,1002.5 1376.26,1005.5 1374.63,906.233 1373,1005.5 1371.38,1005.5 1369.75,372.621 1368.12,1005.5 1366.49,1005.5 1364.86,1000.36 1363.23,1005.5 1361.61,782.405 1359.98,773.486 1358.35,359.032 1356.72,1005.5 1355.09,1005.5 1353.46,1005.5 1351.83,1005.5 1350.21,1005.5 1348.58,345.067 1346.95,1005.5 1345.32,847.743 1343.69,1005.5 1342.06,1005.5 1340.43,1005.5 1338.81,524.254 1337.18,1005.5 1335.55,1005.5 1333.92,761.492 1332.29,1005.5 1330.66,1005.5 1329.03,970.022 1327.41,1005.5 1325.78,1005.5 1324.15,1005.5 1322.52,1005.5 1320.89,668.972 1319.26,832.619 1317.64,1005.5 1316.01,1005.5 1314.38,1005.5 1312.75,1005.5 1311.12,829.97 1309.49,1005.5 1307.86,994.097 1306.24,826.381 1304.61,1005.5 1302.98,1005.5 1301.35,1005.5 1299.72,993.985 1298.09,1005.5 1296.46,752.078 1294.84,1005.5 1293.21,1005.5 1291.58,1005.5 1289.95,309.666 1288.32,1005.5 1286.69,883.422 1285.07,936.12 1283.44,961.472 1281.81,1005.5 1280.18,1005.5 1278.55,1005.5 1276.92,820.393 1275.29,497.747 1273.67,1005.5 1272.04,1005.5 1270.41,658.938 1268.78,1005.5 1267.15,960.558 1265.52,929.49 1263.89,743.408 1262.27,1005.5 1260.64,627.205 1259.01,1005.5 1257.38,1005.5 1255.75,1005.5 1254.12,1005.5 1252.49,1005.5 1250.87,639.634 1249.24,1005.5 1247.61,1005.5 1245.98,1005.5 1244.35,878.135 1242.72,734.348 1241.1,310.483 1239.47,1005.5 1237.84,989.892 1236.21,817.939 1234.58,1005.5 1232.95,1005.5 1231.32,737.796 1229.7,1005.5 1228.07,1005.5 1226.44,989.208 1224.81,931.032 1223.18,959.038 1221.55,1005.5 1219.92,872.697 1218.3,985.335 1216.67,1005.5 1215.04,815.702 1213.41,1005.5 1211.78,920.205 1210.15,1005.5 1208.52,815.281 1206.9,1005.5 1205.27,1005.5 1203.64,1005.5 1202.01,1005.5 1200.38,294.815 1198.75,1005.5 1197.13,808.085 1195.5,808.585 1193.87,983.169 1192.24,729.549 1190.61,1005.5 1188.98,919.326 1187.35,477.497 1185.73,1005.5 1184.1,923.833 1182.47,807.615 1180.84,611.786 1179.21,909.003 1177.58,728.997 1175.95,1005.5 1174.33,805.275 1172.7,982.213 1171.07,1005.5 1169.44,1005.5 1167.81,1005.5 1166.18,305.422 1164.56,870.021 1162.93,974.665 1161.3,1004.6 1159.67,1005.5 1158.04,982.953 1156.41,1005.5 1154.78,483.762 1153.16,947.457 1151.53,471.967 1149.9,1005.5 1148.27,1005.5 1146.64,804.129 1145.01,1005.5 1143.38,465.032 1141.76,728.295 1140.13,1005.5 1138.5,281.307 1136.87,1005.5 1135.24,1005.5 1133.61,1005.5 1131.98,466.481 1130.36,1005.5 1128.73,267.769 1127.1,1005.5 1125.47,1005.5 1123.84,952.574 1122.21,1005.5 1120.59,802.92 1118.96,720.048 1117.33,791.93 1115.7,1005.5 1114.07,862.02 1112.44,1005.5 1110.81,947.704 1109.19,897.136 1107.56,1005.5 1105.93,1005.5 1104.3,1005.5 1102.67,783.312 1101.04,1005.5 1099.41,849.933 1097.79,1005.5 1096.16,1005.5 1094.53,796.416 1092.9,967.973 1091.27,793.281 1089.64,1005.5 1088.01,714.488 1086.39,1005.5 1084.76,857.288 1083.13,934.765 1081.5,1005.5 1079.87,1005.5 1078.24,455.811 1076.62,1005.5 1074.99,1005.5 1073.36,894.086 1071.73,469.007 1070.1,1005.5 1068.47,453.132 1066.84,907.007 1065.22,990.365 1063.59,1005.5 1061.96,1005.5 1060.33,1005.5 1058.7,1005.5 1057.07,1005.5 1055.44,996.5 1053.82,581.031 1052.19,936.609 1050.56,1005.5 1048.93,580.242 1047.3,899.656 1045.67,439.447 1044.04,1005.5 1042.42,1005.5 1040.79,972.481 1039.16,992.379 1037.53,442.179 1035.9,1005.5 1034.27,704.901 1032.65,849.048 1031.02,1005.5 1029.39,895.978 1027.76,1005.5 1026.13,1005.5 1024.5,966.124 1022.87,968.726 1021.25,1005.5 1019.62,437.896 1017.99,1005.5 1016.36,926.591 1014.73,942.492 1013.1,1005.5 1011.47,1005.5 1009.85,233.673 1008.22,1005.5 1006.59,1005.5 1004.96,1005.5 1003.33,571.78 1001.7,1005.5 1000.08,1005.5 998.447,687.29 996.818,438.976 995.19,675.923 993.561,933.526 991.933,990.728 990.304,836.237 988.675,777.876 987.047,1005.5 985.418,1005.5 983.79,991.628 982.161,1005.5 980.533,1005.5 978.904,564.339 977.276,565.817 975.647,990.905 974.019,1005.5 972.39,1005.5 970.762,835.536 969.133,930.505 967.505,685.043 965.876,246.532 964.248,1005.5 962.619,1005.5 960.991,838.508 959.362,1005.5 957.734,1005.5 956.105,1005.5 954.477,1005.5 952.848,1005.5 951.22,1005.5 949.591,958.319 947.963,673.243 946.334,1005.5 944.706,1005.5 943.077,1005.5 941.449,1005.5 939.82,833.908 938.192,1005.5 936.563,667.155 934.935,829.929 933.306,1005.5 931.678,545.006 930.049,959.823 928.42,576.721 926.792,1005.5 925.163,838.658 923.535,826.009 921.906,1005.5 920.278,663.839 918.649,1005.5 917.021,222.988 915.392,565.921 913.764,954.798 912.135,1005.5 910.507,1005.5 908.878,229.064 907.25,1005.5 905.621,920.474 903.993,1005.5 902.364,550.257 900.736,1005.5 899.107,1005.5 897.479,1005.5 895.85,1005.5 894.222,910.866 892.593,981.187 890.965,1005.5 889.336,1005.5 887.708,1005.5 886.079,921.981 884.451,1005.5 882.822,955.807 881.194,1005.5 879.565,1005.5 877.937,1005.5 876.308,1005.5 874.68,876.929 873.051,755.561 871.422,984.829 869.794,1005.5 868.165,750.238 866.537,981.657 864.908,1005.5 863.28,408.162 861.651,1005.5 860.023,1005.5 858.394,1005.5 856.766,1005.5 855.137,951.076 853.509,1005.5 851.88,382.209 850.252,1005.5 848.623,738.346 846.995,912.482 845.366,946.43 843.738,215.077 842.109,661.296 840.481,403.578 838.852,390.746 837.224,861.544 835.595,1005.5 833.967,728.774 832.338,945.381 830.71,402.009 829.081,813.682 827.453,1005.5 825.824,1005.5 824.196,1005.5 822.567,1005.5 820.939,973.785 819.31,1005.5 817.682,526.682 816.053,914.624 814.424,1005.5 812.796,799.679 811.167,1005.5 809.539,1005.5 807.91,1005.5 806.282,1005.5 804.653,647.04 803.025,1005.5 801.396,868.751 799.768,909.443 798.139,1005.5 796.511,1005.5 794.882,1005.5 793.254,998.883 791.625,970.641 789.997,972.007 788.368,1005.5 786.74,1005.5 785.111,1005.5 783.483,1005.5 781.854,742.413 780.226,1005.5 778.597,1005.5 776.969,378.548 775.34,1005.5 773.712,1005.5 772.083,904.144 770.455,521.593 768.826,996.07 767.198,1005.5 765.569,802.442 763.941,524.377 762.312,802.509 760.684,517.585 759.055,1005.5 757.426,1005.5 755.798,1005.5 754.169,994.226 752.541,640.627 750.912,1005.5 749.284,1005.5 747.655,1005.5 746.027,1005.5 744.398,1005.5 742.77,1005.5 741.141,1005.5 739.513,1005.5 737.884,900.551 736.256,1005.5 734.627,722.227 732.999,1005.5 731.37,377.465 729.742,1005.5 728.113,1005.5 726.485,900.305 724.856,969.004 723.228,1005.5 721.599,1005.5 719.971,988.252 718.342,1005.5 716.714,992.148 715.085,616.929 713.457,357.53 711.828,936.525 710.2,1005.5 708.571,938.27 706.943,362.353 705.314,1005.5 703.686,967.684 702.057,989.932 700.428,1005.5 698.8,1005.5 697.171,717.862 695.543,847.955 693.914,986.308 692.286,903.622 690.657,614.671 689.029,1005.5 687.4,1005.5 685.772,491.532 684.143,1005.5 682.515,1005.5 680.886,785.269 679.258,1005.5 677.629,503.052 676.001,1005.5 674.372,1005.5 672.744,172.883 671.115,1005.5 669.487,1005.5 667.858,989.113 666.23,709.185 664.601,176.729 662.973,510.618 661.344,965.095 659.716,1005.5 658.087,1005.5 656.459,1005.5 654.83,893.441 653.202,1005.5 651.573,934.975 649.945,717.826 648.316,615.206 646.688,1003.42 645.059,149.343 643.43,1005.5 641.802,1005.5 640.173,352.601 638.545,987.48 636.916,345.695 635.288,150.777 633.659,931.475 632.031,169.125 630.402,350.218 628.774,1005.5 627.145,839.052 625.517,1005.5 623.888,1005.5 622.26,1005.5 620.631,1005.5 619.003,958.821 617.374,1005.5 615.746,885.374 614.117,1005.5 612.489,176.071 610.86,706.373 609.232,610.158 607.603,926.445 605.975,1005.5 604.346,1005.5 602.718,1005.5 601.089,1005.5 599.461,1005.5 597.832,788.927 596.204,1005.5 594.575,347.651 592.947,881.509 591.318,1005.5 589.69,694.429 588.061,978.902 586.432,1005.5 584.804,1005.5 583.175,328.314 581.547,1005.5 579.918,886.252 578.29,1005.5 576.661,951.63 575.033,586.986 573.404,1005.5 571.776,920.331 570.147,1005.5 568.519,701.611 566.89,152.909 565.262,771.64 563.633,482.272 562.005,1005.5 560.376,1005.5 558.748,886.87 557.119,605.107 555.491,1005.5 553.862,1005.5 552.234,1005.5 550.605,136.048 548.977,1005.5 547.348,608.48 545.72,132.723 544.091,142.964 542.463,950.761 540.834,1005.5 539.206,127.305 537.577,755.161 535.949,1005.5 534.32,1005.5 532.692,996.984 531.063,1005.5 529.434,914.093 527.806,1005.5 526.177,1005.5 524.549,1005.5 522.92,994.856 521.292,319.858 519.663,145.279 518.035,951.292 516.406,686.678 514.778,1005.5 513.149,1005.5 511.521,762.264 509.892,455.701 508.264,1005.5 506.635,1005.5 505.007,872.207 503.378,975.901 501.75,1005.5 500.121,1005.5 498.493,973.027 496.864,314.235 495.236,761.671 493.607,875.695 491.979,874.486 490.35,871.124 488.722,121.305 487.093,1005.5 485.465,458.445 483.836,463.318 482.208,461.249 480.579,1005.5 478.951,1005.5 477.322,129.768 475.694,1005.5 474.065,466.779 472.436,678.801 470.808,1005.5 469.179,685.492 467.551,1005.5 465.922,1005.5 464.294,677.45 462.665,972.167 461.037,1005.5 459.408,1005.5 457.78,1005.5 456.151,967.747 454.523,477.165 452.894,988.879 451.266,988.708 449.637,655.828 448.009,744.553 446.38,1005.5 444.752,671.968 443.123,743.712 441.495,456.245 439.866,576.104 438.238,748.703 436.609,441.906 434.981,1005.5 433.352,943.667 431.724,906.899 430.095,867.995 428.467,306.96 426.838,992.074 425.21,803.996 423.581,563.964 421.953,1005.5 420.324,1005.5 418.696,107.013 417.067,805.126 415.438,1005.5 413.81,897.387 412.181,1005.5 410.553,1005.5 408.924,1005.5 407.296,966.961 405.667,1005.5 404.039,97.1579 402.41,1005.5 400.782,1005.5 399.153,1005.5 397.525,292.441 395.896,753.026 394.268,797.509 392.639,1005.5 391.011,1005.5 389.382,903.996 387.754,793.603 386.125,445.718 384.497,851.575 382.868,961.426 381.24,1005.5 379.611,438.649 377.983,849.325 376.354,1005.5 374.726,1005.5 373.097,1005.5 371.469,101.456 369.84,1004.95 368.212,1005.5 366.583,896.519 364.955,1005.5 363.326,932.777 361.698,1002.56 360.069,293.612 358.441,954.143 356.812,728.717 355.183,546.208 353.555,1005.5 351.926,1005.5 350.298,286.547 348.669,1005.5 347.041,278.176 345.412,998.895 343.784,1005.5 342.155,978.801 340.527,280.186 338.898,1005.5 337.27,929.537 335.641,1005.5 334.013,1005.5 332.384,280.036 330.756,262.674 329.127,652.107 327.499,1005.5 325.87,980.343 324.242,548.5 322.613,924.018 320.985,846.77 319.356,787.913 317.728,277.108 316.099,890.641 314.471,83.3469 312.842,924.614 311.214,879.181 309.585,953.208 307.957,542.286 306.328,882.235 304.7,524.783 303.071,791.527 301.443,1005.5 299.814,639.811 298.185,786.294 296.557,952.748 294.928,883.941 293.3,75.2104 291.671,540.229 290.043,418.44 288.414,775.891 286.786,977.353 285.157,722.676 283.529,1005.5 281.9,408.946 280.272,973.525 278.643,883.945 277.015,418.803 275.386,953.935 \"/>\n",
       "<path clip-path=\"url(#clip440)\" d=\"M1108.82 249.738 L1597.96 249.738 L1597.96 94.2185 L1108.82 94.2185  Z\" fill=\"#ffffff\" fill-rule=\"evenodd\" fill-opacity=\"1\"/>\n",
       "<polyline clip-path=\"url(#clip440)\" style=\"stroke:#000000; stroke-linecap:round; stroke-linejoin:round; stroke-width:4; stroke-opacity:1; fill:none\" points=\"1108.82,249.738 1597.96,249.738 1597.96,94.2185 1108.82,94.2185 1108.82,249.738 \"/>\n",
       "<polyline clip-path=\"url(#clip440)\" style=\"stroke:#009af9; stroke-linecap:round; stroke-linejoin:round; stroke-width:4; stroke-opacity:1; fill:none\" points=\"1128,146.058 1243.09,146.058 \"/>\n",
       "<path clip-path=\"url(#clip440)\" d=\"M1290.14 127.468 L1290.14 132.398 Q1287.78 130.199 1285.09 129.111 Q1282.43 128.023 1279.42 128.023 Q1273.49 128.023 1270.34 131.658 Q1267.2 135.269 1267.2 142.121 Q1267.2 148.949 1270.34 152.583 Q1273.49 156.195 1279.42 156.195 Q1282.43 156.195 1285.09 155.107 Q1287.78 154.019 1290.14 151.82 L1290.14 156.704 Q1287.68 158.371 1284.93 159.204 Q1282.2 160.037 1279.14 160.037 Q1271.29 160.037 1266.78 155.246 Q1262.27 150.431 1262.27 142.121 Q1262.27 133.787 1266.78 128.996 Q1271.29 124.181 1279.14 124.181 Q1282.24 124.181 1284.97 125.014 Q1287.73 125.824 1290.14 127.468 Z\" fill=\"#000000\" fill-rule=\"evenodd\" fill-opacity=\"1\" /><path clip-path=\"url(#clip440)\" d=\"M1307.22 136.426 Q1303.79 136.426 1301.8 139.111 Q1299.81 141.773 1299.81 146.426 Q1299.81 151.079 1301.78 153.764 Q1303.77 156.426 1307.22 156.426 Q1310.62 156.426 1312.61 153.741 Q1314.6 151.056 1314.6 146.426 Q1314.6 141.82 1312.61 139.134 Q1310.62 136.426 1307.22 136.426 M1307.22 132.815 Q1312.77 132.815 1315.95 136.426 Q1319.12 140.037 1319.12 146.426 Q1319.12 152.792 1315.95 156.426 Q1312.77 160.037 1307.22 160.037 Q1301.64 160.037 1298.47 156.426 Q1295.32 152.792 1295.32 146.426 Q1295.32 140.037 1298.47 136.426 Q1301.64 132.815 1307.22 132.815 Z\" fill=\"#000000\" fill-rule=\"evenodd\" fill-opacity=\"1\" /><path clip-path=\"url(#clip440)\" d=\"M1346.36 138.417 Q1347.96 135.547 1350.18 134.181 Q1352.4 132.815 1355.41 132.815 Q1359.46 132.815 1361.66 135.662 Q1363.86 138.486 1363.86 143.718 L1363.86 159.366 L1359.58 159.366 L1359.58 143.857 Q1359.58 140.13 1358.26 138.324 Q1356.94 136.519 1354.23 136.519 Q1350.92 136.519 1349 138.718 Q1347.08 140.917 1347.08 144.713 L1347.08 159.366 L1342.8 159.366 L1342.8 143.857 Q1342.8 140.107 1341.48 138.324 Q1340.16 136.519 1337.4 136.519 Q1334.14 136.519 1332.22 138.741 Q1330.3 140.94 1330.3 144.713 L1330.3 159.366 L1326.02 159.366 L1326.02 133.44 L1330.3 133.44 L1330.3 137.468 Q1331.76 135.084 1333.79 133.949 Q1335.83 132.815 1338.63 132.815 Q1341.46 132.815 1343.42 134.25 Q1345.41 135.685 1346.36 138.417 Z\" fill=\"#000000\" fill-rule=\"evenodd\" fill-opacity=\"1\" /><path clip-path=\"url(#clip440)\" d=\"M1376.48 155.477 L1376.48 169.227 L1372.2 169.227 L1372.2 133.44 L1376.48 133.44 L1376.48 137.375 Q1377.82 135.06 1379.86 133.949 Q1381.92 132.815 1384.77 132.815 Q1389.49 132.815 1392.43 136.565 Q1395.39 140.315 1395.39 146.426 Q1395.39 152.537 1392.43 156.287 Q1389.49 160.037 1384.77 160.037 Q1381.92 160.037 1379.86 158.926 Q1377.82 157.792 1376.48 155.477 M1390.97 146.426 Q1390.97 141.727 1389.02 139.065 Q1387.1 136.38 1383.72 136.38 Q1380.34 136.38 1378.4 139.065 Q1376.48 141.727 1376.48 146.426 Q1376.48 151.125 1378.4 153.81 Q1380.34 156.472 1383.72 156.472 Q1387.1 156.472 1389.02 153.81 Q1390.97 151.125 1390.97 146.426 Z\" fill=\"#000000\" fill-rule=\"evenodd\" fill-opacity=\"1\" /><path clip-path=\"url(#clip440)\" d=\"M1402.01 149.134 L1402.01 133.44 L1406.27 133.44 L1406.27 148.972 Q1406.27 152.653 1407.7 154.505 Q1409.14 156.333 1412.01 156.333 Q1415.46 156.333 1417.45 154.134 Q1419.46 151.935 1419.46 148.139 L1419.46 133.44 L1423.72 133.44 L1423.72 159.366 L1419.46 159.366 L1419.46 155.384 Q1417.91 157.746 1415.85 158.903 Q1413.82 160.037 1411.11 160.037 Q1406.64 160.037 1404.33 157.259 Q1402.01 154.482 1402.01 149.134 M1412.73 132.815 L1412.73 132.815 Z\" fill=\"#000000\" fill-rule=\"evenodd\" fill-opacity=\"1\" /><path clip-path=\"url(#clip440)\" d=\"M1436.71 126.079 L1436.71 133.44 L1445.48 133.44 L1445.48 136.75 L1436.71 136.75 L1436.71 150.824 Q1436.71 153.996 1437.57 154.898 Q1438.45 155.801 1441.11 155.801 L1445.48 155.801 L1445.48 159.366 L1441.11 159.366 Q1436.18 159.366 1434.3 157.537 Q1432.43 155.685 1432.43 150.824 L1432.43 136.75 L1429.3 136.75 L1429.3 133.44 L1432.43 133.44 L1432.43 126.079 L1436.71 126.079 Z\" fill=\"#000000\" fill-rule=\"evenodd\" fill-opacity=\"1\" /><path clip-path=\"url(#clip440)\" d=\"M1473.26 145.338 L1473.26 147.421 L1453.68 147.421 Q1453.95 151.82 1456.32 154.134 Q1458.7 156.426 1462.94 156.426 Q1465.39 156.426 1467.68 155.824 Q1470 155.222 1472.26 154.019 L1472.26 158.046 Q1469.97 159.019 1467.57 159.528 Q1465.16 160.037 1462.68 160.037 Q1456.48 160.037 1452.84 156.426 Q1449.23 152.815 1449.23 146.658 Q1449.23 140.292 1452.66 136.565 Q1456.11 132.815 1461.94 132.815 Q1467.17 132.815 1470.2 136.195 Q1473.26 139.551 1473.26 145.338 M1469 144.088 Q1468.95 140.593 1467.03 138.509 Q1465.14 136.426 1461.99 136.426 Q1458.42 136.426 1456.27 138.44 Q1454.14 140.454 1453.82 144.111 L1469 144.088 Z\" fill=\"#000000\" fill-rule=\"evenodd\" fill-opacity=\"1\" /><path clip-path=\"url(#clip440)\" d=\"M1497.31 137.375 L1497.31 123.348 L1501.57 123.348 L1501.57 159.366 L1497.31 159.366 L1497.31 155.477 Q1495.97 157.792 1493.91 158.926 Q1491.87 160.037 1489 160.037 Q1484.3 160.037 1481.34 156.287 Q1478.4 152.537 1478.4 146.426 Q1478.4 140.315 1481.34 136.565 Q1484.3 132.815 1489 132.815 Q1491.87 132.815 1493.91 133.949 Q1495.97 135.06 1497.31 137.375 M1482.8 146.426 Q1482.8 151.125 1484.72 153.81 Q1486.66 156.472 1490.04 156.472 Q1493.42 156.472 1495.37 153.81 Q1497.31 151.125 1497.31 146.426 Q1497.31 141.727 1495.37 139.065 Q1493.42 136.38 1490.04 136.38 Q1486.66 136.38 1484.72 139.065 Q1482.8 141.727 1482.8 146.426 Z\" fill=\"#000000\" fill-rule=\"evenodd\" fill-opacity=\"1\" /><path clip-path=\"url(#clip440)\" d=\"M1511.43 153.486 L1516.32 153.486 L1516.32 159.366 L1511.43 159.366 L1511.43 153.486 M1511.43 134.852 L1516.32 134.852 L1516.32 140.732 L1511.43 140.732 L1511.43 134.852 Z\" fill=\"#000000\" fill-rule=\"evenodd\" fill-opacity=\"1\" /><path clip-path=\"url(#clip440)\" d=\"M1558.28 133.063 L1546.16 133.063 L1546.16 132.014 L1558.28 132.014 L1558.28 133.063 Z\" fill=\"#000000\" fill-rule=\"evenodd\" fill-opacity=\"1\" /><path clip-path=\"url(#clip440)\" d=\"M1559.64 141.518 Q1559.64 142.127 1559.48 143.321 Q1559.31 144.516 1558.91 146.249 Q1558.52 147.983 1557.93 149.81 Q1557.37 151.636 1556.48 153.463 Q1555.59 155.267 1554.53 156.696 Q1553.48 158.124 1552 159.015 Q1550.53 159.905 1548.87 159.905 Q1548.09 159.905 1547.34 159.787 Q1546.59 159.67 1545.66 159.296 Q1544.72 158.921 1544.04 158.312 Q1543.36 157.679 1542.89 156.555 Q1542.43 155.431 1542.43 153.955 Q1542.43 152.433 1542.99 150.395 Q1543.57 148.334 1545.17 144.118 Q1545.99 141.94 1545.99 140.745 Q1545.99 140.206 1545.87 139.878 Q1545.75 139.527 1545.52 139.41 Q1545.28 139.269 1545.14 139.246 Q1545.03 139.223 1544.79 139.223 Q1543.5 139.223 1542.19 140.558 Q1540.88 141.893 1539.94 145.172 Q1539.75 145.757 1539.64 145.898 Q1539.52 146.038 1539.17 146.038 Q1538.58 146.015 1538.58 145.547 Q1538.58 145.406 1538.75 144.867 Q1538.91 144.305 1539.22 143.462 Q1539.52 142.595 1540.06 141.705 Q1540.6 140.792 1541.25 139.996 Q1541.93 139.199 1542.89 138.684 Q1543.85 138.169 1544.93 138.169 Q1546.69 138.169 1547.77 139.316 Q1548.87 140.441 1548.87 142.104 Q1548.87 143.017 1548.28 144.493 Q1547.3 147.163 1546.85 148.451 Q1546.41 149.739 1545.94 151.566 Q1545.49 153.393 1545.49 154.658 Q1545.49 156.579 1546.38 157.703 Q1547.27 158.827 1549.05 158.827 Q1550.65 158.827 1552.08 157.679 Q1553.53 156.508 1554.49 154.845 Q1555.45 153.159 1556.17 151.285 Q1556.9 149.388 1557.23 147.959 Q1557.58 146.507 1557.58 145.828 Q1557.58 143.462 1555.96 141.916 Q1555.52 141.471 1555.35 141.19 Q1555.19 140.909 1555.19 140.464 Q1555.19 139.644 1555.92 138.918 Q1556.67 138.169 1557.53 138.169 Q1558.33 138.169 1558.98 138.965 Q1559.64 139.761 1559.64 141.518 Z\" fill=\"#000000\" fill-rule=\"evenodd\" fill-opacity=\"1\" /><polyline clip-path=\"url(#clip440)\" style=\"stroke:#e26f46; stroke-linecap:round; stroke-linejoin:round; stroke-width:4; stroke-opacity:1; fill:none\" points=\"1128,197.898 1243.09,197.898 \"/>\n",
       "<path clip-path=\"url(#clip440)\" d=\"M1284.51 181.414 L1284.51 185.975 Q1281.85 184.701 1279.49 184.076 Q1277.13 183.451 1274.93 183.451 Q1271.11 183.451 1269.03 184.933 Q1266.96 186.414 1266.96 189.146 Q1266.96 191.438 1268.33 192.618 Q1269.72 193.775 1273.56 194.493 L1276.39 195.072 Q1281.62 196.067 1284.09 198.59 Q1286.59 201.09 1286.59 205.303 Q1286.59 210.326 1283.21 212.919 Q1279.86 215.511 1273.35 215.511 Q1270.9 215.511 1268.12 214.956 Q1265.37 214.4 1262.4 213.312 L1262.4 208.498 Q1265.25 210.095 1267.98 210.905 Q1270.71 211.715 1273.35 211.715 Q1277.36 211.715 1279.53 210.141 Q1281.71 208.567 1281.71 205.65 Q1281.71 203.104 1280.14 201.669 Q1278.59 200.234 1275.02 199.516 L1272.17 198.961 Q1266.94 197.919 1264.6 195.697 Q1262.27 193.475 1262.27 189.516 Q1262.27 184.933 1265.48 182.294 Q1268.72 179.655 1274.4 179.655 Q1276.83 179.655 1279.35 180.095 Q1281.87 180.535 1284.51 181.414 Z\" fill=\"#000000\" fill-rule=\"evenodd\" fill-opacity=\"1\" /><path clip-path=\"url(#clip440)\" d=\"M1293.7 188.914 L1297.96 188.914 L1297.96 214.84 L1293.7 214.84 L1293.7 188.914 M1293.7 178.822 L1297.96 178.822 L1297.96 184.215 L1293.7 184.215 L1293.7 178.822 Z\" fill=\"#000000\" fill-rule=\"evenodd\" fill-opacity=\"1\" /><path clip-path=\"url(#clip440)\" d=\"M1327.06 193.891 Q1328.65 191.021 1330.88 189.655 Q1333.1 188.289 1336.11 188.289 Q1340.16 188.289 1342.36 191.137 Q1344.56 193.961 1344.56 199.192 L1344.56 214.84 L1340.27 214.84 L1340.27 199.331 Q1340.27 195.604 1338.96 193.799 Q1337.64 191.993 1334.93 191.993 Q1331.62 191.993 1329.7 194.192 Q1327.77 196.391 1327.77 200.187 L1327.77 214.84 L1323.49 214.84 L1323.49 199.331 Q1323.49 195.581 1322.17 193.799 Q1320.85 191.993 1318.1 191.993 Q1314.84 191.993 1312.91 194.215 Q1310.99 196.414 1310.99 200.187 L1310.99 214.84 L1306.71 214.84 L1306.71 188.914 L1310.99 188.914 L1310.99 192.942 Q1312.45 190.558 1314.49 189.424 Q1316.52 188.289 1319.33 188.289 Q1322.15 188.289 1324.12 189.725 Q1326.11 191.16 1327.06 193.891 Z\" fill=\"#000000\" fill-rule=\"evenodd\" fill-opacity=\"1\" /><path clip-path=\"url(#clip440)\" d=\"M1352.61 204.609 L1352.61 188.914 L1356.87 188.914 L1356.87 204.447 Q1356.87 208.127 1358.31 209.979 Q1359.74 211.808 1362.61 211.808 Q1366.06 211.808 1368.05 209.609 Q1370.07 207.41 1370.07 203.613 L1370.07 188.914 L1374.33 188.914 L1374.33 214.84 L1370.07 214.84 L1370.07 210.859 Q1368.52 213.22 1366.46 214.377 Q1364.42 215.511 1361.71 215.511 Q1357.24 215.511 1354.93 212.734 Q1352.61 209.956 1352.61 204.609 M1363.33 188.289 L1363.33 188.289 Z\" fill=\"#000000\" fill-rule=\"evenodd\" fill-opacity=\"1\" /><path clip-path=\"url(#clip440)\" d=\"M1383.1 178.822 L1387.36 178.822 L1387.36 214.84 L1383.1 214.84 L1383.1 178.822 Z\" fill=\"#000000\" fill-rule=\"evenodd\" fill-opacity=\"1\" /><path clip-path=\"url(#clip440)\" d=\"M1408.05 201.808 Q1402.89 201.808 1400.9 202.988 Q1398.91 204.169 1398.91 207.016 Q1398.91 209.285 1400.39 210.627 Q1401.89 211.947 1404.46 211.947 Q1408.01 211.947 1410.14 209.447 Q1412.29 206.924 1412.29 202.757 L1412.29 201.808 L1408.05 201.808 M1416.55 200.049 L1416.55 214.84 L1412.29 214.84 L1412.29 210.905 Q1410.83 213.266 1408.65 214.4 Q1406.48 215.511 1403.33 215.511 Q1399.35 215.511 1396.99 213.289 Q1394.65 211.044 1394.65 207.294 Q1394.65 202.919 1397.57 200.697 Q1400.51 198.475 1406.32 198.475 L1412.29 198.475 L1412.29 198.058 Q1412.29 195.118 1410.34 193.521 Q1408.42 191.9 1404.93 191.9 Q1402.7 191.9 1400.6 192.433 Q1398.49 192.965 1396.55 194.03 L1396.55 190.095 Q1398.89 189.192 1401.08 188.752 Q1403.28 188.289 1405.37 188.289 Q1410.99 188.289 1413.77 191.206 Q1416.55 194.123 1416.55 200.049 Z\" fill=\"#000000\" fill-rule=\"evenodd\" fill-opacity=\"1\" /><path clip-path=\"url(#clip440)\" d=\"M1429.53 181.553 L1429.53 188.914 L1438.31 188.914 L1438.31 192.225 L1429.53 192.225 L1429.53 206.299 Q1429.53 209.47 1430.39 210.373 Q1431.27 211.275 1433.93 211.275 L1438.31 211.275 L1438.31 214.84 L1433.93 214.84 Q1429 214.84 1427.13 213.011 Q1425.25 211.16 1425.25 206.299 L1425.25 192.225 L1422.13 192.225 L1422.13 188.914 L1425.25 188.914 L1425.25 181.553 L1429.53 181.553 Z\" fill=\"#000000\" fill-rule=\"evenodd\" fill-opacity=\"1\" /><path clip-path=\"url(#clip440)\" d=\"M1466.08 200.812 L1466.08 202.896 L1446.5 202.896 Q1446.78 207.294 1449.14 209.609 Q1451.52 211.9 1455.76 211.9 Q1458.21 211.9 1460.51 211.299 Q1462.82 210.697 1465.09 209.493 L1465.09 213.521 Q1462.8 214.493 1460.39 215.002 Q1457.98 215.511 1455.51 215.511 Q1449.3 215.511 1445.67 211.9 Q1442.06 208.289 1442.06 202.132 Q1442.06 195.766 1445.48 192.039 Q1448.93 188.289 1454.76 188.289 Q1460 188.289 1463.03 191.669 Q1466.08 195.025 1466.08 200.812 M1461.82 199.562 Q1461.78 196.067 1459.86 193.984 Q1457.96 191.9 1454.81 191.9 Q1451.25 191.9 1449.09 193.914 Q1446.96 195.928 1446.64 199.586 L1461.82 199.562 Z\" fill=\"#000000\" fill-rule=\"evenodd\" fill-opacity=\"1\" /><path clip-path=\"url(#clip440)\" d=\"M1490.14 192.85 L1490.14 178.822 L1494.39 178.822 L1494.39 214.84 L1490.14 214.84 L1490.14 210.951 Q1488.79 213.266 1486.73 214.4 Q1484.7 215.511 1481.82 215.511 Q1477.13 215.511 1474.16 211.761 Q1471.22 208.012 1471.22 201.9 Q1471.22 195.789 1474.16 192.039 Q1477.13 188.289 1481.82 188.289 Q1484.7 188.289 1486.73 189.424 Q1488.79 190.535 1490.14 192.85 M1475.62 201.9 Q1475.62 206.599 1477.54 209.285 Q1479.49 211.947 1482.87 211.947 Q1486.25 211.947 1488.19 209.285 Q1490.14 206.599 1490.14 201.9 Q1490.14 197.201 1488.19 194.539 Q1486.25 191.854 1482.87 191.854 Q1479.49 191.854 1477.54 194.539 Q1475.62 197.201 1475.62 201.9 Z\" fill=\"#000000\" fill-rule=\"evenodd\" fill-opacity=\"1\" /><path clip-path=\"url(#clip440)\" d=\"M1504.26 208.961 L1509.14 208.961 L1509.14 214.84 L1504.26 214.84 L1504.26 208.961 M1504.26 190.326 L1509.14 190.326 L1509.14 196.206 L1504.26 196.206 L1504.26 190.326 Z\" fill=\"#000000\" fill-rule=\"evenodd\" fill-opacity=\"1\" /><path clip-path=\"url(#clip440)\" d=\"M1550.8 196.992 Q1550.8 197.601 1550.63 198.796 Q1550.47 199.99 1550.07 201.724 Q1549.67 203.457 1549.09 205.284 Q1548.53 207.111 1547.64 208.938 Q1546.75 210.741 1545.69 212.17 Q1544.64 213.599 1543.16 214.489 Q1541.69 215.379 1540.02 215.379 Q1539.25 215.379 1538.5 215.262 Q1537.75 215.145 1536.81 214.77 Q1535.88 214.395 1535.2 213.786 Q1534.52 213.154 1534.05 212.029 Q1533.58 210.905 1533.58 209.43 Q1533.58 207.907 1534.14 205.869 Q1534.73 203.808 1536.32 199.592 Q1537.14 197.414 1537.14 196.219 Q1537.14 195.681 1537.03 195.353 Q1536.91 195.001 1536.67 194.884 Q1536.44 194.744 1536.3 194.72 Q1536.18 194.697 1535.95 194.697 Q1534.66 194.697 1533.35 196.032 Q1532.04 197.367 1531.1 200.646 Q1530.91 201.232 1530.8 201.372 Q1530.68 201.513 1530.33 201.513 Q1529.74 201.489 1529.74 201.021 Q1529.74 200.88 1529.91 200.342 Q1530.07 199.78 1530.37 198.936 Q1530.68 198.07 1531.22 197.18 Q1531.76 196.266 1532.41 195.47 Q1533.09 194.673 1534.05 194.158 Q1535.01 193.643 1536.09 193.643 Q1537.85 193.643 1538.92 194.791 Q1540.02 195.915 1540.02 197.578 Q1540.02 198.491 1539.44 199.967 Q1538.45 202.637 1538.01 203.925 Q1537.56 205.214 1537.1 207.041 Q1536.65 208.867 1536.65 210.132 Q1536.65 212.053 1537.54 213.177 Q1538.43 214.301 1540.21 214.301 Q1541.8 214.301 1543.23 213.154 Q1544.68 211.983 1545.65 210.32 Q1546.61 208.633 1547.33 206.759 Q1548.06 204.862 1548.39 203.433 Q1548.74 201.981 1548.74 201.302 Q1548.74 198.936 1547.12 197.39 Q1546.68 196.945 1546.51 196.664 Q1546.35 196.383 1546.35 195.938 Q1546.35 195.118 1547.07 194.392 Q1547.82 193.643 1548.69 193.643 Q1549.49 193.643 1550.14 194.439 Q1550.8 195.236 1550.8 196.992 Z\" fill=\"#000000\" fill-rule=\"evenodd\" fill-opacity=\"1\" /><path clip-path=\"url(#clip440)\" d=\"M1571.5 181.015 L1563.01 181.015 L1563.01 180.281 L1571.5 180.281 L1571.5 181.015 Z\" fill=\"#000000\" fill-rule=\"evenodd\" fill-opacity=\"1\" /><path clip-path=\"url(#clip440)\" d=\"M1573.84 185.397 Q1573.84 186.545 1572.2 186.545 L1568.37 186.545 Q1567.77 189.267 1567.77 191.89 Q1567.77 195.022 1568.74 197.432 Q1568.94 197.907 1568.94 198.17 Q1568.94 198.662 1568.5 199.055 Q1568.07 199.449 1567.56 199.449 Q1567.14 199.449 1566.86 199.121 Q1566.59 198.793 1566.36 197.76 Q1566.09 196.547 1566.09 195.202 Q1566.09 193.595 1566.35 192.054 Q1566.61 190.497 1567.5 186.545 L1563.71 186.545 L1561.82 193.972 Q1561.15 196.481 1560.92 197.252 Q1560.77 197.711 1560.72 197.858 Q1560.68 198.006 1560.53 198.366 Q1560.4 198.711 1560.3 198.842 Q1560.2 198.957 1560.04 199.137 Q1559.87 199.334 1559.68 199.383 Q1559.48 199.449 1559.23 199.449 Q1558.86 199.449 1558.56 199.203 Q1558.27 198.973 1558.27 198.53 Q1558.27 198.235 1558.53 197.727 Q1561.64 191.005 1562.82 186.545 L1560.92 186.545 Q1558.3 186.545 1556.66 189.136 Q1556.4 189.48 1556.25 189.513 Q1556.18 189.529 1556.12 189.529 Q1555.94 189.529 1555.82 189.447 Q1555.72 189.365 1555.72 189.283 L1555.71 189.201 Q1555.71 189.103 1555.95 188.66 Q1556.22 188.201 1556.71 187.496 Q1557.22 186.791 1557.76 186.184 Q1558.28 185.627 1558.79 185.283 Q1559.31 184.922 1559.81 184.791 Q1560.3 184.66 1560.58 184.627 Q1560.86 184.594 1561.25 184.594 L1572.5 184.594 Q1572.92 184.594 1573.15 184.627 Q1573.38 184.643 1573.61 184.84 Q1573.84 185.02 1573.84 185.397 Z\" fill=\"#000000\" fill-rule=\"evenodd\" fill-opacity=\"1\" /></svg>\n"
      ]
     },
     "metadata": {},
     "output_type": "display_data"
    }
   ],
   "source": [
    "plot(results.Risk, results.computed, label= L\"Computed: $\\bar{v}$\", size = (500,300),\n",
    "xlabel=\"Risk level: α\",\n",
    "ylabel= L\"Value function: $v_1(s_2)$\" ,\n",
    "legend=(0.6,0.9))\n",
    "plot!(results.Risk, results.simulated, label=L\"Simulated: $v^{\\bar{\\pi}}$\") |> display"
   ]
  }
 ],
 "metadata": {
  "kernelspec": {
   "display_name": "Julia 1.8.5",
   "language": "julia",
   "name": "julia-1.8"
  },
  "language_info": {
   "file_extension": ".jl",
   "mimetype": "application/julia",
   "name": "julia",
   "version": "1.8.5"
  }
 },
 "nbformat": 4,
 "nbformat_minor": 5
}
